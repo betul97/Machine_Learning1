{
 "cells": [
  {
   "cell_type": "code",
   "execution_count": 1,
   "id": "ad557547",
   "metadata": {},
   "outputs": [],
   "source": [
    "#import the required modules\n",
    "from sklearn.datasets import make_classification\n",
    "from matplotlib import pyplot as plt\n",
    "from sklearn.linear_model import LogisticRegression\n",
    "from sklearn.model_selection import train_test_split\n",
    "from sklearn.metrics import confusion_matrix\n",
    "import pandas as pd"
   ]
  },
  {
   "cell_type": "code",
   "execution_count": 2,
   "id": "231f4c75",
   "metadata": {},
   "outputs": [],
   "source": [
    "#generate the dataset\n",
    "x, y = make_classification(\n",
    "    n_samples=100,\n",
    "    n_features=1,\n",
    "    n_classes=2,\n",
    "    n_clusters_per_class=1,\n",
    "    flip_y=0.03,\n",
    "    n_informative=1,\n",
    "    n_redundant=0,\n",
    "    n_repeated=0\n",
    ")"
   ]
  },
  {
   "cell_type": "code",
   "execution_count": 4,
   "id": "d0215ead",
   "metadata": {},
   "outputs": [
    {
     "name": "stdout",
     "output_type": "stream",
     "text": [
      "[[-0.85380696]\n",
      " [ 2.63041527]\n",
      " [-1.20978644]\n",
      " [ 0.41666979]\n",
      " [ 1.76648587]\n",
      " [-1.21103139]\n",
      " [ 1.63835696]\n",
      " [ 1.08503099]\n",
      " [-1.18547623]\n",
      " [ 0.76452225]\n",
      " [ 1.45414306]\n",
      " [ 0.8621944 ]\n",
      " [-0.76923338]\n",
      " [-1.14796021]\n",
      " [-1.09031642]\n",
      " [-1.43710188]\n",
      " [-0.96701168]\n",
      " [-0.91258837]\n",
      " [ 0.25266033]\n",
      " [-0.65215749]\n",
      " [ 1.23880338]\n",
      " [ 2.12260683]\n",
      " [-0.81326234]\n",
      " [-1.1306573 ]\n",
      " [ 0.778723  ]\n",
      " [-0.96558281]\n",
      " [-0.60004273]\n",
      " [-0.026503  ]\n",
      " [ 1.69566862]\n",
      " [ 0.18386729]\n",
      " [-0.7690193 ]\n",
      " [ 1.23730152]\n",
      " [-0.56724857]\n",
      " [-0.72000935]\n",
      " [ 1.9869035 ]\n",
      " [-1.06267368]\n",
      " [-0.78644625]\n",
      " [-0.14241028]\n",
      " [ 0.37097441]\n",
      " [-1.14085247]\n",
      " [-0.78333839]\n",
      " [ 3.00734488]\n",
      " [-1.18836308]\n",
      " [-1.21526163]\n",
      " [-0.57865693]\n",
      " [ 0.3593194 ]\n",
      " [ 1.24511605]\n",
      " [-0.92754557]\n",
      " [ 0.29104763]\n",
      " [-1.19732334]\n",
      " [-0.63847842]\n",
      " [ 0.73424251]\n",
      " [ 1.43371951]\n",
      " [ 1.45820916]\n",
      " [ 1.41051571]\n",
      " [ 1.07625529]\n",
      " [-0.5300375 ]\n",
      " [-0.93995393]\n",
      " [ 0.79048378]\n",
      " [ 2.10031357]\n",
      " [-0.99713257]\n",
      " [ 0.85598442]\n",
      " [-0.91283177]\n",
      " [ 2.27177751]\n",
      " [ 2.3426329 ]\n",
      " [-0.87934461]\n",
      " [ 2.14713766]\n",
      " [ 1.24542135]\n",
      " [ 1.65421742]\n",
      " [-0.30805096]\n",
      " [-1.02272845]\n",
      " [-1.23437596]\n",
      " [ 0.41788886]\n",
      " [-0.67763158]\n",
      " [-0.77062038]\n",
      " [ 1.64684177]\n",
      " [-0.71166171]\n",
      " [ 0.73160298]\n",
      " [-1.04857867]\n",
      " [-1.19924713]\n",
      " [-0.77384216]\n",
      " [ 2.91270823]\n",
      " [-1.03798198]\n",
      " [ 1.4041542 ]\n",
      " [-1.0956402 ]\n",
      " [-1.19912433]\n",
      " [-0.43537609]\n",
      " [-1.39065976]\n",
      " [ 1.76055232]\n",
      " [ 1.06216868]\n",
      " [ 0.20772182]\n",
      " [ 1.4309585 ]\n",
      " [-1.22575733]\n",
      " [ 1.23278685]\n",
      " [-1.13769113]\n",
      " [-1.12688672]\n",
      " [-0.93945347]\n",
      " [ 2.66535365]\n",
      " [-0.82512509]\n",
      " [ 1.54582619]]\n"
     ]
    }
   ],
   "source": [
    "print(x)"
   ]
  },
  {
   "cell_type": "code",
   "execution_count": 5,
   "id": "7143c997",
   "metadata": {},
   "outputs": [
    {
     "name": "stdout",
     "output_type": "stream",
     "text": [
      "[0 1 0 1 1 0 1 0 0 1 1 1 0 0 0 0 0 0 1 0 1 1 0 0 1 0 0 1 1 1 0 1 1 0 1 0 0\n",
      " 0 1 0 0 1 0 0 0 1 1 0 1 0 0 1 1 1 1 1 0 0 1 1 0 1 0 1 1 0 1 1 1 1 0 0 1 0\n",
      " 0 1 0 1 0 0 0 1 0 1 0 0 1 0 1 1 1 1 0 1 0 0 0 1 0 1]\n"
     ]
    }
   ],
   "source": [
    "print(y)"
   ]
  },
  {
   "cell_type": "code",
   "execution_count": 3,
   "id": "3857c496",
   "metadata": {},
   "outputs": [
    {
     "data": {
      "image/png": "[encoded data removed]",
      "text/plain": [
       "<Figure size 432x288 with 1 Axes>"
      ]
     },
     "metadata": {
      "needs_background": "light"
     },
     "output_type": "display_data"
    }
   ],
   "source": [
    "#visualise the data\n",
    "plt.scatter(x, y, c=y, cmap='rainbow')\n",
    "plt.title('Scatter Plot of Logistic Regression')\n",
    "plt.show()"
   ]
  },
  {
   "cell_type": "code",
   "execution_count": 6,
   "id": "4f1ec93c",
   "metadata": {},
   "outputs": [],
   "source": [
    "#split the dataset into training and test dataset\n",
    "x_train, x_test, y_train, y_test = train_test_split(x, y, random_state=1)"
   ]
  },
  {
   "cell_type": "code",
   "execution_count": 7,
   "id": "836836c9",
   "metadata": {},
   "outputs": [
    {
     "data": {
      "text/plain": [
       "LogisticRegression()"
      ]
     },
     "execution_count": 7,
     "metadata": {},
     "output_type": "execute_result"
    }
   ],
   "source": [
    "#create logistic regression object, perform logistic regression \n",
    "log_reg = LogisticRegression()\n",
    "log_reg.fit(x_train, y_train)"
   ]
  },
  {
   "cell_type": "code",
   "execution_count": 8,
   "id": "d56cac8d",
   "metadata": {},
   "outputs": [
    {
     "data": {
      "text/plain": [
       "(75, 1)"
      ]
     },
     "execution_count": 8,
     "metadata": {},
     "output_type": "execute_result"
    }
   ],
   "source": [
    "x_train.shape"
   ]
  },
  {
   "cell_type": "code",
   "execution_count": 12,
   "id": "ac0162c5",
   "metadata": {},
   "outputs": [],
   "source": [
    "#make predictions using the test dataset\n",
    "y_pred = log_reg.predict(x_test)"
   ]
  },
  {
   "cell_type": "code",
   "execution_count": 13,
   "id": "569ee4e9",
   "metadata": {},
   "outputs": [
    {
     "data": {
      "text/plain": [
       "array([[16,  0],\n",
       "       [ 2,  7]])"
      ]
     },
     "execution_count": 13,
     "metadata": {},
     "output_type": "execute_result"
    }
   ],
   "source": [
    "#Display the confusion matrix\n",
    "# Show the Confusion Matrix\n",
    "confusion_matrix(y_test, y_pred)"
   ]
  },
  {
   "cell_type": "code",
   "execution_count": null,
   "id": "f5594702",
   "metadata": {},
   "outputs": [],
   "source": [
    "#We can deduce from the matrix that\n",
    "# True positive: 16 (upper-left) – Number of positives we predicted correctly\n",
    "# True negative: 7(lower-right) – Number of negatives we predicted correctly\n",
    "# False positive: 0(top-right) – Number of positives we predicted wrongly\n",
    "# False negative:  1(lower-left) – Number of negatives we predicted wrongly"
   ]
  }
 ],
 "metadata": {
  "kernelspec": {
   "display_name": "Python 3 (ipykernel)",
   "language": "python",
   "name": "python3"
  },
  "language_info": {
   "codemirror_mode": {
    "name": "ipython",
    "version": 3
   },
   "file_extension": ".py",
   "mimetype": "text/x-python",
   "name": "python",
   "nbconvert_exporter": "python",
   "pygments_lexer": "ipython3",
   "version": "3.9.12"
  }
 },
 "nbformat": 4,
 "nbformat_minor": 5
}
