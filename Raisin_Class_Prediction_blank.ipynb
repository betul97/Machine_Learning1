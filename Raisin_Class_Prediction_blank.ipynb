{
 "cells": [
  {
   "cell_type": "markdown",
   "id": "eqVwSPRnHMul",
   "metadata": {
    "id": "eqVwSPRnHMul"
   },
   "source": [
    "___\n",
    "\n",
    "<p style=\"text-align: center;\"><img src=\"https://docs.google.com/uc?id=1lY0Uj5R04yMY3-ZppPWxqCr5pvBLYPnV\" class=\"img-fluid\" alt=\"CLRSWY\"></p>\n",
    "\n",
    "___"
   ]
  },
  {
   "cell_type": "markdown",
   "id": "6608d87a-1718-4198-aa94-5018bed4a106",
   "metadata": {
    "id": "6608d87a-1718-4198-aa94-5018bed4a106"
   },
   "source": [
    "# Raisin Class Prediction"
   ]
  },
  {
   "cell_type": "markdown",
   "id": "392a02f0-fdda-44ae-a0fc-97f3b03924a9",
   "metadata": {
    "id": "392a02f0-fdda-44ae-a0fc-97f3b03924a9"
   },
   "source": [
    "Data Set Information:\n",
    "\n",
    "Images of Kecimen and Besni raisin varieties grown in Turkey were obtained with CVS. A total of 900 raisin grains were used, including 450 pieces from both varieties. These images were subjected to various stages of pre-processing and 7 morphological features were extracted. These features have been classified using three different artificial intelligence techniques.\n",
    "\n",
    "\n",
    "Attribute Information:\n",
    "\n",
    "1. Area: Gives the number of pixels within the boundaries of the raisin.\n",
    "2. Perimeter: It measures the environment by calculating the distance between the boundaries of the raisin and the pixels around it.\n",
    "3. MajorAxisLength: Gives the length of the main axis, which is the longest line that can be drawn on the raisin.\n",
    "4. MinorAxisLength: Gives the length of the small axis, which is the shortest line that can be drawn on the raisin.\n",
    "5. Eccentricity: It gives a measure of the eccentricity of the ellipse, which has the same moments as raisins.\n",
    "6. ConvexArea: Gives the number of pixels of the smallest convex shell of the region formed by the raisin.\n",
    "7. Extent: Gives the ratio of the region formed by the raisin to the total pixels in the bounding box.\n",
    "8. Class: Kecimen and Besni raisin.\n",
    "\n",
    "https://archive.ics.uci.edu/ml/datasets/Raisin+Dataset"
   ]
  },
  {
   "cell_type": "code",
   "execution_count": 1,
   "id": "f2779bef",
   "metadata": {},
   "outputs": [
    {
     "name": "stdout",
     "output_type": "stream",
     "text": [
      "Requirement already satisfied: plotly in /Users/arifkirsakal/opt/anaconda3/lib/python3.9/site-packages (5.6.0)\n",
      "Requirement already satisfied: six in /Users/arifkirsakal/opt/anaconda3/lib/python3.9/site-packages (from plotly) (1.16.0)\n",
      "Requirement already satisfied: tenacity>=6.2.0 in /Users/arifkirsakal/opt/anaconda3/lib/python3.9/site-packages (from plotly) (8.0.1)\n",
      "\n",
      "\u001b[1m[\u001b[0m\u001b[34;49mnotice\u001b[0m\u001b[1;39;49m]\u001b[0m\u001b[39;49m A new release of pip available: \u001b[0m\u001b[31;49m22.2.2\u001b[0m\u001b[39;49m -> \u001b[0m\u001b[32;49m22.3.1\u001b[0m\n",
      "\u001b[1m[\u001b[0m\u001b[34;49mnotice\u001b[0m\u001b[1;39;49m]\u001b[0m\u001b[39;49m To update, run: \u001b[0m\u001b[32;49mpip install --upgrade pip\u001b[0m\n",
      "Note: you may need to restart the kernel to use updated packages.\n"
     ]
    }
   ],
   "source": [
    "pip install plotly"
   ]
  },
  {
   "cell_type": "code",
   "execution_count": 2,
   "id": "7714a6b4",
   "metadata": {},
   "outputs": [
    {
     "name": "stdout",
     "output_type": "stream",
     "text": [
      "Requirement already satisfied: cufflinks in /Users/arifkirsakal/opt/anaconda3/lib/python3.9/site-packages (0.17.3)\n",
      "Requirement already satisfied: ipywidgets>=7.0.0 in /Users/arifkirsakal/opt/anaconda3/lib/python3.9/site-packages (from cufflinks) (7.6.5)\n",
      "Requirement already satisfied: setuptools>=34.4.1 in /Users/arifkirsakal/opt/anaconda3/lib/python3.9/site-packages (from cufflinks) (61.2.0)\n",
      "Requirement already satisfied: pandas>=0.19.2 in /Users/arifkirsakal/opt/anaconda3/lib/python3.9/site-packages (from cufflinks) (1.4.2)\n",
      "Requirement already satisfied: colorlover>=0.2.1 in /Users/arifkirsakal/opt/anaconda3/lib/python3.9/site-packages (from cufflinks) (0.3.0)\n",
      "Requirement already satisfied: numpy>=1.9.2 in /Users/arifkirsakal/opt/anaconda3/lib/python3.9/site-packages (from cufflinks) (1.22.4)\n",
      "Requirement already satisfied: six>=1.9.0 in /Users/arifkirsakal/opt/anaconda3/lib/python3.9/site-packages (from cufflinks) (1.16.0)\n",
      "Requirement already satisfied: ipython>=5.3.0 in /Users/arifkirsakal/opt/anaconda3/lib/python3.9/site-packages (from cufflinks) (8.2.0)\n",
      "Requirement already satisfied: plotly>=4.1.1 in /Users/arifkirsakal/opt/anaconda3/lib/python3.9/site-packages (from cufflinks) (5.6.0)\n",
      "Requirement already satisfied: decorator in /Users/arifkirsakal/opt/anaconda3/lib/python3.9/site-packages (from ipython>=5.3.0->cufflinks) (5.1.1)\n",
      "Requirement already satisfied: pexpect>4.3 in /Users/arifkirsakal/opt/anaconda3/lib/python3.9/site-packages (from ipython>=5.3.0->cufflinks) (4.8.0)\n",
      "Requirement already satisfied: backcall in /Users/arifkirsakal/opt/anaconda3/lib/python3.9/site-packages (from ipython>=5.3.0->cufflinks) (0.2.0)\n",
      "Requirement already satisfied: matplotlib-inline in /Users/arifkirsakal/opt/anaconda3/lib/python3.9/site-packages (from ipython>=5.3.0->cufflinks) (0.1.2)\n",
      "Requirement already satisfied: pygments>=2.4.0 in /Users/arifkirsakal/opt/anaconda3/lib/python3.9/site-packages (from ipython>=5.3.0->cufflinks) (2.11.2)\n",
      "Requirement already satisfied: pickleshare in /Users/arifkirsakal/opt/anaconda3/lib/python3.9/site-packages (from ipython>=5.3.0->cufflinks) (0.7.5)\n",
      "Requirement already satisfied: appnope in /Users/arifkirsakal/opt/anaconda3/lib/python3.9/site-packages (from ipython>=5.3.0->cufflinks) (0.1.2)\n",
      "Requirement already satisfied: prompt-toolkit!=3.0.0,!=3.0.1,<3.1.0,>=2.0.0 in /Users/arifkirsakal/opt/anaconda3/lib/python3.9/site-packages (from ipython>=5.3.0->cufflinks) (3.0.20)\n",
      "Requirement already satisfied: stack-data in /Users/arifkirsakal/opt/anaconda3/lib/python3.9/site-packages (from ipython>=5.3.0->cufflinks) (0.2.0)\n",
      "Requirement already satisfied: traitlets>=5 in /Users/arifkirsakal/opt/anaconda3/lib/python3.9/site-packages (from ipython>=5.3.0->cufflinks) (5.1.1)\n",
      "Requirement already satisfied: jedi>=0.16 in /Users/arifkirsakal/opt/anaconda3/lib/python3.9/site-packages (from ipython>=5.3.0->cufflinks) (0.18.1)\n",
      "Requirement already satisfied: jupyterlab-widgets>=1.0.0 in /Users/arifkirsakal/opt/anaconda3/lib/python3.9/site-packages (from ipywidgets>=7.0.0->cufflinks) (1.0.0)\n",
      "Requirement already satisfied: ipykernel>=4.5.1 in /Users/arifkirsakal/opt/anaconda3/lib/python3.9/site-packages (from ipywidgets>=7.0.0->cufflinks) (6.9.1)\n",
      "Requirement already satisfied: ipython-genutils~=0.2.0 in /Users/arifkirsakal/opt/anaconda3/lib/python3.9/site-packages (from ipywidgets>=7.0.0->cufflinks) (0.2.0)\n",
      "Requirement already satisfied: nbformat>=4.2.0 in /Users/arifkirsakal/opt/anaconda3/lib/python3.9/site-packages (from ipywidgets>=7.0.0->cufflinks) (5.3.0)\n",
      "Requirement already satisfied: widgetsnbextension~=3.5.0 in /Users/arifkirsakal/opt/anaconda3/lib/python3.9/site-packages (from ipywidgets>=7.0.0->cufflinks) (3.5.2)\n",
      "Requirement already satisfied: python-dateutil>=2.8.1 in /Users/arifkirsakal/opt/anaconda3/lib/python3.9/site-packages (from pandas>=0.19.2->cufflinks) (2.8.2)\n",
      "Requirement already satisfied: pytz>=2020.1 in /Users/arifkirsakal/opt/anaconda3/lib/python3.9/site-packages (from pandas>=0.19.2->cufflinks) (2021.3)\n",
      "Requirement already satisfied: tenacity>=6.2.0 in /Users/arifkirsakal/opt/anaconda3/lib/python3.9/site-packages (from plotly>=4.1.1->cufflinks) (8.0.1)\n",
      "Requirement already satisfied: jupyter-client<8.0 in /Users/arifkirsakal/opt/anaconda3/lib/python3.9/site-packages (from ipykernel>=4.5.1->ipywidgets>=7.0.0->cufflinks) (6.1.12)\n",
      "Requirement already satisfied: nest-asyncio in /Users/arifkirsakal/opt/anaconda3/lib/python3.9/site-packages (from ipykernel>=4.5.1->ipywidgets>=7.0.0->cufflinks) (1.5.5)\n",
      "Requirement already satisfied: tornado<7.0,>=4.2 in /Users/arifkirsakal/opt/anaconda3/lib/python3.9/site-packages (from ipykernel>=4.5.1->ipywidgets>=7.0.0->cufflinks) (6.1)\n",
      "Requirement already satisfied: debugpy<2.0,>=1.0.0 in /Users/arifkirsakal/opt/anaconda3/lib/python3.9/site-packages (from ipykernel>=4.5.1->ipywidgets>=7.0.0->cufflinks) (1.5.1)\n",
      "Requirement already satisfied: parso<0.9.0,>=0.8.0 in /Users/arifkirsakal/opt/anaconda3/lib/python3.9/site-packages (from jedi>=0.16->ipython>=5.3.0->cufflinks) (0.8.3)\n",
      "Requirement already satisfied: jsonschema>=2.6 in /Users/arifkirsakal/opt/anaconda3/lib/python3.9/site-packages (from nbformat>=4.2.0->ipywidgets>=7.0.0->cufflinks) (4.4.0)\n",
      "Requirement already satisfied: jupyter-core in /Users/arifkirsakal/opt/anaconda3/lib/python3.9/site-packages (from nbformat>=4.2.0->ipywidgets>=7.0.0->cufflinks) (4.9.2)\n",
      "Requirement already satisfied: fastjsonschema in /Users/arifkirsakal/opt/anaconda3/lib/python3.9/site-packages (from nbformat>=4.2.0->ipywidgets>=7.0.0->cufflinks) (2.15.1)\n",
      "Requirement already satisfied: ptyprocess>=0.5 in /Users/arifkirsakal/opt/anaconda3/lib/python3.9/site-packages (from pexpect>4.3->ipython>=5.3.0->cufflinks) (0.7.0)\n",
      "Requirement already satisfied: wcwidth in /Users/arifkirsakal/opt/anaconda3/lib/python3.9/site-packages (from prompt-toolkit!=3.0.0,!=3.0.1,<3.1.0,>=2.0.0->ipython>=5.3.0->cufflinks) (0.2.5)\n",
      "Requirement already satisfied: notebook>=4.4.1 in /Users/arifkirsakal/opt/anaconda3/lib/python3.9/site-packages (from widgetsnbextension~=3.5.0->ipywidgets>=7.0.0->cufflinks) (6.4.8)\n",
      "Requirement already satisfied: asttokens in /Users/arifkirsakal/opt/anaconda3/lib/python3.9/site-packages (from stack-data->ipython>=5.3.0->cufflinks) (2.0.5)\n",
      "Requirement already satisfied: executing in /Users/arifkirsakal/opt/anaconda3/lib/python3.9/site-packages (from stack-data->ipython>=5.3.0->cufflinks) (0.8.3)\n",
      "Requirement already satisfied: pure-eval in /Users/arifkirsakal/opt/anaconda3/lib/python3.9/site-packages (from stack-data->ipython>=5.3.0->cufflinks) (0.2.2)\n",
      "Requirement already satisfied: pyrsistent!=0.17.0,!=0.17.1,!=0.17.2,>=0.14.0 in /Users/arifkirsakal/opt/anaconda3/lib/python3.9/site-packages (from jsonschema>=2.6->nbformat>=4.2.0->ipywidgets>=7.0.0->cufflinks) (0.18.0)\n",
      "Requirement already satisfied: attrs>=17.4.0 in /Users/arifkirsakal/opt/anaconda3/lib/python3.9/site-packages (from jsonschema>=2.6->nbformat>=4.2.0->ipywidgets>=7.0.0->cufflinks) (21.4.0)\n",
      "Requirement already satisfied: pyzmq>=13 in /Users/arifkirsakal/opt/anaconda3/lib/python3.9/site-packages (from jupyter-client<8.0->ipykernel>=4.5.1->ipywidgets>=7.0.0->cufflinks) (22.3.0)\n",
      "Requirement already satisfied: prometheus-client in /Users/arifkirsakal/opt/anaconda3/lib/python3.9/site-packages (from notebook>=4.4.1->widgetsnbextension~=3.5.0->ipywidgets>=7.0.0->cufflinks) (0.13.1)\n",
      "Requirement already satisfied: Send2Trash>=1.8.0 in /Users/arifkirsakal/opt/anaconda3/lib/python3.9/site-packages (from notebook>=4.4.1->widgetsnbextension~=3.5.0->ipywidgets>=7.0.0->cufflinks) (1.8.0)\n",
      "Requirement already satisfied: jinja2 in /Users/arifkirsakal/opt/anaconda3/lib/python3.9/site-packages (from notebook>=4.4.1->widgetsnbextension~=3.5.0->ipywidgets>=7.0.0->cufflinks) (2.11.3)\n",
      "Requirement already satisfied: nbconvert in /Users/arifkirsakal/opt/anaconda3/lib/python3.9/site-packages (from notebook>=4.4.1->widgetsnbextension~=3.5.0->ipywidgets>=7.0.0->cufflinks) (6.4.4)\n",
      "Requirement already satisfied: argon2-cffi in /Users/arifkirsakal/opt/anaconda3/lib/python3.9/site-packages (from notebook>=4.4.1->widgetsnbextension~=3.5.0->ipywidgets>=7.0.0->cufflinks) (21.3.0)\n",
      "Requirement already satisfied: terminado>=0.8.3 in /Users/arifkirsakal/opt/anaconda3/lib/python3.9/site-packages (from notebook>=4.4.1->widgetsnbextension~=3.5.0->ipywidgets>=7.0.0->cufflinks) (0.13.1)\n"
     ]
    },
    {
     "name": "stdout",
     "output_type": "stream",
     "text": [
      "Requirement already satisfied: argon2-cffi-bindings in /Users/arifkirsakal/opt/anaconda3/lib/python3.9/site-packages (from argon2-cffi->notebook>=4.4.1->widgetsnbextension~=3.5.0->ipywidgets>=7.0.0->cufflinks) (21.2.0)\n",
      "Requirement already satisfied: MarkupSafe>=0.23 in /Users/arifkirsakal/opt/anaconda3/lib/python3.9/site-packages (from jinja2->notebook>=4.4.1->widgetsnbextension~=3.5.0->ipywidgets>=7.0.0->cufflinks) (2.0.1)\n",
      "Requirement already satisfied: mistune<2,>=0.8.1 in /Users/arifkirsakal/opt/anaconda3/lib/python3.9/site-packages (from nbconvert->notebook>=4.4.1->widgetsnbextension~=3.5.0->ipywidgets>=7.0.0->cufflinks) (0.8.4)\n",
      "Requirement already satisfied: pandocfilters>=1.4.1 in /Users/arifkirsakal/opt/anaconda3/lib/python3.9/site-packages (from nbconvert->notebook>=4.4.1->widgetsnbextension~=3.5.0->ipywidgets>=7.0.0->cufflinks) (1.5.0)\n",
      "Requirement already satisfied: testpath in /Users/arifkirsakal/opt/anaconda3/lib/python3.9/site-packages (from nbconvert->notebook>=4.4.1->widgetsnbextension~=3.5.0->ipywidgets>=7.0.0->cufflinks) (0.5.0)\n",
      "Requirement already satisfied: jupyterlab-pygments in /Users/arifkirsakal/opt/anaconda3/lib/python3.9/site-packages (from nbconvert->notebook>=4.4.1->widgetsnbextension~=3.5.0->ipywidgets>=7.0.0->cufflinks) (0.1.2)\n",
      "Requirement already satisfied: entrypoints>=0.2.2 in /Users/arifkirsakal/opt/anaconda3/lib/python3.9/site-packages (from nbconvert->notebook>=4.4.1->widgetsnbextension~=3.5.0->ipywidgets>=7.0.0->cufflinks) (0.4)\n",
      "Requirement already satisfied: bleach in /Users/arifkirsakal/opt/anaconda3/lib/python3.9/site-packages (from nbconvert->notebook>=4.4.1->widgetsnbextension~=3.5.0->ipywidgets>=7.0.0->cufflinks) (4.1.0)\n",
      "Requirement already satisfied: nbclient<0.6.0,>=0.5.0 in /Users/arifkirsakal/opt/anaconda3/lib/python3.9/site-packages (from nbconvert->notebook>=4.4.1->widgetsnbextension~=3.5.0->ipywidgets>=7.0.0->cufflinks) (0.5.13)\n",
      "Requirement already satisfied: defusedxml in /Users/arifkirsakal/opt/anaconda3/lib/python3.9/site-packages (from nbconvert->notebook>=4.4.1->widgetsnbextension~=3.5.0->ipywidgets>=7.0.0->cufflinks) (0.7.1)\n",
      "Requirement already satisfied: beautifulsoup4 in /Users/arifkirsakal/opt/anaconda3/lib/python3.9/site-packages (from nbconvert->notebook>=4.4.1->widgetsnbextension~=3.5.0->ipywidgets>=7.0.0->cufflinks) (4.11.1)\n",
      "Requirement already satisfied: cffi>=1.0.1 in /Users/arifkirsakal/opt/anaconda3/lib/python3.9/site-packages (from argon2-cffi-bindings->argon2-cffi->notebook>=4.4.1->widgetsnbextension~=3.5.0->ipywidgets>=7.0.0->cufflinks) (1.15.0)\n",
      "Requirement already satisfied: soupsieve>1.2 in /Users/arifkirsakal/opt/anaconda3/lib/python3.9/site-packages (from beautifulsoup4->nbconvert->notebook>=4.4.1->widgetsnbextension~=3.5.0->ipywidgets>=7.0.0->cufflinks) (2.3.1)\n",
      "Requirement already satisfied: webencodings in /Users/arifkirsakal/opt/anaconda3/lib/python3.9/site-packages (from bleach->nbconvert->notebook>=4.4.1->widgetsnbextension~=3.5.0->ipywidgets>=7.0.0->cufflinks) (0.5.1)\n",
      "Requirement already satisfied: packaging in /Users/arifkirsakal/opt/anaconda3/lib/python3.9/site-packages (from bleach->nbconvert->notebook>=4.4.1->widgetsnbextension~=3.5.0->ipywidgets>=7.0.0->cufflinks) (21.3)\n",
      "Requirement already satisfied: pycparser in /Users/arifkirsakal/opt/anaconda3/lib/python3.9/site-packages (from cffi>=1.0.1->argon2-cffi-bindings->argon2-cffi->notebook>=4.4.1->widgetsnbextension~=3.5.0->ipywidgets>=7.0.0->cufflinks) (2.21)\n",
      "Requirement already satisfied: pyparsing!=3.0.5,>=2.0.2 in /Users/arifkirsakal/opt/anaconda3/lib/python3.9/site-packages (from packaging->bleach->nbconvert->notebook>=4.4.1->widgetsnbextension~=3.5.0->ipywidgets>=7.0.0->cufflinks) (3.0.4)\n",
      "\n",
      "\u001b[1m[\u001b[0m\u001b[34;49mnotice\u001b[0m\u001b[1;39;49m]\u001b[0m\u001b[39;49m A new release of pip available: \u001b[0m\u001b[31;49m22.2.2\u001b[0m\u001b[39;49m -> \u001b[0m\u001b[32;49m22.3.1\u001b[0m\n",
      "\u001b[1m[\u001b[0m\u001b[34;49mnotice\u001b[0m\u001b[1;39;49m]\u001b[0m\u001b[39;49m To update, run: \u001b[0m\u001b[32;49mpip install --upgrade pip\u001b[0m\n",
      "Note: you may need to restart the kernel to use updated packages.\n"
     ]
    }
   ],
   "source": [
    "pip install cufflinks"
   ]
  },
  {
   "cell_type": "code",
   "execution_count": 3,
   "id": "aeff87e5",
   "metadata": {},
   "outputs": [
    {
     "name": "stdout",
     "output_type": "stream",
     "text": [
      "Requirement already satisfied: yellowbrick in /Users/arifkirsakal/opt/anaconda3/lib/python3.9/site-packages (1.5)\n",
      "Requirement already satisfied: numpy>=1.16.0 in /Users/arifkirsakal/opt/anaconda3/lib/python3.9/site-packages (from yellowbrick) (1.22.4)\n",
      "Requirement already satisfied: cycler>=0.10.0 in /Users/arifkirsakal/opt/anaconda3/lib/python3.9/site-packages (from yellowbrick) (0.11.0)\n",
      "Requirement already satisfied: matplotlib!=3.0.0,>=2.0.2 in /Users/arifkirsakal/opt/anaconda3/lib/python3.9/site-packages (from yellowbrick) (3.5.3)\n",
      "Requirement already satisfied: scipy>=1.0.0 in /Users/arifkirsakal/opt/anaconda3/lib/python3.9/site-packages (from yellowbrick) (1.7.3)\n",
      "Requirement already satisfied: scikit-learn>=1.0.0 in /Users/arifkirsakal/opt/anaconda3/lib/python3.9/site-packages (from yellowbrick) (1.0.2)\n",
      "Requirement already satisfied: python-dateutil>=2.7 in /Users/arifkirsakal/opt/anaconda3/lib/python3.9/site-packages (from matplotlib!=3.0.0,>=2.0.2->yellowbrick) (2.8.2)\n",
      "Requirement already satisfied: pillow>=6.2.0 in /Users/arifkirsakal/opt/anaconda3/lib/python3.9/site-packages (from matplotlib!=3.0.0,>=2.0.2->yellowbrick) (9.0.1)\n",
      "Requirement already satisfied: pyparsing>=2.2.1 in /Users/arifkirsakal/opt/anaconda3/lib/python3.9/site-packages (from matplotlib!=3.0.0,>=2.0.2->yellowbrick) (3.0.4)\n",
      "Requirement already satisfied: packaging>=20.0 in /Users/arifkirsakal/opt/anaconda3/lib/python3.9/site-packages (from matplotlib!=3.0.0,>=2.0.2->yellowbrick) (21.3)\n",
      "Requirement already satisfied: kiwisolver>=1.0.1 in /Users/arifkirsakal/opt/anaconda3/lib/python3.9/site-packages (from matplotlib!=3.0.0,>=2.0.2->yellowbrick) (1.3.2)\n",
      "Requirement already satisfied: fonttools>=4.22.0 in /Users/arifkirsakal/opt/anaconda3/lib/python3.9/site-packages (from matplotlib!=3.0.0,>=2.0.2->yellowbrick) (4.25.0)\n",
      "Requirement already satisfied: joblib>=0.11 in /Users/arifkirsakal/opt/anaconda3/lib/python3.9/site-packages (from scikit-learn>=1.0.0->yellowbrick) (1.1.0)\n",
      "Requirement already satisfied: threadpoolctl>=2.0.0 in /Users/arifkirsakal/opt/anaconda3/lib/python3.9/site-packages (from scikit-learn>=1.0.0->yellowbrick) (2.2.0)\n",
      "Requirement already satisfied: six>=1.5 in /Users/arifkirsakal/opt/anaconda3/lib/python3.9/site-packages (from python-dateutil>=2.7->matplotlib!=3.0.0,>=2.0.2->yellowbrick) (1.16.0)\n",
      "\n",
      "\u001b[1m[\u001b[0m\u001b[34;49mnotice\u001b[0m\u001b[1;39;49m]\u001b[0m\u001b[39;49m A new release of pip available: \u001b[0m\u001b[31;49m22.2.2\u001b[0m\u001b[39;49m -> \u001b[0m\u001b[32;49m22.3.1\u001b[0m\n",
      "\u001b[1m[\u001b[0m\u001b[34;49mnotice\u001b[0m\u001b[1;39;49m]\u001b[0m\u001b[39;49m To update, run: \u001b[0m\u001b[32;49mpip install --upgrade pip\u001b[0m\n",
      "Note: you may need to restart the kernel to use updated packages.\n"
     ]
    }
   ],
   "source": [
    "pip install yellowbrick"
   ]
  },
  {
   "cell_type": "markdown",
   "id": "9f64a47c-5aa7-4653-98ea-6c645df4572b",
   "metadata": {
    "id": "9f64a47c-5aa7-4653-98ea-6c645df4572b"
   },
   "source": [
    "# Import libraries"
   ]
  },
  {
   "cell_type": "code",
   "execution_count": 1,
   "id": "d2f67c2a-c903-4b6c-bcda-2d69e2619192",
   "metadata": {
    "id": "d2f67c2a-c903-4b6c-bcda-2d69e2619192",
    "outputId": "e843ea0c-6999-4ea4-a3cb-b373e9610eb2"
   },
   "outputs": [
    {
     "data": {
      "text/html": [
       "        <script type=\"text/javascript\">\n",
       "        window.PlotlyConfig = {MathJaxConfig: 'local'};\n",
       "        if (window.MathJax) {MathJax.Hub.Config({SVG: {font: \"STIX-Web\"}});}\n",
       "        if (typeof require !== 'undefined') {\n",
       "        require.undef(\"plotly\");\n",
       "        requirejs.config({\n",
       "            paths: {\n",
       "                'plotly': ['https://cdn.plot.ly/plotly-2.9.0.min']\n",
       "            }\n",
       "        });\n",
       "        require(['plotly'], function(Plotly) {\n",
       "            window._Plotly = Plotly;\n",
       "        });\n",
       "        }\n",
       "        </script>\n",
       "        "
      ]
     },
     "metadata": {},
     "output_type": "display_data"
    },
    {
     "data": {
      "text/html": [
       "        <script type=\"text/javascript\">\n",
       "        window.PlotlyConfig = {MathJaxConfig: 'local'};\n",
       "        if (window.MathJax) {MathJax.Hub.Config({SVG: {font: \"STIX-Web\"}});}\n",
       "        if (typeof require !== 'undefined') {\n",
       "        require.undef(\"plotly\");\n",
       "        requirejs.config({\n",
       "            paths: {\n",
       "                'plotly': ['https://cdn.plot.ly/plotly-2.9.0.min']\n",
       "            }\n",
       "        });\n",
       "        require(['plotly'], function(Plotly) {\n",
       "            window._Plotly = Plotly;\n",
       "        });\n",
       "        }\n",
       "        </script>\n",
       "        "
      ]
     },
     "metadata": {},
     "output_type": "display_data"
    }
   ],
   "source": [
    "import numpy as np\n",
    "import pandas as pd\n",
    "import matplotlib.pyplot as plt\n",
    "import seaborn as sns\n",
    "import plotly\n",
    "import plotly.express as px\n",
    "import cufflinks as cf\n",
    "#Enabling the offline mode for interactive plotting locally\n",
    "from plotly.offline import download_plotlyjs,init_notebook_mode,plot,iplot\n",
    "init_notebook_mode(connected=True)\n",
    "cf.go_offline()\n",
    "import plotly.io as pio\n",
    "pio.renderers.default = \"colab\"\n",
    "#To display the plots\n",
    "%matplotlib inline\n",
    "from ipywidgets import interact\n",
    "\n",
    "# sklearn library for machine learning algorithms, data preprocessing, and evaluation\n",
    "from sklearn.preprocessing import StandardScaler, MinMaxScaler, RobustScaler\n",
    "from sklearn.model_selection import train_test_split, GridSearchCV, cross_validate\n",
    "from sklearn.neighbors import KNeighborsClassifier\n",
    "from sklearn.linear_model import LogisticRegression\n",
    "from sklearn.metrics import classification_report, confusion_matrix, log_loss, recall_score, accuracy_score, precision_score, f1_score\n",
    "\n",
    "# yellowbrick library for visualizing the model performance\n",
    "from yellowbrick.classifier import ConfusionMatrix\n",
    "from yellowbrick.cluster import KElbowVisualizer \n",
    "\n",
    "from sklearn.pipeline import Pipeline\n",
    "# to get rid of the warnings\n",
    "import warnings\n",
    "warnings.filterwarnings(\"ignore\")\n",
    "warnings.warn(\"this will not show\")"
   ]
  },
  {
   "cell_type": "markdown",
   "id": "a589228f-f7be-4c79-94fd-e45cb2c473f4",
   "metadata": {
    "id": "a589228f-f7be-4c79-94fd-e45cb2c473f4",
    "tags": []
   },
   "source": [
    "## Exploratory Data Analysis and Visualization"
   ]
  },
  {
   "cell_type": "code",
   "execution_count": 2,
   "id": "0accb39f",
   "metadata": {
    "id": "0accb39f"
   },
   "outputs": [
    {
     "data": {
      "text/html": [
       "<div>\n",
       "<style scoped>\n",
       "    .dataframe tbody tr th:only-of-type {\n",
       "        vertical-align: middle;\n",
       "    }\n",
       "\n",
       "    .dataframe tbody tr th {\n",
       "        vertical-align: top;\n",
       "    }\n",
       "\n",
       "    .dataframe thead th {\n",
       "        text-align: right;\n",
       "    }\n",
       "</style>\n",
       "<table border=\"1\" class=\"dataframe\">\n",
       "  <thead>\n",
       "    <tr style=\"text-align: right;\">\n",
       "      <th></th>\n",
       "      <th>Area</th>\n",
       "      <th>MajorAxisLength</th>\n",
       "      <th>MinorAxisLength</th>\n",
       "      <th>Eccentricity</th>\n",
       "      <th>ConvexArea</th>\n",
       "      <th>Extent</th>\n",
       "      <th>Perimeter</th>\n",
       "      <th>Class</th>\n",
       "    </tr>\n",
       "  </thead>\n",
       "  <tbody>\n",
       "    <tr>\n",
       "      <th>0</th>\n",
       "      <td>87524</td>\n",
       "      <td>442.246011</td>\n",
       "      <td>253.291155</td>\n",
       "      <td>0.819738</td>\n",
       "      <td>90546</td>\n",
       "      <td>0.758651</td>\n",
       "      <td>1184.040</td>\n",
       "      <td>Kecimen</td>\n",
       "    </tr>\n",
       "    <tr>\n",
       "      <th>1</th>\n",
       "      <td>75166</td>\n",
       "      <td>406.690687</td>\n",
       "      <td>243.032436</td>\n",
       "      <td>0.801805</td>\n",
       "      <td>78789</td>\n",
       "      <td>0.684130</td>\n",
       "      <td>1121.786</td>\n",
       "      <td>Kecimen</td>\n",
       "    </tr>\n",
       "    <tr>\n",
       "      <th>2</th>\n",
       "      <td>90856</td>\n",
       "      <td>442.267048</td>\n",
       "      <td>266.328318</td>\n",
       "      <td>0.798354</td>\n",
       "      <td>93717</td>\n",
       "      <td>0.637613</td>\n",
       "      <td>1208.575</td>\n",
       "      <td>Kecimen</td>\n",
       "    </tr>\n",
       "    <tr>\n",
       "      <th>3</th>\n",
       "      <td>45928</td>\n",
       "      <td>286.540559</td>\n",
       "      <td>208.760042</td>\n",
       "      <td>0.684989</td>\n",
       "      <td>47336</td>\n",
       "      <td>0.699599</td>\n",
       "      <td>844.162</td>\n",
       "      <td>Kecimen</td>\n",
       "    </tr>\n",
       "    <tr>\n",
       "      <th>4</th>\n",
       "      <td>79408</td>\n",
       "      <td>352.190770</td>\n",
       "      <td>290.827533</td>\n",
       "      <td>0.564011</td>\n",
       "      <td>81463</td>\n",
       "      <td>0.792772</td>\n",
       "      <td>1073.251</td>\n",
       "      <td>Kecimen</td>\n",
       "    </tr>\n",
       "    <tr>\n",
       "      <th>...</th>\n",
       "      <td>...</td>\n",
       "      <td>...</td>\n",
       "      <td>...</td>\n",
       "      <td>...</td>\n",
       "      <td>...</td>\n",
       "      <td>...</td>\n",
       "      <td>...</td>\n",
       "      <td>...</td>\n",
       "    </tr>\n",
       "    <tr>\n",
       "      <th>895</th>\n",
       "      <td>83248</td>\n",
       "      <td>430.077308</td>\n",
       "      <td>247.838695</td>\n",
       "      <td>0.817263</td>\n",
       "      <td>85839</td>\n",
       "      <td>0.668793</td>\n",
       "      <td>1129.072</td>\n",
       "      <td>Besni</td>\n",
       "    </tr>\n",
       "    <tr>\n",
       "      <th>896</th>\n",
       "      <td>87350</td>\n",
       "      <td>440.735698</td>\n",
       "      <td>259.293149</td>\n",
       "      <td>0.808629</td>\n",
       "      <td>90899</td>\n",
       "      <td>0.636476</td>\n",
       "      <td>1214.252</td>\n",
       "      <td>Besni</td>\n",
       "    </tr>\n",
       "    <tr>\n",
       "      <th>897</th>\n",
       "      <td>99657</td>\n",
       "      <td>431.706981</td>\n",
       "      <td>298.837323</td>\n",
       "      <td>0.721684</td>\n",
       "      <td>106264</td>\n",
       "      <td>0.741099</td>\n",
       "      <td>1292.828</td>\n",
       "      <td>Besni</td>\n",
       "    </tr>\n",
       "    <tr>\n",
       "      <th>898</th>\n",
       "      <td>93523</td>\n",
       "      <td>476.344094</td>\n",
       "      <td>254.176054</td>\n",
       "      <td>0.845739</td>\n",
       "      <td>97653</td>\n",
       "      <td>0.658798</td>\n",
       "      <td>1258.548</td>\n",
       "      <td>Besni</td>\n",
       "    </tr>\n",
       "    <tr>\n",
       "      <th>899</th>\n",
       "      <td>85609</td>\n",
       "      <td>512.081774</td>\n",
       "      <td>215.271976</td>\n",
       "      <td>0.907345</td>\n",
       "      <td>89197</td>\n",
       "      <td>0.632020</td>\n",
       "      <td>1272.862</td>\n",
       "      <td>Besni</td>\n",
       "    </tr>\n",
       "  </tbody>\n",
       "</table>\n",
       "<p>900 rows × 8 columns</p>\n",
       "</div>"
      ],
      "text/plain": [
       "      Area  MajorAxisLength  MinorAxisLength  Eccentricity  ConvexArea  \\\n",
       "0    87524       442.246011       253.291155      0.819738       90546   \n",
       "1    75166       406.690687       243.032436      0.801805       78789   \n",
       "2    90856       442.267048       266.328318      0.798354       93717   \n",
       "3    45928       286.540559       208.760042      0.684989       47336   \n",
       "4    79408       352.190770       290.827533      0.564011       81463   \n",
       "..     ...              ...              ...           ...         ...   \n",
       "895  83248       430.077308       247.838695      0.817263       85839   \n",
       "896  87350       440.735698       259.293149      0.808629       90899   \n",
       "897  99657       431.706981       298.837323      0.721684      106264   \n",
       "898  93523       476.344094       254.176054      0.845739       97653   \n",
       "899  85609       512.081774       215.271976      0.907345       89197   \n",
       "\n",
       "       Extent  Perimeter    Class  \n",
       "0    0.758651   1184.040  Kecimen  \n",
       "1    0.684130   1121.786  Kecimen  \n",
       "2    0.637613   1208.575  Kecimen  \n",
       "3    0.699599    844.162  Kecimen  \n",
       "4    0.792772   1073.251  Kecimen  \n",
       "..        ...        ...      ...  \n",
       "895  0.668793   1129.072    Besni  \n",
       "896  0.636476   1214.252    Besni  \n",
       "897  0.741099   1292.828    Besni  \n",
       "898  0.658798   1258.548    Besni  \n",
       "899  0.632020   1272.862    Besni  \n",
       "\n",
       "[900 rows x 8 columns]"
      ]
     },
     "execution_count": 2,
     "metadata": {},
     "output_type": "execute_result"
    }
   ],
   "source": [
    "df=pd.read_csv(\"Raisin_Dataset.xlsx - Raisin_Grains_Dataset.csv\")\n",
    "df"
   ]
  },
  {
   "cell_type": "code",
   "execution_count": 3,
   "id": "03ff4acf",
   "metadata": {},
   "outputs": [
    {
     "data": {
      "text/html": [
       "<div>\n",
       "<style scoped>\n",
       "    .dataframe tbody tr th:only-of-type {\n",
       "        vertical-align: middle;\n",
       "    }\n",
       "\n",
       "    .dataframe tbody tr th {\n",
       "        vertical-align: top;\n",
       "    }\n",
       "\n",
       "    .dataframe thead th {\n",
       "        text-align: right;\n",
       "    }\n",
       "</style>\n",
       "<table border=\"1\" class=\"dataframe\">\n",
       "  <thead>\n",
       "    <tr style=\"text-align: right;\">\n",
       "      <th></th>\n",
       "      <th>Area</th>\n",
       "      <th>MajorAxisLength</th>\n",
       "      <th>MinorAxisLength</th>\n",
       "      <th>Eccentricity</th>\n",
       "      <th>ConvexArea</th>\n",
       "      <th>Extent</th>\n",
       "      <th>Perimeter</th>\n",
       "      <th>Class</th>\n",
       "    </tr>\n",
       "  </thead>\n",
       "  <tbody>\n",
       "    <tr>\n",
       "      <th>0</th>\n",
       "      <td>87524</td>\n",
       "      <td>442.246011</td>\n",
       "      <td>253.291155</td>\n",
       "      <td>0.819738</td>\n",
       "      <td>90546</td>\n",
       "      <td>0.758651</td>\n",
       "      <td>1184.040</td>\n",
       "      <td>Kecimen</td>\n",
       "    </tr>\n",
       "    <tr>\n",
       "      <th>1</th>\n",
       "      <td>75166</td>\n",
       "      <td>406.690687</td>\n",
       "      <td>243.032436</td>\n",
       "      <td>0.801805</td>\n",
       "      <td>78789</td>\n",
       "      <td>0.684130</td>\n",
       "      <td>1121.786</td>\n",
       "      <td>Kecimen</td>\n",
       "    </tr>\n",
       "    <tr>\n",
       "      <th>2</th>\n",
       "      <td>90856</td>\n",
       "      <td>442.267048</td>\n",
       "      <td>266.328318</td>\n",
       "      <td>0.798354</td>\n",
       "      <td>93717</td>\n",
       "      <td>0.637613</td>\n",
       "      <td>1208.575</td>\n",
       "      <td>Kecimen</td>\n",
       "    </tr>\n",
       "    <tr>\n",
       "      <th>3</th>\n",
       "      <td>45928</td>\n",
       "      <td>286.540559</td>\n",
       "      <td>208.760042</td>\n",
       "      <td>0.684989</td>\n",
       "      <td>47336</td>\n",
       "      <td>0.699599</td>\n",
       "      <td>844.162</td>\n",
       "      <td>Kecimen</td>\n",
       "    </tr>\n",
       "    <tr>\n",
       "      <th>4</th>\n",
       "      <td>79408</td>\n",
       "      <td>352.190770</td>\n",
       "      <td>290.827533</td>\n",
       "      <td>0.564011</td>\n",
       "      <td>81463</td>\n",
       "      <td>0.792772</td>\n",
       "      <td>1073.251</td>\n",
       "      <td>Kecimen</td>\n",
       "    </tr>\n",
       "  </tbody>\n",
       "</table>\n",
       "</div>"
      ],
      "text/plain": [
       "    Area  MajorAxisLength  MinorAxisLength  Eccentricity  ConvexArea  \\\n",
       "0  87524       442.246011       253.291155      0.819738       90546   \n",
       "1  75166       406.690687       243.032436      0.801805       78789   \n",
       "2  90856       442.267048       266.328318      0.798354       93717   \n",
       "3  45928       286.540559       208.760042      0.684989       47336   \n",
       "4  79408       352.190770       290.827533      0.564011       81463   \n",
       "\n",
       "     Extent  Perimeter    Class  \n",
       "0  0.758651   1184.040  Kecimen  \n",
       "1  0.684130   1121.786  Kecimen  \n",
       "2  0.637613   1208.575  Kecimen  \n",
       "3  0.699599    844.162  Kecimen  \n",
       "4  0.792772   1073.251  Kecimen  "
      ]
     },
     "execution_count": 3,
     "metadata": {},
     "output_type": "execute_result"
    }
   ],
   "source": [
    "df.head(5)"
   ]
  },
  {
   "cell_type": "code",
   "execution_count": 4,
   "id": "8f0a908d",
   "metadata": {},
   "outputs": [
    {
     "name": "stdout",
     "output_type": "stream",
     "text": [
      "<class 'pandas.core.frame.DataFrame'>\n",
      "RangeIndex: 900 entries, 0 to 899\n",
      "Data columns (total 8 columns):\n",
      " #   Column           Non-Null Count  Dtype  \n",
      "---  ------           --------------  -----  \n",
      " 0   Area             900 non-null    int64  \n",
      " 1   MajorAxisLength  900 non-null    float64\n",
      " 2   MinorAxisLength  900 non-null    float64\n",
      " 3   Eccentricity     900 non-null    float64\n",
      " 4   ConvexArea       900 non-null    int64  \n",
      " 5   Extent           900 non-null    float64\n",
      " 6   Perimeter        900 non-null    float64\n",
      " 7   Class            900 non-null    object \n",
      "dtypes: float64(5), int64(2), object(1)\n",
      "memory usage: 56.4+ KB\n"
     ]
    }
   ],
   "source": [
    "df.info()"
   ]
  },
  {
   "cell_type": "code",
   "execution_count": 5,
   "id": "3bd47e7d",
   "metadata": {},
   "outputs": [
    {
     "data": {
      "text/plain": [
       "(900, 8)"
      ]
     },
     "execution_count": 5,
     "metadata": {},
     "output_type": "execute_result"
    }
   ],
   "source": [
    "df.shape"
   ]
  },
  {
   "cell_type": "code",
   "execution_count": 6,
   "id": "756386e3",
   "metadata": {},
   "outputs": [
    {
     "data": {
      "text/plain": [
       "0"
      ]
     },
     "execution_count": 6,
     "metadata": {},
     "output_type": "execute_result"
    }
   ],
   "source": [
    "df.duplicated().sum()"
   ]
  },
  {
   "cell_type": "code",
   "execution_count": 7,
   "id": "7a56fbbd",
   "metadata": {},
   "outputs": [
    {
     "data": {
      "text/plain": [
       "False"
      ]
     },
     "execution_count": 7,
     "metadata": {},
     "output_type": "execute_result"
    }
   ],
   "source": [
    "df.isnull().sum().any()"
   ]
  },
  {
   "cell_type": "code",
   "execution_count": 8,
   "id": "11ab98f0",
   "metadata": {},
   "outputs": [
    {
     "data": {
      "text/html": [
       "<div>\n",
       "<style scoped>\n",
       "    .dataframe tbody tr th:only-of-type {\n",
       "        vertical-align: middle;\n",
       "    }\n",
       "\n",
       "    .dataframe tbody tr th {\n",
       "        vertical-align: top;\n",
       "    }\n",
       "\n",
       "    .dataframe thead th {\n",
       "        text-align: right;\n",
       "    }\n",
       "</style>\n",
       "<table border=\"1\" class=\"dataframe\">\n",
       "  <thead>\n",
       "    <tr style=\"text-align: right;\">\n",
       "      <th></th>\n",
       "      <th>count</th>\n",
       "      <th>mean</th>\n",
       "      <th>std</th>\n",
       "      <th>min</th>\n",
       "      <th>25%</th>\n",
       "      <th>50%</th>\n",
       "      <th>75%</th>\n",
       "      <th>max</th>\n",
       "    </tr>\n",
       "  </thead>\n",
       "  <tbody>\n",
       "    <tr>\n",
       "      <th>Area</th>\n",
       "      <td>900.0</td>\n",
       "      <td>87804.127778</td>\n",
       "      <td>39002.111390</td>\n",
       "      <td>25387.000000</td>\n",
       "      <td>59348.000000</td>\n",
       "      <td>78902.000000</td>\n",
       "      <td>105028.250000</td>\n",
       "      <td>235047.000000</td>\n",
       "    </tr>\n",
       "    <tr>\n",
       "      <th>MajorAxisLength</th>\n",
       "      <td>900.0</td>\n",
       "      <td>430.929950</td>\n",
       "      <td>116.035121</td>\n",
       "      <td>225.629541</td>\n",
       "      <td>345.442898</td>\n",
       "      <td>407.803951</td>\n",
       "      <td>494.187014</td>\n",
       "      <td>997.291941</td>\n",
       "    </tr>\n",
       "    <tr>\n",
       "      <th>MinorAxisLength</th>\n",
       "      <td>900.0</td>\n",
       "      <td>254.488133</td>\n",
       "      <td>49.988902</td>\n",
       "      <td>143.710872</td>\n",
       "      <td>219.111126</td>\n",
       "      <td>247.848409</td>\n",
       "      <td>279.888575</td>\n",
       "      <td>492.275279</td>\n",
       "    </tr>\n",
       "    <tr>\n",
       "      <th>Eccentricity</th>\n",
       "      <td>900.0</td>\n",
       "      <td>0.781542</td>\n",
       "      <td>0.090318</td>\n",
       "      <td>0.348730</td>\n",
       "      <td>0.741766</td>\n",
       "      <td>0.798846</td>\n",
       "      <td>0.842571</td>\n",
       "      <td>0.962124</td>\n",
       "    </tr>\n",
       "    <tr>\n",
       "      <th>ConvexArea</th>\n",
       "      <td>900.0</td>\n",
       "      <td>91186.090000</td>\n",
       "      <td>40769.290132</td>\n",
       "      <td>26139.000000</td>\n",
       "      <td>61513.250000</td>\n",
       "      <td>81651.000000</td>\n",
       "      <td>108375.750000</td>\n",
       "      <td>278217.000000</td>\n",
       "    </tr>\n",
       "    <tr>\n",
       "      <th>Extent</th>\n",
       "      <td>900.0</td>\n",
       "      <td>0.699508</td>\n",
       "      <td>0.053468</td>\n",
       "      <td>0.379856</td>\n",
       "      <td>0.670869</td>\n",
       "      <td>0.707367</td>\n",
       "      <td>0.734991</td>\n",
       "      <td>0.835455</td>\n",
       "    </tr>\n",
       "    <tr>\n",
       "      <th>Perimeter</th>\n",
       "      <td>900.0</td>\n",
       "      <td>1165.906636</td>\n",
       "      <td>273.764315</td>\n",
       "      <td>619.074000</td>\n",
       "      <td>966.410750</td>\n",
       "      <td>1119.509000</td>\n",
       "      <td>1308.389750</td>\n",
       "      <td>2697.753000</td>\n",
       "    </tr>\n",
       "  </tbody>\n",
       "</table>\n",
       "</div>"
      ],
      "text/plain": [
       "                 count          mean           std           min  \\\n",
       "Area             900.0  87804.127778  39002.111390  25387.000000   \n",
       "MajorAxisLength  900.0    430.929950    116.035121    225.629541   \n",
       "MinorAxisLength  900.0    254.488133     49.988902    143.710872   \n",
       "Eccentricity     900.0      0.781542      0.090318      0.348730   \n",
       "ConvexArea       900.0  91186.090000  40769.290132  26139.000000   \n",
       "Extent           900.0      0.699508      0.053468      0.379856   \n",
       "Perimeter        900.0   1165.906636    273.764315    619.074000   \n",
       "\n",
       "                          25%           50%            75%            max  \n",
       "Area             59348.000000  78902.000000  105028.250000  235047.000000  \n",
       "MajorAxisLength    345.442898    407.803951     494.187014     997.291941  \n",
       "MinorAxisLength    219.111126    247.848409     279.888575     492.275279  \n",
       "Eccentricity         0.741766      0.798846       0.842571       0.962124  \n",
       "ConvexArea       61513.250000  81651.000000  108375.750000  278217.000000  \n",
       "Extent               0.670869      0.707367       0.734991       0.835455  \n",
       "Perimeter          966.410750   1119.509000    1308.389750    2697.753000  "
      ]
     },
     "execution_count": 8,
     "metadata": {},
     "output_type": "execute_result"
    }
   ],
   "source": [
    "df.describe().T\n",
    "\n",
    "\n"
   ]
  },
  {
   "cell_type": "code",
   "execution_count": 9,
   "id": "5b12acb6",
   "metadata": {},
   "outputs": [
    {
     "name": "stdout",
     "output_type": "stream",
     "text": [
      "Kecimen    0.5\n",
      "Besni      0.5\n",
      "Name: Class, dtype: float64\n"
     ]
    },
    {
     "data": {
      "text/plain": [
       "<AxesSubplot:xlabel='Class', ylabel='count'>"
      ]
     },
     "execution_count": 9,
     "metadata": {},
     "output_type": "execute_result"
    },
    {
     "data": {
      "image/png": "[encoded data removed]",
      "text/plain": [
       "<Figure size 576x396 with 1 Axes>"
      ]
     },
     "metadata": {},
     "output_type": "display_data"
    }
   ],
   "source": [
    "print(df[\"Class\"].value_counts(normalize=True))\n",
    "sns.countplot(df[\"Class\"])"
   ]
  },
  {
   "cell_type": "code",
   "execution_count": 10,
   "id": "7b640e79",
   "metadata": {},
   "outputs": [],
   "source": [
    "df[\"Class\"]=df[\"Class\"].map({\"Keçimen\":0,\"Besni\":1})\n"
   ]
  },
  {
   "cell_type": "code",
   "execution_count": 11,
   "id": "87dce0b2",
   "metadata": {},
   "outputs": [
    {
     "data": {
      "text/html": [
       "<html>\n",
       "<head><meta charset=\"utf-8\" /></head>\n",
       "<body>\n",
       "    <div>            <script src=\"https://cdnjs.cloudflare.com/ajax/libs/mathjax/2.7.5/MathJax.js?config=TeX-AMS-MML_SVG\"></script><script type=\"text/javascript\">if (window.MathJax) {MathJax.Hub.Config({SVG: {font: \"STIX-Web\"}});}</script>                <script type=\"text/javascript\">window.PlotlyConfig = {MathJaxConfig: 'local'};</script>\n",
       "        <script src=\"https://cdn.plot.ly/plotly-2.9.0.min.js\"></script>                <div id=\"bbf9d75a-2ca8-4053-b9c2-03f82e3ff3c9\" class=\"plotly-graph-div\" style=\"height:525px; width:100%;\"></div>            <script type=\"text/javascript\">                                    window.PLOTLYENV=window.PLOTLYENV || {};\n",
       "                    window.PLOTLYENV.BASE_URL='https://plot.ly';                                    if (document.getElementById(\"bbf9d75a-2ca8-4053-b9c2-03f82e3ff3c9\")) {                    Plotly.newPlot(                        \"bbf9d75a-2ca8-4053-b9c2-03f82e3ff3c9\",                        [{\"boxpoints\":false,\"line\":{\"width\":1.3},\"marker\":{\"color\":\"rgba(255, 153, 51, 1.0)\"},\"name\":\"Area\",\"orientation\":\"v\",\"y\":[87524,75166,90856,45928,79408,49242,42492,60952,42256,64380,80437,43725,43441,76792,74167,33565,64670,64762,43295,70699,69726,57346,82028,61251,96277,75620,73167,60847,81021,59902,88745,41809,75329,61600,46427,40861,55827,54182,77468,49882,95245,71464,77055,92384,77310,57580,69708,41502,45800,52623,44939,114648,65727,45683,111450,47581,57127,53006,69060,25387,66774,47839,78571,64717,60462,59370,54056,89235,51727,71595,95347,60449,69006,68520,52731,50570,75825,42637,76984,47851,51220,53890,58650,98935,77587,180898,71266,39457,35237,49059,53896,56469,85156,67044,52243,38968,79661,59282,48177,74904,81581,57820,57808,55306,59459,44247,48945,68864,82826,65396,81572,44367,51448,50545,94063,84129,79735,90176,61492,79532,69302,52266,51180,55787,96064,54316,70941,55770,47478,88197,74728,70788,48894,52051,53270,57227,97026,58495,53758,110616,49175,53698,73125,50445,46742,69317,75314,54428,39509,66568,45264,57980,75114,78991,76253,83229,45962,57766,39669,41050,47771,53389,73319,91831,71452,59970,51683,41283,92735,44627,84260,59076,58741,68627,51941,77161,85105,52508,39941,48693,87858,67718,63968,43461,81546,43563,36145,57741,69024,78982,78240,87036,37569,79748,44156,87302,69312,86545,59729,59822,63452,61996,74763,73193,66508,74849,38585,61377,39547,49998,49063,46961,57271,58909,51336,62422,48447,64364,72915,49414,45723,64988,56709,93559,81916,79274,88724,65469,75799,76741,54219,52693,84539,34559,49715,39716,46845,52547,41593,44460,51145,43345,53987,59514,85739,56096,46120,57676,62064,50274,77225,45598,38545,39439,74109,41755,61463,43743,73499,40403,62343,46008,43495,50649,61235,78883,58734,68253,62401,73046,54968,84057,90178,67883,43901,33662,77043,64875,42609,79510,58857,67754,54842,78352,72447,58239,93879,68129,74426,60650,136340,65051,72219,81405,70196,69120,56327,54983,105020,36113,87429,57785,69846,81456,61959,61730,62835,52651,67093,45160,58989,44007,65062,38724,63514,46403,55746,38153,66094,57303,61289,55114,45567,72215,65495,34977,76407,66998,57310,79106,56837,53497,58591,60313,72483,52836,68119,83490,74612,44081,39724,89051,57612,65740,69997,75540,46397,61967,87149,67798,49604,88407,46601,53121,80101,69781,58460,61792,78084,63402,48809,49039,64669,103377,73972,47602,69151,56518,86314,56477,32097,71284,87937,100835,66752,65999,70977,38569,53964,79100,83071,31237,26908,66797,76222,46810,65123,65091,68400,64056,49821,80353,51539,63827,89345,31275,75431,72718,82886,67852,49336,39368,51304,91764,79252,50530,66063,73311,82793,104921,59654,76531,57438,55129,37302,58357,33615,47555,71762,84677,86421,90191,34638,39275,41458,85954,56589,39622,48093,67404,57838,58570,60199,74254,63718,28216,79055,86141,82873,98485,53633,63191,58545,68931,67874,61200,87089,59589,50312,41995,137583,117592,95546,96582,61409,154242,134303,112378,124579,83107,107178,64391,126781,45051,119026,67579,97019,184784,168276,195383,65253,120255,108161,157877,83800,177264,127245,108314,128947,189637,137508,75173,115859,92188,153824,85492,106312,210923,89138,83567,171256,77105,100443,72606,83555,146268,113608,75058,116406,100319,143386,164782,71639,141220,88290,102569,182160,208264,133101,169009,81901,80678,101661,82207,166275,188651,202118,97375,64303,86715,155702,84295,177206,110897,56903,113029,69579,163442,114289,74652,90559,104352,82161,131816,163082,77012,81604,82853,145693,96443,168620,193032,140897,118988,103666,68231,88928,117077,123056,94455,89311,68982,204864,83693,75529,121034,105192,77402,87857,139399,178334,144084,84975,118043,102769,136960,113206,155057,116715,91146,101223,79492,93234,167279,193558,146175,108076,131811,129038,130868,206720,205497,146420,126014,101103,61444,160605,100649,112808,105951,177916,109254,128574,124166,133784,80481,63491,109791,89236,152267,89721,129493,74966,136180,102013,169078,78304,54321,101439,118787,85517,72653,126515,117714,62451,107895,199015,130388,106440,109878,78984,135899,193818,137788,71800,96210,103057,104602,105467,83059,99378,90585,83065,54357,169645,70461,105347,160583,101772,61123,90375,131847,81998,105924,121757,116198,86846,77799,75242,113164,194864,103313,98464,97377,169880,69746,172334,192815,92121,82462,53325,151703,40702,81480,104669,85390,178692,104385,206689,98166,156769,182823,96139,99177,76114,111056,51350,144973,182788,128442,76364,158808,106923,60640,88257,102868,61539,129292,57999,88315,88250,141137,123980,49371,172783,86852,91464,93441,94211,124630,116361,152992,147843,135036,128107,79975,60674,96404,222915,108379,62562,204226,77985,104728,85449,97558,97049,58870,83889,110527,66793,91665,126149,101618,96442,79397,86658,113046,53373,80274,89431,84383,98260,104656,100186,122617,117301,48007,165681,83929,109701,117098,107082,102944,53077,78161,122433,142069,82585,96753,106393,182122,49691,79057,110785,171749,149841,97513,97254,132116,132730,68576,109011,109438,76551,121080,86202,134913,175247,195281,131496,175946,66265,106938,76624,88747,165940,181926,148073,103915,71141,169494,47253,102960,81570,62526,141613,105961,125282,87252,108771,138202,92024,76708,105053,72924,89169,93042,71054,90675,137921,164440,71502,144250,223075,56244,142239,78632,93430,97583,123654,85894,235047,152611,83932,117354,66315,87663,95364,78787,160451,121077,62280,106897,111568,61556,47609,61861,84855,127292,125968,48488,84774,78921,145235,87039,181126,142419,92619,68510,48551,92472,100928,96920,96762,151908,75368,168269,99333,102722,104468,73699,71918,127933,73294,189069,159064,120818,59890,137593,166654,55858,105308,67468,132680,154197,225043,66613,141559,77622,179668,105091,66938,97494,101770,88338,119336,126019,154498,82632,218459,150420,110296,171264,110936,54502,142415,94282,68799,79058,85646,107486,149703,187391,115272,83248,87350,99657,93523,85609],\"type\":\"box\"},{\"boxpoints\":false,\"line\":{\"width\":1.3},\"marker\":{\"color\":\"rgba(55, 128, 191, 1.0)\"},\"name\":\"MajorAxisLength\",\"orientation\":\"v\",\"y\":[442.2460114,406.690687,442.2670483,286.5405586,352.1907699,318.125407,310.1460715,332.4554716,323.1896072,366.9648423,449.4545811,301.3222176,276.6108288,338.8575454,387.7989307,261.5543311,403.0839752,354.2939396,304.2844667,418.6985723,354.1769124,330.4784385,397.1149759,301.5077895,447.1345225,368.2242844,340.055218,336.9238696,347.7500583,358.5919148,429.770355,307.5327392,364.2307798,350.1827545,253.8420284,249.7402266,305.298843,366.0666742,405.9365937,287.2643272,397.094114,364.1030896,375.2501319,368.4062138,436.5298989,330.2283748,375.4472798,260.5126753,330.0086832,311.9967579,317.6167119,508.1289326,403.1942717,333.2625321,478.3109708,306.8118747,311.6445775,333.3813698,328.4888612,225.629541,348.5579747,312.6013291,443.8222908,342.5767105,373.3428463,345.9492049,332.2676409,443.5159353,321.1271422,387.3096951,451.5261542,383.8002498,379.3178462,373.235638,309.9772864,311.3447951,391.2043013,293.4295802,425.0481856,323.1525189,328.6476055,331.0863197,346.3389582,387.5169377,396.8075663,843.9566534,390.707154,267.5569406,267.5537786,301.8003982,319.0720226,325.341425,422.2791325,361.2553722,331.4511469,269.4020207,360.0734473,329.2425655,305.784503,342.8963104,424.2783146,376.1911744,309.9716571,353.1546092,347.1551548,319.7903082,269.3704112,343.6762094,396.7059122,331.5384446,393.716176,322.5040186,328.289568,286.8713324,448.1210966,413.0345598,410.9979193,390.207341,356.4260216,367.5260058,354.9636669,320.4425614,288.6310651,333.7034529,411.2070534,351.8052608,326.0111541,293.5806697,299.8185828,473.2866901,355.310549,362.6507703,318.0989115,313.7032602,336.1488879,354.43108,455.9715909,368.7395425,359.5316125,461.1445532,281.4314214,348.2232313,408.940773,308.3589121,303.5552029,393.3989966,392.6515582,339.1147492,286.2315627,342.2503611,290.5883604,336.312888,368.730119,362.6408695,364.2255696,423.844374,251.1333844,344.737416,252.748198,316.841636,311.5249871,301.845898,392.3626656,463.3578718,397.9614266,353.0016249,325.2398678,268.1253606,436.985567,297.2593228,411.3973639,350.4871954,345.4854484,411.8885236,349.2261695,394.2783917,382.2899916,297.6969009,251.8477358,306.5739068,441.224088,373.9240984,333.0124213,333.7059198,381.3486543,296.5221609,280.7576527,316.4840294,372.8219867,421.1618485,401.9300875,384.9699031,232.4278475,441.9342925,307.7069822,392.9101168,373.8031053,350.1278744,337.0434753,336.5840696,334.8459883,333.7476396,391.227169,401.072302,344.9045201,379.9250258,274.4450783,339.7334965,259.4226253,301.7807071,294.7482868,343.7885277,372.6991236,347.3439411,321.8844382,324.5569613,331.0510122,376.6624701,414.7180727,290.458237,291.1972864,371.3536275,293.408498,438.6343535,398.326553,406.9762258,446.4304557,374.4662312,340.9827093,383.9821631,344.2908319,283.5042387,441.5288902,264.5151675,302.3473906,243.0382802,264.9672544,358.3657191,310.6748925,294.624132,317.3482375,323.8592139,331.3506586,368.6379093,380.3703785,313.3863101,300.0971584,333.9700499,352.3686704,305.3972558,362.1373458,259.8962651,283.987539,246.7636115,416.7127171,296.7883761,369.3997455,300.906335,346.0510824,289.2593164,348.2887882,296.8792842,271.6466724,327.1109948,349.0264129,395.1000971,367.4839462,388.4547229,394.3975005,397.3381636,300.9544323,452.7756953,466.249387,383.1890177,304.1003495,227.2937917,388.6927274,393.214664,280.1490165,380.7191934,320.8119081,349.1971378,308.2324435,408.8096881,401.7420402,324.2950626,409.486907,381.1754896,411.6968203,324.3616267,722.8539172,381.2139503,376.6504925,421.0948928,373.1976471,352.011403,297.7657247,292.8989067,440.3896311,257.6418527,408.9260276,314.4309771,368.4507096,404.3163937,339.5850181,376.1885565,421.1693384,340.8169568,353.1098719,270.5553766,362.6681085,359.3755027,344.309794,291.0010917,368.7863065,306.3041431,280.3131243,265.0402262,323.1877163,330.0249642,376.3751871,317.1723252,278.5021961,380.4147762,365.3190043,267.7377387,373.4424261,338.5866405,351.396481,404.5731673,368.3727265,352.5027525,356.4633214,339.6034558,334.4176092,340.4047822,385.3917044,421.8829433,430.8651894,328.5871474,271.6656922,418.5556402,352.4413648,348.8811561,362.7413898,422.0984896,310.7243688,364.7840178,444.6108356,418.4081341,310.6056284,412.7569409,277.3532801,350.9683575,377.616572,364.7445188,290.7535562,400.5028283,395.2097616,372.4843101,332.2648929,285.4020871,364.5828035,460.6704313,359.2726917,296.4930361,341.6460576,319.1919279,390.4129792,334.588138,264.4163841,356.2592463,365.8369921,419.7533709,370.5036219,326.2987214,362.0635747,272.9372082,368.074061,413.4963654,400.4656882,262.3470571,245.7557814,358.1989179,388.8073993,297.8913729,382.3576865,392.4932707,363.5065315,393.6167673,319.0820631,394.340189,330.7474868,393.251665,435.5508797,264.687187,433.6712228,397.902945,424.8227093,353.1242534,338.4814606,296.6559478,350.0425817,433.7681595,398.8445645,328.9180154,354.0975248,391.8675067,428.1169055,452.8630128,350.8999545,407.6686396,344.9801825,336.021702,284.3301121,338.3209626,254.47223,330.8992812,387.6741043,401.6681425,367.1703365,431.3669658,251.7422462,274.0659935,281.8248824,405.9151667,343.9347569,280.1124767,329.9357423,349.011262,350.2854586,355.3995375,375.2796881,402.5264818,407.5658564,245.4012948,395.3686671,414.1071647,449.409264,387.7628358,313.479956,335.2416873,325.1886359,381.6717342,360.0234655,323.1744104,396.4868571,383.5712334,354.2355512,259.2088782,649.541485,533.2928563,487.1782819,446.7052035,403.7012948,585.9280742,600.7662711,528.4003254,439.9605034,507.3808994,508.7478956,449.5559014,659.4426082,323.5892546,612.7444115,402.3102017,559.5992129,740.1087099,656.0993813,755.0129141,418.9978869,471.8135294,485.1026458,613.8737446,440.8337404,619.9584724,530.3040552,455.6058765,572.8016018,636.7524368,604.1144233,365.8032415,488.4888558,374.7201638,536.606993,437.0139693,464.3323636,984.0454912,507.1433962,465.1014658,531.3732054,419.9536962,457.5698723,424.472024,457.5464724,588.0092142,559.2667826,424.7637094,612.665318,480.7789636,469.2765081,660.3641751,400.4139594,575.6823646,514.4361539,515.3952494,997.2919406,675.0983445,641.5097389,719.5058781,450.8275297,457.9252352,440.9818348,451.0060488,602.3077749,621.0126864,684.602958,468.9040381,442.7453136,440.4743232,655.3989662,458.8440074,699.6182638,518.7876139,360.815292,558.5161561,398.5966833,594.759221,580.6008301,424.9806728,473.5758459,562.3359079,441.7955517,532.7314252,696.1490457,425.2194272,528.5858925,430.1149972,591.1801444,541.2000742,730.7609597,661.1487714,588.0709185,483.3400048,456.3827046,394.6465339,395.724998,496.1307567,618.1418151,496.8950128,429.2790857,400.7368809,596.6398018,437.734856,418.5184789,518.720443,440.5629092,469.4593474,380.7764868,522.4680098,626.0641738,555.9210209,511.8746638,493.7652445,515.6080701,559.2958675,548.9710465,610.6779718,571.0488404,498.3917995,496.5334606,422.5673288,452.9265064,690.0719941,769.4251488,592.9085046,516.0732298,573.5417738,540.814829,613.1726145,713.4725493,632.7276067,598.0726814,523.1863795,484.1659011,371.6938257,630.6173412,433.3668701,542.5047797,521.1127579,581.7097499,483.163737,601.8002346,525.9453568,581.2869477,481.0639534,326.6328824,477.0335016,389.6816918,598.9676358,530.1565743,497.7881364,465.3608157,551.4538281,453.8934581,644.9312689,390.9730835,395.01184,524.8171864,562.2809569,410.6220937,403.1909593,595.3425575,480.629674,337.2899875,462.0461305,615.4172359,511.8975835,501.0443057,541.9483998,427.4942761,625.3482265,678.5595652,654.4702641,431.0085748,482.5120191,548.4052371,478.2226517,465.5737975,440.5599708,466.397472,489.6477891,444.9996477,362.5947181,731.5618761,376.1708434,476.8035004,630.6452291,477.9089439,329.3302205,480.6324763,560.4209076,423.6326319,497.7006461,486.5210676,494.2591759,459.3960385,419.3385795,391.6781455,486.7663599,657.8678432,503.4514388,488.2150041,503.9920682,648.904219,370.5604807,595.817747,731.4402924,432.0619001,434.5712205,351.2037065,595.1070958,274.1689537,434.1002588,546.6727559,403.7297499,594.7221714,488.897551,746.145341,420.7021756,662.9666319,700.0084625,498.3876606,494.0551922,435.3879154,514.7145466,342.6553034,614.8149264,621.2067629,585.9819941,381.8024151,658.9566002,591.1158376,369.2703695,452.9245926,430.0260915,364.2559451,614.5474258,311.02247,456.7407136,478.4818356,600.126138,531.8682601,320.643403,820.724022,456.4786879,433.2197933,396.79078,450.0046169,585.0938025,554.4901203,572.7053956,651.0028073,582.6875226,616.9944003,439.3125083,345.315246,470.1016955,731.5594062,482.5655775,407.9392627,648.2042885,473.3407049,495.6716825,471.1246639,477.1107437,548.2208328,355.1360184,450.9889914,514.5888486,362.2312356,485.4521433,478.8771011,443.4929899,450.4081356,434.9940818,439.2290769,548.9408354,330.6772412,404.3024952,464.8339317,403.9094148,520.1030781,489.4542174,462.5059292,503.6875762,507.2404407,302.6110474,615.2108745,429.0904087,546.6352817,637.7702144,536.8515692,477.1675089,327.2878204,453.2033953,585.2941984,662.7137696,436.1824306,477.4997235,472.3094058,620.4872195,336.6780578,436.3900466,560.0071356,671.2545607,547.4564052,486.9021671,422.0440713,519.6799838,535.980907,377.136928,504.3954957,502.7293381,394.4426146,573.4036122,437.7712614,639.6015714,713.0171239,609.8297259,506.1154491,604.5300676,424.5594345,498.433852,473.9659934,425.0072805,624.8449588,579.9185509,599.3628139,516.4855009,417.1369997,614.9937443,360.0191761,522.3810484,450.480907,357.2050867,588.3715687,497.7014599,536.4989648,433.4845202,472.208192,556.9819072,453.715176,458.0446404,490.4095974,434.2226657,408.1899217,470.5658055,364.7511364,426.2364248,598.761032,580.7758476,490.4334789,606.351813,694.2475503,398.8024524,614.8344775,407.9403285,467.6371192,522.7865556,542.4197414,477.1719928,772.956877,663.1332504,499.2377543,520.3266122,363.5788956,405.6780508,481.5643732,450.2555917,593.7498799,521.191031,388.582055,481.7946852,491.1120737,340.7836277,331.8941109,345.9436498,420.350624,639.8506348,522.5437758,275.3377168,416.2814499,376.9878173,609.6301806,497.0580562,949.6626718,580.4381967,398.6207288,348.4009519,302.8128348,424.4199935,465.1799197,447.5951038,457.4774879,594.1828014,387.8523157,614.3804322,422.87694,416.8989374,542.1781725,408.5855548,448.5277271,560.7226757,445.2461201,679.4893072,570.2169046,492.6065372,402.4157189,558.0587508,607.9964652,298.8588591,473.3133932,424.563654,549.8652777,582.6121787,740.0037432,433.1941642,594.1144312,460.1429023,690.4334163,507.6851162,356.3232835,451.7827664,468.6679004,504.4821967,563.5463265,520.6800335,621.3515398,471.3667164,571.2892031,607.7096735,487.6911592,609.6431474,500.9313423,346.457978,532.0841297,494.16296,356.5678081,454.4372156,469.7747551,462.8131338,637.8730298,660.6555881,511.4720359,430.0773077,440.7356978,431.7069809,476.3440939,512.0817743],\"type\":\"box\"},{\"boxpoints\":false,\"line\":{\"width\":1.3},\"marker\":{\"color\":\"rgba(50, 171, 96, 1.0)\"},\"name\":\"MinorAxisLength\",\"orientation\":\"v\",\"y\":[253.291155,243.0324363,266.3283177,208.7600423,290.8275329,200.12212,176.1314494,235.429835,172.5759261,227.7716147,232.3255064,186.9506295,201.8131355,291.3592017,247.8581228,167.7084908,206.4846437,235.7524629,182.8110368,216.5960537,252.529208,222.4437485,268.3337727,273.6599414,275.2161542,263.4592554,276.0151772,231.4656959,297.6406265,222.9020273,265.6902361,175.085568,265.8668635,225.8427713,235.9068241,213.5732718,234.6612245,192.013274,245.9897977,222.1858727,307.2739224,253.7969272,262.8124219,320.7145792,228.2803725,232.0553872,239.1327753,205.8650238,181.6658648,218.0411235,183.3152147,288.9539812,210.0732642,177.7720961,298.630592,203.097502,238.6419206,206.8807081,275.8888648,144.618672,246.4762569,198.7512989,228.7576146,245.7320369,208.1086262,221.9219567,208.6190158,258.9467393,208.7667575,236.7511846,280.2261534,208.1687832,241.8502909,237.0415232,219.7253525,208.3178983,248.5002712,189.4321576,233.9734424,191.6109615,202.5088754,216.5794558,219.6843649,326.8987235,251.9449198,323.1905688,235.6868033,188.7651659,173.5251032,210.4672152,217.6957013,225.1150238,260.2106227,238.2264457,206.7595988,185.7275682,282.7390316,233.7746492,202.4661938,280.1155681,245.5074738,199.7971077,241.3665105,204.126836,222.109478,178.6479431,239.1621656,261.9884386,269.7628551,253.2429662,265.8146124,176.7089727,202.1603698,227.1597173,276.607844,261.6430865,250.2207874,294.7622385,224.163105,277.2241619,254.4527709,213.8574996,226.6304906,226.9512079,303.2324524,198.4175196,278.1026598,243.4806344,205.2960945,238.7384529,270.7408973,249.4037249,197.4955028,213.6317375,204.3070754,207.5949862,273.0538098,205.7578712,193.4008772,306.899065,224.4858963,197.7528973,231.2190014,208.8552452,199.4459327,228.722883,246.0756721,206.6458262,180.4373603,249.5505,203.3191422,222.6097658,262.4744722,279.0908401,269.5167915,253.809071,235.3680757,215.1097845,202.2643597,167.3283344,197.090849,228.5166995,239.1884853,257.9511277,239.7987804,219.6829418,208.9148245,199.6354013,271.5787847,194.7602777,262.9740989,216.6793239,222.3818455,216.8939999,191.8173343,253.21136,288.7584072,226.2519485,208.4681478,204.2806212,255.6622254,233.2332051,247.8885463,169.3095334,273.8100991,188.1957136,166.5935504,234.2836291,237.6598183,241.6404129,249.8313709,289.4539006,208.1520065,231.7175312,186.0924236,284.1790677,237.1945766,315.7195205,231.8092351,227.9495391,243.2364806,243.540245,245.5420203,235.8289934,249.0897821,252.6171178,180.9575592,234.0242375,198.4655312,212.326943,217.913109,177.1367946,196.9761351,218.1227905,206.1461473,247.707867,189.9172045,221.6551009,229.5557698,219.4182435,203.0202207,226.9099341,247.7165958,275.5829735,265.4181085,255.2178271,260.3787541,227.5389974,289.15047,258.1339883,204.4966891,242.1139544,248.3743168,168.9830565,213.3645111,210.1140569,225.842499,189.2067438,178.3232873,197.5565774,211.0255917,175.1857446,213.1674456,209.1269246,288.2561589,232.2824399,201.2063136,222.2744566,227.8641444,212.2734472,277.0098428,225.6562198,175.4205147,212.635393,230.5595405,184.1913772,213.6196205,185.8512318,275.5139073,179.2233834,232.8200404,212.0277194,205.1640687,199.5409197,226.8031,256.9649659,205.0210803,224.7316909,203.1386868,234.8282406,234.38957,245.2199818,250.1043018,233.3566734,191.2982735,191.1090383,257.5462902,212.9548238,200.2718741,267.0341186,235.3860453,251.6796378,227.2577315,245.4408089,231.5372369,230.9972581,292.9160989,230.0560205,231.7495984,242.2285019,311.3413551,218.2168451,249.5294544,248.0867654,243.8811053,250.8148535,241.9344257,248.4080201,306.1052886,181.1570788,273.8879417,236.183035,243.9751621,258.8920062,234.6979363,210.6115221,191.1698622,204.432884,243.0010336,220.1186723,209.5097184,161.7023657,242.6836332,170.7762667,221.2409483,196.6171927,254.6003304,184.8022541,261.0119111,221.9197863,208.7278098,222.7534529,216.7666389,244.0280812,230.5255523,170.8372462,264.474304,257.3438202,209.8812282,252.0663638,198.7746557,194.9811366,212.119231,227.7259242,282.6808891,204.3355331,230.7152076,254.3101831,229.2867182,173.3469657,189.484632,274.9231996,210.0642098,245.9761755,247.0913226,237.6386774,192.9038367,218.5661729,253.2065911,207.825511,204.6545873,275.2848499,216.2720505,195.8674449,272.6713449,248.7961897,258.3843539,197.7035112,254.3765834,224.0094059,190.3513649,220.8199013,228.8007673,287.9931727,263.3333902,206.2251984,258.3928669,230.7099964,282.2148203,219.1856198,157.9904179,256.4883397,307.9116981,306.9548981,231.5511993,264.4148773,256.3830246,181.8567206,189.8138686,246.4047067,265.928797,155.0257428,143.7108718,240.7826944,250.6960737,201.5349368,218.8887484,216.8275716,249.5814954,209.630823,202.2364946,264.5790871,200.9579393,209.1461847,262.0614475,156.3955455,222.9994167,235.5598942,253.171548,247.3352308,193.0052021,171.2081645,189.765438,270.2860947,254.1729295,198.2839196,238.5102532,239.6017637,249.3908796,297.0241867,219.4898675,241.3995271,215.4342255,210.4280656,170.5330024,220.464395,171.0010504,186.2529038,236.8736053,269.6684468,300.7939859,272.751395,178.341115,185.4112735,192.6741159,272.0833254,213.1333342,185.1922062,187.0417222,247.6902693,214.8024505,214.5674661,205.4140518,241.2834392,200.2610472,150.2455819,258.275952,266.9075277,239.614078,325.7371661,218.6686172,243.9723903,231.9557989,231.5281935,243.2719738,246.2883243,280.2454497,201.3818552,182.3120807,210.3507977,273.2602815,288.5583194,251.960243,278.325498,209.3658885,337.5992453,288.3849296,272.7787203,371.0262137,233.1538498,270.4624159,187.1223778,249.5447658,180.0697373,250.9269903,217.0587358,228.6417533,320.58783,328.486879,335.7904519,205.7561847,326.5463364,286.0331908,328.3133366,245.3818805,366.7632399,309.1215157,311.1711176,289.0221686,403.7193275,292.0960638,267.5827815,305.090778,324.3025616,369.2864544,250.8926087,295.3167921,367.2795321,226.2166152,230.9042314,412.3828168,238.8394659,283.6112797,223.232633,235.0998706,321.6079813,264.028685,228.8458259,251.8328267,267.6688956,397.3101898,322.620924,231.6201421,316.6212427,221.4448377,259.1942281,271.8723954,395.5792906,265.3139704,301.5651259,237.2089894,229.7035618,295.5307052,235.1597735,356.2362867,390.3076128,379.7192817,268.2670249,187.0290194,254.3360345,304.6121493,238.289021,328.1121355,275.2605054,204.037706,265.2842028,224.5785157,351.4256873,261.7636982,231.6042653,246.9199675,239.402593,246.810056,322.6830027,302.2224471,239.4695614,204.7395131,251.1757003,321.4311911,232.5480394,295.5004623,376.4321931,308.0257871,315.2484647,293.9224346,228.161,300.2270016,314.547414,256.9501109,245.2439068,270.8593166,223.9076574,440.4971275,245.4242627,233.9901934,305.7358095,305.7917791,215.0799509,300.9086479,348.2821616,366.2370495,332.1238891,215.4482203,308.0001269,261.1366518,313.3098688,264.2584778,325.5076812,278.8373978,241.896779,276.8662029,243.1162956,268.7630536,311.9956922,321.6858345,319.0201112,270.743408,295.4230955,306.8177642,273.1819147,373.6425439,414.1883255,314.3906394,309.11683,269.145887,213.1798061,330.7711388,300.4577801,267.2018778,267.7270571,394.5247078,289.8286843,276.2481554,304.1564686,300.635686,217.561151,248.3224493,294.5338471,295.3319356,331.2490172,223.4999334,339.5262777,209.2796463,316.469824,292.130181,336.5716285,262.7704159,182.3239807,251.1605543,273.3299091,269.8171718,231.0557342,277.9092929,314.026534,237.7053859,300.5589867,413.9274732,326.3124485,273.1940698,260.083619,236.8825745,286.8998907,367.9003618,272.3013,218.7157773,262.6744113,241.123219,279.361007,290.2024046,243.6365121,275.5755957,239.3502938,241.3311658,192.9493667,299.4134054,243.9548291,282.0258157,326.2445303,273.4043639,257.2680933,241.0167682,302.6406658,251.2394448,274.5758066,323.3517303,301.6828956,242.6199645,238.3432501,248.0891166,297.1102875,378.0584606,266.4450356,261.7242599,252.4996254,339.1311299,241.9144571,375.0205347,337.1023722,275.6906108,244.4574533,197.2136417,330.3427512,191.378387,242.7017513,248.5279077,272.9703269,384.0380462,277.6837439,355.3006855,299.5836092,307.8680665,337.7066668,250.1120371,260.9736477,224.7276306,277.879091,204.0111119,304.3315314,379.4244465,281.6014086,258.5879725,308.528449,234.8233464,218.5287077,254.4821926,312.9725953,220.3620197,270.0854905,243.4761211,248.1499566,238.3218863,305.7668376,332.5761746,200.2455856,352.1936798,248.6068692,273.2554614,300.8126078,269.2865688,275.4936129,277.0668866,341.2457032,299.7432602,301.5684879,267.9807338,240.4941902,225.2188028,264.2362097,389.9466998,289.3857273,198.710116,402.2832708,214.0920312,272.6867344,238.3286787,261.9163163,231.6610186,212.0294595,241.3303882,275.5833551,236.4044486,243.0800284,345.9199722,293.3841689,276.9226152,235.5194933,258.3043276,265.3050959,215.7016476,256.0624764,247.352044,271.2515091,245.2097587,273.4526643,277.6991108,322.6225172,296.8298817,209.1160842,346.7022458,252.0375627,256.6147321,237.4717854,258.71716,277.2224874,212.2310886,222.6050244,270.7088097,275.4396927,264.8740998,261.9434084,287.5938899,376.4886055,189.2616674,236.8953933,259.3973494,328.9098892,354.5846058,257.2700163,305.8751238,325.3324878,324.95892,235.1294691,277.0339524,280.3437406,255.2544409,270.6325069,253.9093213,273.092077,316.3984978,408.5356188,334.3317845,372.8498432,203.3812923,274.5902751,207.7369888,268.6684637,340.6956311,400.8016603,327.0840676,260.1054455,219.1852525,352.28079,172.5083892,252.36543,233.6080557,228.86293,311.2961675,275.9717264,299.4368265,261.0666438,294.4538963,318.2528014,260.4860546,216.3409323,277.084224,220.4917639,281.3966838,254.2608114,249.723369,275.2870726,297.2016018,362.3455742,189.4429399,305.3303818,411.810369,182.8440459,297.7353473,245.8211977,258.947168,241.940773,293.4732356,231.0396812,388.201507,297.4179501,224.4723887,289.6619857,234.4544522,277.4549315,253.8467812,228.912522,346.7570543,302.1091845,205.5143916,288.6600202,293.9110068,231.4351892,184.2131203,235.4304678,275.8810121,258.3819447,308.0475964,226.802199,264.0989928,268.8326119,306.6080357,236.2127732,293.386698,318.180558,296.8829335,252.9930044,205.9633801,282.2115053,287.0157139,277.4359099,277.3867797,328.5680583,250.5845218,353.4662998,302.2095731,317.5428031,250.0630792,231.1420842,207.7512363,294.6625589,217.6202412,357.0472563,368.2206845,315.2013498,194.6688358,316.7128382,349.6589887,239.8993992,284.170622,207.8230517,308.392291,343.2602128,390.3008576,199.8147343,306.3100019,226.581322,332.5532581,268.0873433,248.674245,278.2800079,279.8129101,227.1275085,275.3557685,316.1898754,318.5977308,227.3931825,492.2752785,316.8097244,289.9248299,359.2245718,286.2523864,204.0812123,342.4207326,244.8038886,253.2546956,236.9642525,238.5393844,296.0912378,304.6225324,362.3150066,291.5913488,247.8386945,259.2931487,298.8373229,254.1760536,215.2719758],\"type\":\"box\"},{\"boxpoints\":false,\"line\":{\"width\":1.3},\"marker\":{\"color\":\"rgba(128, 0, 128, 1.0)\"},\"name\":\"Eccentricity\",\"orientation\":\"v\",\"y\":[0.819738392,0.801805234,0.798353619,0.684989217,0.56401133,0.777351277,0.823098681,0.706057518,0.845498789,0.784055626,0.856042518,0.784258452,0.683882337,0.510583813,0.769089738,0.767374275,0.858829168,0.746473726,0.799406959,0.855799392,0.701160962,0.739555027,0.737169367,0.419753707,0.788128405,0.698627251,0.58410581,0.726660229,0.517134931,0.783331958,0.786009488,0.822113695,0.683510499,0.764243075,0.369212459,0.51832833,0.639696077,0.851391425,0.795479241,0.633851884,0.633422315,0.717025543,0.713783938,0.492086934,0.852367489,0.711474579,0.770923534,0.612809911,0.834842987,0.7152614,0.816632082,0.822570794,0.853542978,0.845844473,0.781149506,0.749538262,0.643138024,0.784164747,0.542783247,0.767577386,0.707082253,0.771855496,0.856934002,0.696759162,0.830230914,0.767133811,0.778322762,0.811861615,0.759843328,0.791421357,0.784111496,0.840127895,0.77037364,0.772430874,0.70536589,0.74318078,0.772332349,0.763692969,0.834859339,0.805244577,0.787598712,0.756366569,0.773083296,0.537014933,0.772569894,0.923770364,0.797566261,0.708695988,0.761162183,0.716709132,0.731093185,0.721960082,0.7875856,0.751756706,0.781583108,0.724374455,0.619209281,0.704163616,0.74939737,0.57676457,0.81557794,0.847305856,0.627430162,0.816029801,0.768542385,0.829409642,0.460121209,0.64720992,0.733205484,0.645403364,0.737687128,0.836525515,0.787903331,0.610712677,0.786758156,0.773771049,0.793313932,0.65526509,0.777470812,0.656532102,0.697235919,0.744715834,0.619253764,0.733120775,0.675434094,0.825776045,0.521834977,0.558731929,0.72879271,0.863454506,0.647596035,0.725972018,0.783919938,0.732283957,0.794099752,0.810518333,0.800869044,0.829838749,0.842992995,0.74638361,0.603110639,0.823103652,0.824810334,0.735695738,0.753861393,0.813616588,0.779258691,0.792887194,0.776279027,0.684358117,0.714455428,0.74958095,0.702348195,0.638518237,0.672637467,0.800879085,0.348729642,0.78143908,0.599652719,0.849173815,0.774425873,0.653340582,0.792700937,0.830713904,0.798067621,0.782756248,0.766419171,0.667555617,0.783428223,0.755467225,0.769022556,0.786002573,0.765295307,0.850122963,0.835648938,0.766524847,0.655334662,0.649914023,0.561090145,0.745653394,0.815015963,0.781628075,0.66775371,0.861733321,0.696038327,0.772777753,0.804928834,0.672309707,0.770481865,0.819032478,0.783351347,0.659291894,0.44495009,0.851517765,0.796399015,0.690568105,0.77288661,0.432307345,0.725926293,0.735758503,0.687258427,0.683752754,0.778519786,0.808863683,0.691685086,0.746920746,0.751829118,0.724907214,0.643997206,0.710615819,0.673354968,0.857040355,0.848925537,0.778234722,0.768012151,0.646140518,0.819079815,0.808518015,0.832834246,0.65523977,0.716885111,0.79160385,0.535914821,0.777991385,0.74565434,0.778932753,0.812295614,0.794215984,0.530009681,0.740319531,0.804490914,0.520265279,0.826775225,0.769339036,0.708517498,0.502579995,0.52298617,0.849262336,0.818864551,0.741875489,0.746874181,0.841066464,0.765589944,0.823513752,0.652451831,0.671282476,0.741936124,0.746351424,0.762774955,0.718938975,0.644113015,0.496118267,0.786409924,0.507423663,0.832994182,0.784115281,0.81583235,0.786462407,0.605079015,0.784922337,0.743740567,0.699953594,0.655424446,0.792393852,0.760091178,0.759609525,0.829904913,0.815662968,0.857153654,0.806669001,0.627246499,0.840641076,0.843952802,0.793181118,0.777354334,0.54134302,0.748976897,0.840653105,0.699251006,0.712773879,0.679452185,0.693207597,0.67557273,0.799715505,0.817214876,0.70186924,0.698792225,0.79733001,0.826515979,0.665065172,0.902489762,0.81995626,0.749065428,0.808025921,0.756934744,0.701652699,0.582962247,0.529833692,0.718934015,0.71105609,0.742565182,0.660138051,0.749358072,0.768107985,0.722728935,0.82858974,0.891051301,0.800126045,0.725545687,0.581451809,0.81625629,0.893051844,0.709365401,0.809690001,0.800062704,0.766786821,0.418381972,0.716817189,0.589707296,0.740157695,0.832134559,0.711870752,0.627855296,0.767140615,0.775762211,0.769972704,0.706005483,0.649860993,0.80203462,0.782187815,0.841920242,0.833092526,0.803676777,0.741851492,0.534302927,0.799795765,0.801009823,0.797893855,0.846647455,0.849522441,0.716592623,0.754031829,0.80296515,0.709164675,0.732118179,0.82646137,0.783953309,0.800624837,0.82199021,0.867919298,0.752240304,0.74510983,0.626064816,0.82978902,0.691804118,0.731248797,0.458544698,0.869667343,0.765320366,0.798953455,0.81963199,0.633533709,0.778561165,0.780495845,0.680269105,0.718479434,0.654204824,0.691063598,0.690992119,0.755550137,0.801864322,0.694027404,0.54000213,0.682083382,0.78065406,0.585951613,0.70609608,0.745688178,0.856772375,0.803054658,0.747689152,0.806731223,0.811198369,0.740366108,0.764366384,0.736407405,0.819924857,0.833555048,0.727040805,0.846382218,0.773491106,0.74151054,0.794252979,0.846846105,0.798738633,0.806767261,0.857662466,0.805935469,0.803024243,0.713731082,0.821499608,0.816654393,0.840300429,0.782132713,0.770638009,0.797864438,0.739121421,0.791294159,0.812809305,0.754864415,0.780219721,0.805830387,0.781038479,0.779635513,0.800171576,0.758526041,0.740566437,0.82654621,0.791621183,0.741121199,0.573476639,0.7747273,0.705783651,0.736423765,0.729794954,0.742093815,0.784845746,0.750266822,0.823784218,0.704512743,0.789911277,0.797184383,0.836895588,0.800432782,0.870957281,0.790668532,0.757139293,0.764572839,0.846004564,0.54252098,0.716534018,0.685841703,0.700862765,0.794994961,0.737166231,0.647469874,0.70739191,0.851091037,0.857392304,0.584337455,0.907201118,0.840966033,0.855874944,0.782171631,0.855007371,0.817323783,0.877252896,0.856447002,0.537416298,0.8881652,0.84698069,0.909255569,0.925634934,0.830863512,0.912304144,0.841965878,0.912721946,0.901315524,0.865640348,0.895655767,0.871121605,0.721793107,0.807670301,0.844964592,0.830759616,0.806236591,0.812534049,0.730434168,0.863367048,0.773309506,0.875338198,0.681848156,0.780976537,0.500990716,0.725532478,0.818780557,0.771686556,0.927737116,0.895002832,0.868059652,0.630646744,0.822525594,0.784743459,0.850542335,0.857893642,0.83716934,0.881546115,0.842459099,0.911615194,0.830686786,0.532159522,0.872535895,0.815716625,0.835169296,0.902609051,0.864342392,0.96212444,0.810341407,0.910468935,0.907927113,0.850383428,0.865089207,0.742211915,0.853305321,0.806340027,0.777808102,0.832079617,0.820173426,0.906395428,0.816451523,0.885429547,0.854577011,0.883204868,0.847632242,0.824754645,0.879996398,0.82616862,0.806766406,0.892599892,0.838451647,0.853315591,0.904850809,0.829402027,0.795682271,0.900847975,0.826343087,0.921939284,0.811772822,0.839272464,0.902976663,0.914593881,0.822087757,0.851847299,0.758021814,0.765003405,0.815937489,0.6514683,0.773332196,0.909510252,0.869715856,0.77581274,0.829342993,0.674476207,0.828040175,0.82910585,0.80783856,0.71988502,0.888878022,0.612784478,0.745407081,0.81104538,0.801921074,0.907106886,0.781601193,0.862261419,0.828366668,0.876517212,0.846098403,0.872681468,0.874317368,0.830110932,0.817920329,0.804913476,0.89195687,0.90840748,0.842906798,0.851335233,0.857138757,0.823493997,0.895270971,0.851905369,0.755968807,0.850686743,0.806792408,0.83125185,0.819180326,0.851398389,0.720639035,0.870293382,0.857933758,0.734862852,0.800107952,0.88841751,0.815821133,0.855870727,0.891891237,0.649631331,0.786627389,0.652394055,0.833159184,0.90679426,0.731287033,0.893172211,0.818937495,0.76535397,0.853023753,0.740466412,0.887105943,0.878050657,0.873898112,0.753808948,0.819507998,0.884359909,0.757043179,0.709454946,0.759510001,0.740009433,0.770486336,0.838273925,0.87732059,0.832437662,0.88854772,0.840263379,0.909335484,0.861680554,0.838832653,0.898154134,0.811634818,0.781965247,0.833170935,0.80677413,0.87238391,0.84017353,0.846659474,0.912408981,0.761196452,0.806310313,0.855792865,0.820194593,0.624298597,0.865182269,0.841649703,0.805158483,0.834050126,0.747181362,0.792113448,0.849164703,0.822766851,0.773824179,0.792112164,0.818383583,0.848474157,0.844164633,0.865447744,0.852564975,0.757501058,0.777064027,0.887465183,0.769969011,0.826779841,0.827452081,0.831784963,0.71606769,0.829105982,0.890685928,0.736790229,0.763554308,0.823042761,0.879346962,0.702074218,0.88563635,0.87593328,0.864959104,0.849102747,0.856495219,0.841748223,0.803442088,0.868894695,0.791795655,0.876960072,0.73572335,0.883618526,0.917708543,0.806095763,0.827229367,0.685790415,0.796252226,0.898249041,0.622242108,0.839534766,0.867131498,0.86046812,0.780386042,0.78101538,0.903244833,0.838683717,0.77598221,0.652122156,0.801191187,0.88221128,0.866210843,0.803096791,0.887694392,0.85565446,0.900752608,0.836849476,0.758036475,0.827080776,0.84609325,0.800238655,0.873342236,0.784117922,0.891865826,0.835075211,0.862608676,0.835846416,0.906330851,0.802213456,0.844780047,0.844509317,0.757673254,0.865604032,0.691520882,0.749918202,0.788662816,0.840744874,0.80879864,0.8754528,0.757958591,0.773870556,0.846662711,0.74094546,0.88188543,0.829377269,0.799682716,0.767940576,0.810899272,0.72281732,0.826081781,0.809313914,0.882962171,0.928093615,0.876217627,0.813921262,0.761253861,0.871057374,0.886610152,0.909536563,0.794506753,0.836102728,0.793239365,0.794882897,0.827039135,0.839828107,0.886251871,0.871726491,0.761899987,0.849007165,0.68901521,0.779803256,0.795244976,0.781855924,0.835664958,0.830080564,0.762382271,0.881611618,0.814613238,0.904264761,0.896152602,0.742435528,0.750752113,0.787151415,0.877792635,0.834567201,0.898831116,0.774845821,0.838274613,0.722726255,0.837967815,0.863933164,0.850823569,0.819681103,0.877725147,0.875561861,0.855032254,0.767787509,0.84857138,0.832188722,0.829752693,0.798306516,0.781769152,0.820680026,0.818772562,0.881430321,0.825086992,0.861483822,0.724402895,0.841453216,0.728880994,0.763459806,0.868116234,0.78150484,0.922383026,0.863964234,0.805073466,0.888703306,0.874928099,0.798050128,0.832692769,0.886467562,0.840993944,0.874965463,0.864734549,0.893780798,0.893214785,0.83071856,0.764307755,0.729548695,0.849784975,0.861117655,0.811745025,0.814864461,0.848694829,0.80064808,0.801152573,0.73402126,0.831826447,0.732705625,0.754489905,0.914840211,0.807757147,0.566991437,0.772985146,0.701055316,0.864320723,0.879866091,0.951082244,0.836364958,0.667315162,0.687531298,0.733056942,0.746901655,0.78696365,0.784730757,0.795205711,0.833198042,0.76326774,0.817927331,0.699480849,0.647955574,0.887286135,0.824602335,0.88626171,0.850790524,0.872416085,0.850815756,0.763544285,0.768487895,0.875205907,0.823355491,0.818082863,0.596358734,0.799710534,0.87200443,0.827917003,0.808005855,0.849597917,0.887265505,0.856845008,0.870360472,0.876358889,0.849208116,0.71620554,0.787777611,0.802212378,0.892918128,0.872500913,0.794500651,0.858538226,0.875944181,0.507431838,0.853362761,0.804107077,0.807959919,0.820643598,0.808096294,0.765407249,0.868670102,0.703942708,0.853284574,0.861490344,0.768571317,0.878599234,0.836204746,0.821573762,0.817262582,0.808628995,0.721684066,0.84573851,0.907345395],\"type\":\"box\"},{\"boxpoints\":false,\"line\":{\"width\":1.3},\"marker\":{\"color\":\"rgba(219, 64, 82, 1.0)\"},\"name\":\"ConvexArea\",\"orientation\":\"v\",\"y\":[90546,78789,93717,47336,81463,51368,43904,62329,44743,66125,84460,45021,45133,78842,76807,35794,66419,66713,44714,72363,71849,59365,84427,64732,97865,77493,74545,62492,82552,63250,90715,43838,77541,63397,48275,43096,57724,56450,79220,50880,97988,73265,79255,93772,80138,60232,71321,43114,47802,54175,46400,118314,67372,48787,113256,49203,59943,55456,72223,26139,69097,50166,81718,66649,62213,61464,55539,91201,52913,74045,99256,64346,72895,70759,54438,51743,77437,44052,78641,49187,52903,57109,62380,100747,79970,221396,73002,40472,37418,50835,55392,58697,87057,68626,55774,40147,81032,60580,49877,75898,83143,59968,58954,57396,61585,45872,51456,71726,84981,66783,84964,46531,52772,51771,99085,86242,83306,91793,65298,81603,71843,54116,52396,59520,99609,55960,72330,57633,48900,90297,76287,71954,50468,53550,55288,59307,99561,61496,57197,112150,50672,56089,75540,51555,48077,72170,77118,56175,41446,68078,48142,59311,77454,80355,78443,86345,47173,59834,41860,42965,49237,55158,75653,95560,73864,61834,54510,42505,94693,46921,85978,61643,60701,70932,53893,82746,88056,53588,41594,50298,90905,71102,65403,45669,82807,45174,37401,58976,70649,81442,79677,88336,38874,81718,45285,89605,70719,87512,62511,60648,64925,63641,77508,75563,69240,76154,39926,64027,40765,50857,50732,48476,58786,60379,53944,64021,49996,67510,76912,51029,48658,67847,58143,95750,85615,81976,92630,68018,79230,79198,56526,54860,87728,36516,52250,40598,47739,54649,44753,47486,53531,46785,56076,61469,87052,58701,49996,58991,64811,52016,80872,47266,39765,42795,78032,43362,63117,44836,76355,41209,63897,48762,44535,52462,63504,80973,59845,70347,64722,74242,56851,86710,92321,70360,46443,34787,80094,67701,44944,81779,60597,69536,55879,80474,74481,59977,96072,70141,76449,62580,176818,66476,74373,83634,71937,70274,58178,58095,107423,37442,89063,58867,72585,83499,64424,63756,64406,56217,68383,46805,60916,48490,65825,40133,65057,48631,56989,39564,67032,58973,63997,56849,49075,74175,67299,37747,79086,69844,59225,81999,59040,54875,60664,62130,74945,55143,70719,86319,79297,46287,41587,92636,58810,69233,71994,78465,48183,63724,91704,69356,51007,90865,48457,56120,82949,71504,60254,64962,80285,66639,51847,50879,67524,105569,75353,49089,70703,58879,87873,58408,33699,72618,89581,102881,69039,67971,73417,39909,55662,81839,84531,32564,28607,68732,77958,48300,66825,69597,72981,65958,51829,83419,53060,66445,91337,33540,78125,74803,85879,69587,52619,41361,52949,93480,80799,52600,67503,74825,84950,108211,62384,78857,58924,56855,39280,59383,35376,50165,73593,86777,87929,93719,35824,40747,42792,87690,58274,40539,49367,69607,59449,60494,61711,76702,65950,30316,82562,87883,85648,100682,55147,64898,60738,71336,69889,64553,88754,62974,52070,43443,142650,123587,99166,100113,67286,158371,138133,115602,128307,93706,110611,68813,132802,46532,123463,70809,101539,192699,174282,204472,69700,123486,111765,161901,86346,180994,130649,112497,132108,209580,141818,78359,120546,95920,159063,89018,111089,278217,93549,86859,174277,80497,104186,76975,86694,150416,118098,78952,125638,104255,146328,169000,76252,144300,92317,106888,221527,212813,136793,174718,85000,85201,105429,84780,168292,192922,209242,100169,67199,89920,160709,88521,181412,115550,59797,116783,71648,167471,120657,79014,95477,107968,86909,138992,167442,81325,87172,85292,151644,101271,172003,197672,146231,122375,107992,71591,93821,123305,128101,97496,94720,73278,209457,87230,79168,125665,107313,80680,90968,144034,181715,149076,88730,122903,109161,139458,116787,159681,127342,97149,109593,82708,97428,171794,197851,149156,112975,135814,134796,134139,210114,209486,149403,130059,105500,64321,167411,103883,116961,111368,181352,111624,135975,126960,139806,85153,64892,112766,92014,157353,95252,136555,78159,139701,106036,173362,82394,58632,107520,125083,88349,74718,134574,120922,64499,110755,201464,132727,108790,112825,82328,144444,201241,141442,77521,102157,107983,106906,109052,88806,102653,95774,87785,56006,174278,72819,108072,165385,104567,70556,93826,134950,83932,109179,125067,118786,89047,80688,77890,116531,197430,108615,101977,101317,177170,72724,174610,196576,95197,85611,56030,156402,41924,84581,110984,88615,181288,108197,212569,100659,161782,190749,100204,104468,77824,114995,54576,150534,188848,133704,78977,162376,111428,66145,92886,106439,65462,133475,61519,92046,92397,145158,138078,52692,219952,90550,93852,95370,96340,128308,125132,155411,155494,139124,133001,83384,62614,99678,227170,111707,64694,207198,82967,109157,89794,100259,102899,60490,88842,114538,69506,95741,134778,104508,100712,83074,89048,116819,56639,84523,92412,87629,103918,106961,101921,131499,122361,50679,170954,87269,113425,120417,112201,108053,55532,81689,128445,148697,93928,99964,109501,187560,52077,82642,116070,175679,155682,100196,100815,133811,139810,71551,111306,113476,81613,124432,90825,139500,179961,197426,134210,180289,70487,110118,80356,92317,170781,185474,152985,106499,73629,172094,51538,105956,84540,65994,149492,109992,129758,90160,111241,143228,94643,78694,107939,77356,93087,95156,72956,92030,142159,167563,75157,148528,225916,58530,148078,79715,98337,101231,126325,89369,239093,158488,88572,121057,68906,89710,97623,80567,163523,125856,63596,109314,114128,63181,49720,67390,90768,129101,129444,50103,90393,82584,148876,96247,225592,145899,95666,70513,50748,95982,105549,100285,101717,155600,77706,173527,101942,107169,108119,76106,75002,130766,76157,195810,165584,123230,61673,142114,169060,58630,108094,70674,136612,160008,229195,70454,146674,82990,181954,108296,69880,101878,103475,90790,125523,130948,159694,87501,228259,153905,113271,174156,113888,56464,144862,97707,71879,82555,92673,108914,154549,189799,119773,85839,90899,106264,97653,89197],\"type\":\"box\"},{\"boxpoints\":false,\"line\":{\"width\":1.3},\"marker\":{\"color\":\"rgba(0, 128, 128, 1.0)\"},\"name\":\"Extent\",\"orientation\":\"v\",\"y\":[0.758650579,0.68412957,0.637612812,0.699599385,0.792771926,0.658456354,0.665893562,0.74359819,0.698030924,0.664375716,0.674235757,0.697068248,0.690855598,0.772322237,0.680181585,0.68155052,0.75677257,0.694998015,0.713838189,0.728075054,0.734398534,0.723608833,0.686375085,0.643595671,0.704057157,0.726277372,0.778736856,0.69858783,0.757559607,0.744124224,0.752063524,0.697444367,0.723079729,0.746829611,0.684219059,0.743089401,0.703287982,0.611417674,0.721545397,0.766377827,0.75304396,0.715484271,0.732267077,0.749006827,0.631720869,0.645103465,0.727177893,0.824319225,0.732682771,0.675190536,0.656177905,0.681904966,0.616981132,0.634230657,0.690092879,0.667775392,0.693625546,0.691695375,0.727023897,0.678144032,0.692446491,0.702770596,0.642192762,0.66254095,0.665683112,0.697485902,0.674553259,0.655190643,0.751889645,0.718536732,0.674956111,0.67634488,0.697453002,0.712858926,0.695879962,0.720863268,0.745370006,0.725119048,0.758754595,0.773237024,0.692470967,0.704444444,0.660287081,0.740420596,0.703864647,0.454188929,0.66062887,0.697576154,0.706832223,0.698607314,0.745944749,0.685736144,0.702560887,0.756943504,0.714434188,0.737583283,0.779156886,0.725925745,0.677642591,0.731741628,0.762382252,0.714780201,0.710346522,0.743990207,0.709619286,0.677637221,0.711244478,0.698347024,0.745434745,0.764829716,0.698270844,0.732999603,0.704805743,0.835454545,0.70929382,0.713834797,0.749044143,0.762549046,0.690843725,0.735114151,0.701153379,0.684289081,0.737442725,0.688592377,0.731331126,0.655895281,0.76010929,0.740165631,0.720914695,0.658456829,0.766676926,0.7461579,0.663815575,0.695051277,0.693692051,0.649981827,0.671204732,0.630103195,0.710295439,0.752397666,0.727613045,0.731341251,0.656512605,0.723225806,0.70526284,0.661674303,0.704712179,0.723391813,0.722972478,0.759917351,0.656913967,0.777295152,0.740915368,0.708897225,0.724287614,0.653494033,0.742280362,0.737582676,0.663039663,0.641185842,0.683409393,0.715746997,0.709568466,0.710370382,0.751833496,0.755822747,0.728442565,0.732383622,0.704122154,0.67518458,0.686782733,0.645498252,0.714819412,0.738242255,0.708995359,0.671900035,0.776944987,0.756163594,0.70757157,0.740127679,0.708726586,0.736994471,0.756999834,0.677934111,0.711719732,0.696283865,0.812265444,0.712711069,0.721042955,0.753436549,0.757992637,0.727896163,0.794371379,0.738448432,0.633605969,0.73824584,0.706155633,0.785886818,0.683711081,0.700286801,0.735317295,0.673137894,0.686113099,0.740115679,0.703014672,0.735392657,0.696593309,0.705612526,0.733384022,0.779294866,0.658811365,0.61463255,0.769151222,0.704257176,0.742600897,0.716062129,0.625615,0.654744466,0.679771405,0.711033729,0.648829289,0.67011755,0.778285573,0.687069934,0.663072689,0.708385459,0.656529107,0.714438491,0.741100324,0.745202952,0.688495238,0.737749216,0.687577266,0.664187423,0.650107229,0.779432833,0.759090614,0.703402763,0.572669696,0.647425443,0.710051367,0.649275753,0.673221768,0.755157975,0.762151543,0.711769781,0.628971988,0.688668657,0.650566038,0.687507692,0.732483472,0.741286253,0.760436395,0.646827284,0.706459362,0.691330839,0.786776754,0.670082721,0.73124602,0.722204347,0.705620699,0.69527897,0.754021912,0.766294481,0.718720657,0.678446719,0.757476883,0.746130132,0.740084919,0.690650883,0.75133953,0.622017819,0.752003469,0.697810444,0.648741706,0.792998657,0.72693048,0.77052354,0.673127962,0.73159735,0.690364202,0.655261122,0.73819523,0.684273038,0.709103722,0.721190282,0.767668921,0.65970447,0.679453706,0.721542781,0.529774048,0.644356396,0.777794531,0.713728344,0.690789927,0.703439853,0.727739018,0.725273711,0.714616222,0.694480769,0.703574648,0.732865767,0.676723637,0.725472034,0.712041464,0.632188028,0.786145031,0.683504044,0.76069161,0.686071949,0.732782609,0.644743975,0.769218037,0.780883243,0.663844642,0.637631572,0.730654294,0.682497943,0.738719809,0.716762355,0.63947956,0.714254241,0.714070801,0.720924428,0.697943308,0.669480333,0.731251436,0.757604541,0.699832704,0.72851683,0.634965144,0.691175711,0.784413741,0.726680161,0.706179792,0.817388614,0.6593012,0.70994898,0.665346888,0.638466441,0.724282537,0.738675293,0.647718841,0.740815867,0.722542219,0.705085125,0.655278582,0.687300355,0.716220548,0.691026582,0.760809215,0.717962253,0.761653373,0.732663025,0.725486822,0.693937827,0.774756149,0.701161946,0.703003457,0.676634437,0.66134168,0.714770872,0.655845605,0.726967785,0.754739312,0.721187789,0.75184561,0.718647085,0.733663131,0.685666764,0.681117902,0.742975069,0.711009953,0.752578628,0.742390035,0.676864225,0.650222613,0.716030818,0.603678181,0.655148423,0.718458106,0.613910617,0.693487281,0.697662517,0.73744195,0.721307939,0.764336518,0.664193878,0.725744843,0.767873412,0.677975097,0.668021782,0.72541099,0.66740908,0.713846277,0.658393331,0.723184154,0.746867425,0.648281256,0.729512956,0.656552752,0.619968504,0.660997732,0.692924564,0.705007428,0.681695537,0.762676056,0.689966401,0.742458211,0.726297937,0.713052833,0.731227487,0.693394176,0.750401546,0.721173923,0.738172941,0.788048575,0.680708836,0.701677879,0.751028843,0.748622661,0.625024255,0.749399624,0.712562139,0.682773386,0.714817957,0.659853078,0.733007733,0.745108064,0.745026085,0.674039717,0.657557931,0.736289139,0.726470473,0.7229673,0.622292797,0.71950598,0.718740092,0.700769491,0.729864528,0.728432118,0.704603994,0.700500144,0.679310549,0.678319442,0.707449022,0.742231578,0.684081829,0.623352166,0.729700613,0.731637667,0.730067672,0.722782014,0.706597603,0.597392869,0.7216,0.74243622,0.614705496,0.698250157,0.491002009,0.632908552,0.63426911,0.73666198,0.830632225,0.615745148,0.70311297,0.573452572,0.645353264,0.681538723,0.728769116,0.66625485,0.723886976,0.707906277,0.641322804,0.657162126,0.683219376,0.679096353,0.686944665,0.604408842,0.613785469,0.60152231,0.67995405,0.742643053,0.747599585,0.739083641,0.723343769,0.729683725,0.507352075,0.738386349,0.609222133,0.70191488,0.668994838,0.673788505,0.683852617,0.711227443,0.695421481,0.627862764,0.685461187,0.526259635,0.639614136,0.750260314,0.757757749,0.642461908,0.659151906,0.555157323,0.573241751,0.379856115,0.771748314,0.582496357,0.716926627,0.583107877,0.607359562,0.713290393,0.629437077,0.719282081,0.747156346,0.717218816,0.694716941,0.686235379,0.735371438,0.697046209,0.708450645,0.739152923,0.7304361,0.718426867,0.66209179,0.719385856,0.704685775,0.649487407,0.59261729,0.673231039,0.668066581,0.630243012,0.722192393,0.763778569,0.654279767,0.491460095,0.746436873,0.6485275,0.553411373,0.796730297,0.631120527,0.733999104,0.7844673,0.647265235,0.664527251,0.671063554,0.70883156,0.641284069,0.719887507,0.682649239,0.728765213,0.751009036,0.702859542,0.658669736,0.70666472,0.736901835,0.621328517,0.728499171,0.69363089,0.789451783,0.729421056,0.629612341,0.675596941,0.65023094,0.722141961,0.725860952,0.761057039,0.60261772,0.672892643,0.713611945,0.637353474,0.715906997,0.578673899,0.605915848,0.632833301,0.698815436,0.71150732,0.64875817,0.536784249,0.780576219,0.76928865,0.746736026,0.736226499,0.67,0.737472545,0.723185339,0.724719182,0.743155287,0.733559965,0.737206739,0.740102967,0.67400216,0.728998849,0.679589556,0.714973571,0.734356566,0.744780007,0.696992892,0.594050406,0.547433097,0.647529753,0.712414947,0.729890232,0.637828409,0.682988899,0.623285654,0.625069042,0.733311646,0.643713354,0.70294108,0.663897875,0.712977469,0.724300244,0.696275072,0.764047729,0.768569796,0.719183673,0.750751174,0.689192749,0.69841719,0.632588558,0.79154619,0.706431237,0.648154835,0.686586549,0.715653732,0.77991351,0.730380886,0.685808886,0.6870381,0.672344689,0.720549965,0.699917592,0.755515672,0.72827907,0.769034792,0.751898675,0.684337933,0.723263519,0.643559069,0.744313787,0.729480633,0.716535433,0.759912623,0.71936754,0.725930755,0.648001,0.668176329,0.739561481,0.786426888,0.667043297,0.679432242,0.708423059,0.713766518,0.71260281,0.636111296,0.734399043,0.715447344,0.649910941,0.706141745,0.67130865,0.721615488,0.674012309,0.687345679,0.710499821,0.74704638,0.772169783,0.745808887,0.707426224,0.742108801,0.698891395,0.675361077,0.61417513,0.681927322,0.670785994,0.649178255,0.733669028,0.733060891,0.750683811,0.747347818,0.726610542,0.522278775,0.711720382,0.736088407,0.717930823,0.7233925,0.689689754,0.656334872,0.644193035,0.606600084,0.585589398,0.667621591,0.675122045,0.496936979,0.607853978,0.717702448,0.723317129,0.71684776,0.681831859,0.747413046,0.777524801,0.719325646,0.634567669,0.621483426,0.691161601,0.735576165,0.754547447,0.770542973,0.702710238,0.628258686,0.773987918,0.674377378,0.730218937,0.584770469,0.777045002,0.616301518,0.734956305,0.729824958,0.689698853,0.684109182,0.700032075,0.624908356,0.750241792,0.703058137,0.696116854,0.699757752,0.677181674,0.654281336,0.663542132,0.624797395,0.67494521,0.576457129,0.741609977,0.682242863,0.643253594,0.618402185,0.677051307,0.735823666,0.704841486,0.580625185,0.652865745,0.729520929,0.715684093,0.646413348,0.733492868,0.579493175,0.732276687,0.588446959,0.694107266,0.678388339,0.721829842,0.724950397,0.654597092,0.558566689,0.738159297,0.711847256,0.688908984,0.633349614,0.745071058,0.688558608,0.719074732,0.620933014,0.6354731,0.632365454,0.723790395,0.705146139,0.73672628,0.592162706,0.769656124,0.705522559,0.775837589,0.628014974,0.773187379,0.661007591,0.761312848,0.779463573,0.716808511,0.690156141,0.691085026,0.725454805,0.740122616,0.711320187,0.741658503,0.733213483,0.707307692,0.721793513,0.697561586,0.735948588,0.73579464,0.770049274,0.697215215,0.751860779,0.658392557,0.670404145,0.621603191,0.713854554,0.632396721,0.727848231,0.740107415,0.748756786,0.770427286,0.500546035,0.800255194,0.764940471,0.65636597,0.643516382,0.689010979,0.7129884,0.725982963,0.65953021,0.730391156,0.711672732,0.61471504,0.67084419,0.712064948,0.688944066,0.743688283,0.737951528,0.677376367,0.785231188,0.734512254,0.791440045,0.715983148,0.734758929,0.734803992,0.748192733,0.70227959,0.673805327,0.534714521,0.739578685,0.669594277,0.697670974,0.719924469,0.682495301,0.636981038,0.414153748,0.754857688,0.742996727,0.670877399,0.742824357,0.746163157,0.686192924,0.687258906,0.78868349,0.721207805,0.735096754,0.756241377,0.720765368,0.724419777,0.646932785,0.703181055,0.696373759,0.667778474,0.654434087,0.612143209,0.781964054,0.672032484,0.719710626,0.677764642,0.753517688,0.681452744,0.787014132,0.611693881,0.650653694,0.762219476,0.744187354,0.708950617,0.764489545,0.651213128,0.779403089,0.700270537,0.708661084,0.689695666,0.785177527,0.727157486,0.668155987,0.694510885,0.750048547,0.633078974,0.731973651,0.642408712,0.687099748,0.771737563,0.732395854,0.636111111,0.770643939,0.702386185,0.700929152,0.578255972,0.6810436,0.759967476,0.593805036,0.71394663,0.62476017,0.66879293,0.636476246,0.741098519,0.658798253,0.632019963],\"type\":\"box\"},{\"boxpoints\":false,\"line\":{\"width\":1.3},\"marker\":{\"color\":\"rgba(255, 255, 51, 1.0)\"},\"name\":\"Perimeter\",\"orientation\":\"v\",\"y\":[1184.04,1121.786,1208.575,844.162,1073.251,881.836,823.796,933.366,849.728,981.544,1176.305,818.873,803.748,1042.77,1084.729,751.413,1028.445,981.509,814.68,1061.321,1035.501,928.272,1106.355,971.769,1181.921,1059.186,1010.474,964.603,1063.868,982.788,1162.877,828.697,1075.792,972.472,844.312,784.912,926.095,968.729,1100.676,843.764,1201.39,1036.94,1095.283,1135.662,1141.189,992.114,1022.568,790.427,870.387,902.624,845.786,1340.897,1030.155,901.102,1298.188,861.58,952.023,936.371,1039.551,619.074,1003.374,868.06,1157.33,997.989,990.547,981.517,912.153,1179.694,903.308,1069.77,1255.245,1054.198,1086.857,1049.093,894.48,873.777,1081.339,814.182,1091.754,860.402,896.728,957.132,991.612,1176.6,1100.836,2253.557,1034.183,755.822,750.909,867.582,889.626,933.896,1140.684,989.016,934.547,769.242,1045.658,920.573,860.548,1012.365,1114.736,978.85,911.857,973.259,966.329,842.121,872.289,1035.022,1115.811,975.425,1187.338,883.973,877.799,847.664,1259.451,1144.973,1154.54,1136.669,1013.202,1075.271,1051.02,923.19,855.997,977.425,1223.904,930.627,993.05,900.109,861.179,1193.28,1048.675,1003.769,875.174,893.451,922.011,953.496,1212.667,998.437,965.068,1252.875,845.128,938.705,1096.751,851.632,847.792,1066.388,1073.768,922.878,790.531,993.455,879.832,925.795,1051.266,1071.385,1070.053,1153.434,810.195,950.721,791.464,846.833,857.776,906.666,1075.279,1252.762,1101.502,978.631,928.217,798.515,1183.447,848.487,1157.001,988.273,948.233,1097.292,912.259,1127.409,1139.446,862.778,777.663,848.422,1176.287,1024.993,953.445,867.446,1057.448,817.41,747.161,906.829,1015.771,1102.423,1059.644,1094.59,734.102,1120.963,820.714,1122.16,1001.236,1070.062,966.438,916.044,945.523,958.627,1063.377,1050.909,1001.714,1040.788,762.439,975.553,763.979,834.328,869.795,891.528,949.936,944.879,898.546,947.541,883.044,1057.897,1131.096,869.188,875.764,1048.186,904.508,1198.259,1113.144,1110.378,1216.535,1020.029,1065.191,1056.74,931.43,895.745,1169.983,750.365,877.43,737.468,799.991,929.471,870.063,849.225,895.04,877.02,931.117,968.36,1094.576,929.115,907.025,926.255,1004.245,868.951,1110.44,813.276,770.59,793.005,1095.055,804.559,966.493,802.261,1050.012,761.949,979.447,860.58,785.843,875.267,974.079,1092.709,945.191,1042.257,1004.349,1037.399,893.644,1179.024,1180.478,1030.869,884.495,699.415,1112.212,1014.789,840.167,1075.307,927.048,1032.358,887.109,1099.512,1055.302,940.22,1174.166,1050.867,1071.612,941.486,2098.263,1002.035,1050.221,1148.651,1024.256,978.434,915.496,921.613,1228.366,737.637,1120.019,903.769,1040.716,1103.153,970.754,989.499,1018.553,915.939,972.971,833.117,950.717,901.17,948.889,769.691,977.085,843.96,875.659,754.022,944.713,919.044,998.47,909.604,854.724,1048.486,989.581,754.366,1074.702,1006.22,940.413,1100.85,973.599,921.762,970.932,946.487,1052.159,928.274,1026.686,1168.247,1140.399,867.003,781.97,1196.03,934.684,1036.517,1010.809,1114.88,850.782,981.059,1189.483,1073.138,855.392,1141.296,820.106,930.619,1084.306,1024.207,908.357,1026.109,1097.299,1008.276,928.016,841.666,995.692,1230.233,1017.749,840.545,989.917,916.396,1106.033,941.429,713.775,1011.054,1099.568,1202.369,1006.028,998.793,1033.87,757.295,943.599,1113.607,1112.784,718.847,678.815,1006.375,1065.68,836.109,1018.353,1079.752,1079.973,1014.268,907.423,1120.777,894.039,1047.037,1176.657,727.561,1103.236,1073.916,1163.528,983.385,909.681,798.546,897.111,1165.084,1074.108,897.796,971.938,1046.52,1130.673,1254.861,979.727,1068.375,935.816,910.837,761.131,915.379,719.935,873.837,1038.741,1118.999,1080.007,1179.374,713.94,772.501,782.362,1104.717,931.451,766.531,858.386,997.276,939.149,962.708,971.185,1080.034,1023.064,683.004,1114.488,1146.164,1148.363,1193.908,882.669,977.095,966.758,1067.692,1035.277,997.264,1154.562,1043.187,961.439,801.526,1590.354,1432.006,1276.807,1216.979,1083.477,1530.315,1497.515,1366.74,1373.537,1367.331,1325.947,1177.714,1552.54,836.625,1486.769,1051.553,1383.647,1791.568,1685.283,1893.414,1075.404,1322.814,1305.144,1604.103,1170.091,1652.694,1423.997,1306.577,1446.923,1870.28,1529.79,1087.034,1351.422,1190.813,1582.146,1182.575,1306.455,2697.753,1262.578,1199.017,1559.214,1131.54,1269.066,1117.107,1159.779,1535.287,1394.088,1130.395,1480.951,1289.209,1422.014,1654.986,1101.879,1507.939,1277.388,1331.797,2303.69,1755.167,1544.712,1781.378,1192.014,1226.244,1268.05,1182.274,1580.961,1698.394,1827.9,1244.252,1081.68,1173.259,1626.909,1202.583,1754.378,1365.577,980.39,1419.577,1071.644,1621.959,1455.893,1157.109,1328.744,1390.73,1222.158,1488.84,1687.178,1131.53,1299.386,1139.84,1595.364,1352.482,1725.003,1744.271,1536.473,1356.398,1332.203,1099.228,1239.54,1419.16,1522.028,1256.322,1234.547,1105.79,1726.246,1177.858,1143.294,1418.304,1244.054,1162.004,1144.344,1471.508,1630.704,1506.255,1246.361,1394.1,1378.308,1458.551,1388.476,1564.694,1488.324,1293.559,1345.426,1122.831,1222.886,1680.121,1865.297,1529.068,1378.774,1457.016,1459.345,1513.352,1866.091,1736.839,1531.955,1396.906,1307.683,1006.984,1679.562,1257.029,1390.4,1377.248,1647.505,1293.225,1508.934,1388.684,1502.661,1219.105,950.297,1290.239,1144.036,1570.502,1295.377,1447.684,1157.089,1461.03,1266.255,1629.634,1137.706,1021.989,1393.213,1459.584,1127.889,1062.07,1461.111,1361.884,963.009,1277.791,1687.866,1393.974,1302.472,1369.202,1169.476,1594.209,1766.873,1562.268,1187.724,1270.564,1391.207,1263.012,1302.361,1238.163,1260.343,1270.266,1182.561,945.828,1753.016,1046.692,1266.876,1646.559,1266.657,1128.077,1251.679,1446.145,1130.427,1295.27,1357.888,1328.07,1173.308,1114.454,1077.419,1313.092,1700.937,1343.017,1259.069,1281.252,1660.677,1027.513,1591.894,1803.686,1193.836,1174.203,934.49,1608.599,771.797,1162.37,1398.545,1156.718,1622.032,1315.843,1876.028,1245.034,1646.525,1789.254,1298.138,1317.687,1100.929,1370.914,930.051,1539.429,1679.075,1499.355,1075.8,1624.343,1425.109,1036.527,1209.622,1251.802,1056.491,1531.744,968.697,1205.863,1217.127,1495.983,1539.944,921.059,2289.889,1207.534,1182.21,1157.771,1194.631,1485.99,1434.389,1500.251,1633.723,1509.374,1513.469,1162.608,987.617,1265.032,1876.307,1316.871,1030.757,1724.662,1214.981,1316.398,1246.2,1229.813,1399.672,940.363,1183.981,1360.821,1024.169,1244.563,1549.185,1238.627,1239.314,1148.633,1184.581,1385.645,936.823,1153.618,1198.853,1140.605,1345.687,1273.128,1217.831,1429.352,1407.401,889.743,1635.791,1176.227,1405.868,1484.334,1354.715,1339.098,934.708,1161.291,1526.711,1622.58,1320.46,1258.683,1281.378,1695.23,919.419,1148.146,1456.757,1689.585,1544.342,1272.882,1254.468,1393.335,1475.658,1087.108,1297.147,1323.557,1130.405,1418.385,1199.809,1535.248,1739.277,1639.103,1412.02,1622.809,1126.765,1285.854,1205.819,1184.156,1641.14,1628.157,1557.606,1285.063,1085.215,1607.527,940.542,1311.161,1162.256,1006.598,1521.811,1347.989,1404.303,1166.517,1267.646,1576.336,1204.623,1135.68,1297.279,1183.236,1187.085,1216.104,1027.206,1163.021,1510.852,1554.365,1182.852,1547.081,1812.569,1008.134,1553.114,1068.727,1258.966,1298.731,1400.524,1202.493,1942.05,1755.968,1258.062,1374.171,1015.021,1126.518,1225.352,1142.632,1548.609,1403.043,977.906,1284.69,1303.224,956.302,874.091,1063.621,1172.642,1496.062,1414.078,859.326,1209.582,1144.959,1538.316,1271.343,2352.029,1512.658,1173.39,1028.839,862.001,1204.61,1310.51,1229.91,1248.75,1560.016,1078.409,1641.456,1191.348,1261.988,1360.497,1079.578,1091.499,1426.6,1147.6,1831.909,1563.83,1311.522,1034.144,1478.596,1574.164,915.13,1259.934,1105.042,1453.895,1555.816,1853.893,1085.157,1530.598,1205.141,1681.985,1295.591,1022.705,1254.755,1233.824,1230.493,1469.764,1422.242,1585.782,1243.987,1947.46,1557.266,1316.112,1592.095,1319.435,927.283,1449.803,1269.68,1041.27,1175.034,1226.892,1235.078,1596.356,1682.478,1392.653,1129.072,1214.252,1292.828,1258.548,1272.862],\"type\":\"box\"}],                        {\"legend\":{\"bgcolor\":\"#F5F6F9\",\"font\":{\"color\":\"#4D5663\"}},\"paper_bgcolor\":\"#F5F6F9\",\"plot_bgcolor\":\"#F5F6F9\",\"template\":{\"data\":{\"barpolar\":[{\"marker\":{\"line\":{\"color\":\"#E5ECF6\",\"width\":0.5},\"pattern\":{\"fillmode\":\"overlay\",\"size\":10,\"solidity\":0.2}},\"type\":\"barpolar\"}],\"bar\":[{\"error_x\":{\"color\":\"#2a3f5f\"},\"error_y\":{\"color\":\"#2a3f5f\"},\"marker\":{\"line\":{\"color\":\"#E5ECF6\",\"width\":0.5},\"pattern\":{\"fillmode\":\"overlay\",\"size\":10,\"solidity\":0.2}},\"type\":\"bar\"}],\"carpet\":[{\"aaxis\":{\"endlinecolor\":\"#2a3f5f\",\"gridcolor\":\"white\",\"linecolor\":\"white\",\"minorgridcolor\":\"white\",\"startlinecolor\":\"#2a3f5f\"},\"baxis\":{\"endlinecolor\":\"#2a3f5f\",\"gridcolor\":\"white\",\"linecolor\":\"white\",\"minorgridcolor\":\"white\",\"startlinecolor\":\"#2a3f5f\"},\"type\":\"carpet\"}],\"choropleth\":[{\"colorbar\":{\"outlinewidth\":0,\"ticks\":\"\"},\"type\":\"choropleth\"}],\"contourcarpet\":[{\"colorbar\":{\"outlinewidth\":0,\"ticks\":\"\"},\"type\":\"contourcarpet\"}],\"contour\":[{\"colorbar\":{\"outlinewidth\":0,\"ticks\":\"\"},\"colorscale\":[[0.0,\"#0d0887\"],[0.1111111111111111,\"#46039f\"],[0.2222222222222222,\"#7201a8\"],[0.3333333333333333,\"#9c179e\"],[0.4444444444444444,\"#bd3786\"],[0.5555555555555556,\"#d8576b\"],[0.6666666666666666,\"#ed7953\"],[0.7777777777777778,\"#fb9f3a\"],[0.8888888888888888,\"#fdca26\"],[1.0,\"#f0f921\"]],\"type\":\"contour\"}],\"heatmapgl\":[{\"colorbar\":{\"outlinewidth\":0,\"ticks\":\"\"},\"colorscale\":[[0.0,\"#0d0887\"],[0.1111111111111111,\"#46039f\"],[0.2222222222222222,\"#7201a8\"],[0.3333333333333333,\"#9c179e\"],[0.4444444444444444,\"#bd3786\"],[0.5555555555555556,\"#d8576b\"],[0.6666666666666666,\"#ed7953\"],[0.7777777777777778,\"#fb9f3a\"],[0.8888888888888888,\"#fdca26\"],[1.0,\"#f0f921\"]],\"type\":\"heatmapgl\"}],\"heatmap\":[{\"colorbar\":{\"outlinewidth\":0,\"ticks\":\"\"},\"colorscale\":[[0.0,\"#0d0887\"],[0.1111111111111111,\"#46039f\"],[0.2222222222222222,\"#7201a8\"],[0.3333333333333333,\"#9c179e\"],[0.4444444444444444,\"#bd3786\"],[0.5555555555555556,\"#d8576b\"],[0.6666666666666666,\"#ed7953\"],[0.7777777777777778,\"#fb9f3a\"],[0.8888888888888888,\"#fdca26\"],[1.0,\"#f0f921\"]],\"type\":\"heatmap\"}],\"histogram2dcontour\":[{\"colorbar\":{\"outlinewidth\":0,\"ticks\":\"\"},\"colorscale\":[[0.0,\"#0d0887\"],[0.1111111111111111,\"#46039f\"],[0.2222222222222222,\"#7201a8\"],[0.3333333333333333,\"#9c179e\"],[0.4444444444444444,\"#bd3786\"],[0.5555555555555556,\"#d8576b\"],[0.6666666666666666,\"#ed7953\"],[0.7777777777777778,\"#fb9f3a\"],[0.8888888888888888,\"#fdca26\"],[1.0,\"#f0f921\"]],\"type\":\"histogram2dcontour\"}],\"histogram2d\":[{\"colorbar\":{\"outlinewidth\":0,\"ticks\":\"\"},\"colorscale\":[[0.0,\"#0d0887\"],[0.1111111111111111,\"#46039f\"],[0.2222222222222222,\"#7201a8\"],[0.3333333333333333,\"#9c179e\"],[0.4444444444444444,\"#bd3786\"],[0.5555555555555556,\"#d8576b\"],[0.6666666666666666,\"#ed7953\"],[0.7777777777777778,\"#fb9f3a\"],[0.8888888888888888,\"#fdca26\"],[1.0,\"#f0f921\"]],\"type\":\"histogram2d\"}],\"histogram\":[{\"marker\":{\"pattern\":{\"fillmode\":\"overlay\",\"size\":10,\"solidity\":0.2}},\"type\":\"histogram\"}],\"mesh3d\":[{\"colorbar\":{\"outlinewidth\":0,\"ticks\":\"\"},\"type\":\"mesh3d\"}],\"parcoords\":[{\"line\":{\"colorbar\":{\"outlinewidth\":0,\"ticks\":\"\"}},\"type\":\"parcoords\"}],\"pie\":[{\"automargin\":true,\"type\":\"pie\"}],\"scatter3d\":[{\"line\":{\"colorbar\":{\"outlinewidth\":0,\"ticks\":\"\"}},\"marker\":{\"colorbar\":{\"outlinewidth\":0,\"ticks\":\"\"}},\"type\":\"scatter3d\"}],\"scattercarpet\":[{\"marker\":{\"colorbar\":{\"outlinewidth\":0,\"ticks\":\"\"}},\"type\":\"scattercarpet\"}],\"scattergeo\":[{\"marker\":{\"colorbar\":{\"outlinewidth\":0,\"ticks\":\"\"}},\"type\":\"scattergeo\"}],\"scattergl\":[{\"marker\":{\"colorbar\":{\"outlinewidth\":0,\"ticks\":\"\"}},\"type\":\"scattergl\"}],\"scattermapbox\":[{\"marker\":{\"colorbar\":{\"outlinewidth\":0,\"ticks\":\"\"}},\"type\":\"scattermapbox\"}],\"scatterpolargl\":[{\"marker\":{\"colorbar\":{\"outlinewidth\":0,\"ticks\":\"\"}},\"type\":\"scatterpolargl\"}],\"scatterpolar\":[{\"marker\":{\"colorbar\":{\"outlinewidth\":0,\"ticks\":\"\"}},\"type\":\"scatterpolar\"}],\"scatter\":[{\"marker\":{\"colorbar\":{\"outlinewidth\":0,\"ticks\":\"\"}},\"type\":\"scatter\"}],\"scatterternary\":[{\"marker\":{\"colorbar\":{\"outlinewidth\":0,\"ticks\":\"\"}},\"type\":\"scatterternary\"}],\"surface\":[{\"colorbar\":{\"outlinewidth\":0,\"ticks\":\"\"},\"colorscale\":[[0.0,\"#0d0887\"],[0.1111111111111111,\"#46039f\"],[0.2222222222222222,\"#7201a8\"],[0.3333333333333333,\"#9c179e\"],[0.4444444444444444,\"#bd3786\"],[0.5555555555555556,\"#d8576b\"],[0.6666666666666666,\"#ed7953\"],[0.7777777777777778,\"#fb9f3a\"],[0.8888888888888888,\"#fdca26\"],[1.0,\"#f0f921\"]],\"type\":\"surface\"}],\"table\":[{\"cells\":{\"fill\":{\"color\":\"#EBF0F8\"},\"line\":{\"color\":\"white\"}},\"header\":{\"fill\":{\"color\":\"#C8D4E3\"},\"line\":{\"color\":\"white\"}},\"type\":\"table\"}]},\"layout\":{\"annotationdefaults\":{\"arrowcolor\":\"#2a3f5f\",\"arrowhead\":0,\"arrowwidth\":1},\"autotypenumbers\":\"strict\",\"coloraxis\":{\"colorbar\":{\"outlinewidth\":0,\"ticks\":\"\"}},\"colorscale\":{\"diverging\":[[0,\"#8e0152\"],[0.1,\"#c51b7d\"],[0.2,\"#de77ae\"],[0.3,\"#f1b6da\"],[0.4,\"#fde0ef\"],[0.5,\"#f7f7f7\"],[0.6,\"#e6f5d0\"],[0.7,\"#b8e186\"],[0.8,\"#7fbc41\"],[0.9,\"#4d9221\"],[1,\"#276419\"]],\"sequential\":[[0.0,\"#0d0887\"],[0.1111111111111111,\"#46039f\"],[0.2222222222222222,\"#7201a8\"],[0.3333333333333333,\"#9c179e\"],[0.4444444444444444,\"#bd3786\"],[0.5555555555555556,\"#d8576b\"],[0.6666666666666666,\"#ed7953\"],[0.7777777777777778,\"#fb9f3a\"],[0.8888888888888888,\"#fdca26\"],[1.0,\"#f0f921\"]],\"sequentialminus\":[[0.0,\"#0d0887\"],[0.1111111111111111,\"#46039f\"],[0.2222222222222222,\"#7201a8\"],[0.3333333333333333,\"#9c179e\"],[0.4444444444444444,\"#bd3786\"],[0.5555555555555556,\"#d8576b\"],[0.6666666666666666,\"#ed7953\"],[0.7777777777777778,\"#fb9f3a\"],[0.8888888888888888,\"#fdca26\"],[1.0,\"#f0f921\"]]},\"colorway\":[\"#636efa\",\"#EF553B\",\"#00cc96\",\"#ab63fa\",\"#FFA15A\",\"#19d3f3\",\"#FF6692\",\"#B6E880\",\"#FF97FF\",\"#FECB52\"],\"font\":{\"color\":\"#2a3f5f\"},\"geo\":{\"bgcolor\":\"white\",\"lakecolor\":\"white\",\"landcolor\":\"#E5ECF6\",\"showlakes\":true,\"showland\":true,\"subunitcolor\":\"white\"},\"hoverlabel\":{\"align\":\"left\"},\"hovermode\":\"closest\",\"mapbox\":{\"style\":\"light\"},\"paper_bgcolor\":\"white\",\"plot_bgcolor\":\"#E5ECF6\",\"polar\":{\"angularaxis\":{\"gridcolor\":\"white\",\"linecolor\":\"white\",\"ticks\":\"\"},\"bgcolor\":\"#E5ECF6\",\"radialaxis\":{\"gridcolor\":\"white\",\"linecolor\":\"white\",\"ticks\":\"\"}},\"scene\":{\"xaxis\":{\"backgroundcolor\":\"#E5ECF6\",\"gridcolor\":\"white\",\"gridwidth\":2,\"linecolor\":\"white\",\"showbackground\":true,\"ticks\":\"\",\"zerolinecolor\":\"white\"},\"yaxis\":{\"backgroundcolor\":\"#E5ECF6\",\"gridcolor\":\"white\",\"gridwidth\":2,\"linecolor\":\"white\",\"showbackground\":true,\"ticks\":\"\",\"zerolinecolor\":\"white\"},\"zaxis\":{\"backgroundcolor\":\"#E5ECF6\",\"gridcolor\":\"white\",\"gridwidth\":2,\"linecolor\":\"white\",\"showbackground\":true,\"ticks\":\"\",\"zerolinecolor\":\"white\"}},\"shapedefaults\":{\"line\":{\"color\":\"#2a3f5f\"}},\"ternary\":{\"aaxis\":{\"gridcolor\":\"white\",\"linecolor\":\"white\",\"ticks\":\"\"},\"baxis\":{\"gridcolor\":\"white\",\"linecolor\":\"white\",\"ticks\":\"\"},\"bgcolor\":\"#E5ECF6\",\"caxis\":{\"gridcolor\":\"white\",\"linecolor\":\"white\",\"ticks\":\"\"}},\"title\":{\"x\":0.05},\"xaxis\":{\"automargin\":true,\"gridcolor\":\"white\",\"linecolor\":\"white\",\"ticks\":\"\",\"title\":{\"standoff\":15},\"zerolinecolor\":\"white\",\"zerolinewidth\":2},\"yaxis\":{\"automargin\":true,\"gridcolor\":\"white\",\"linecolor\":\"white\",\"ticks\":\"\",\"title\":{\"standoff\":15},\"zerolinecolor\":\"white\",\"zerolinewidth\":2}}},\"title\":{\"font\":{\"color\":\"#4D5663\"}},\"xaxis\":{\"gridcolor\":\"#E1E5ED\",\"showgrid\":true,\"tickfont\":{\"color\":\"#4D5663\"},\"title\":{\"font\":{\"color\":\"#4D5663\"},\"text\":\"\"},\"zerolinecolor\":\"#E1E5ED\"},\"yaxis\":{\"gridcolor\":\"#E1E5ED\",\"showgrid\":true,\"tickfont\":{\"color\":\"#4D5663\"},\"title\":{\"font\":{\"color\":\"#4D5663\"},\"text\":\"\"},\"zerolinecolor\":\"#E1E5ED\"}},                        {\"showLink\": true, \"linkText\": \"Export to plot.ly\", \"plotlyServerURL\": \"https://plot.ly\", \"responsive\": true}                    ).then(function(){\n",
       "                            \n",
       "var gd = document.getElementById('bbf9d75a-2ca8-4053-b9c2-03f82e3ff3c9');\n",
       "var x = new MutationObserver(function (mutations, observer) {{\n",
       "        var display = window.getComputedStyle(gd).display;\n",
       "        if (!display || display === 'none') {{\n",
       "            console.log([gd, 'removed!']);\n",
       "            Plotly.purge(gd);\n",
       "            observer.disconnect();\n",
       "        }}\n",
       "}});\n",
       "\n",
       "// Listen for the removal of the full notebook cells\n",
       "var notebookContainer = gd.closest('#notebook-container');\n",
       "if (notebookContainer) {{\n",
       "    x.observe(notebookContainer, {childList: true});\n",
       "}}\n",
       "\n",
       "// Listen for the clearing of the current output cell\n",
       "var outputEl = gd.closest('.output');\n",
       "if (outputEl) {{\n",
       "    x.observe(outputEl, {childList: true});\n",
       "}}\n",
       "\n",
       "                        })                };                            </script>        </div>\n",
       "</body>\n",
       "</html>"
      ]
     },
     "metadata": {},
     "output_type": "display_data"
    }
   ],
   "source": [
    "df.iloc[:,:-1].iplot(kind=\"box\")"
   ]
  },
  {
   "cell_type": "code",
   "execution_count": 15,
   "id": "38135d99",
   "metadata": {},
   "outputs": [
    {
     "ename": "KeyError",
     "evalue": "(nan, '', '', '')",
     "output_type": "error",
     "traceback": [
      "\u001b[0;31m---------------------------------------------------------------------------\u001b[0m",
      "\u001b[0;31mKeyError\u001b[0m                                  Traceback (most recent call last)",
      "Input \u001b[0;32mIn [15]\u001b[0m, in \u001b[0;36m<cell line: 3>\u001b[0;34m()\u001b[0m\n\u001b[1;32m      1\u001b[0m \u001b[38;5;66;03m#fig=px.box(df,color=\"Class\",color_discrete_map={\"Keçimen\":'#FF0000',\"Besni\":'#00FF00'})\u001b[39;00m\n\u001b[1;32m      2\u001b[0m \u001b[38;5;66;03m#fig.show()\u001b[39;00m\n\u001b[0;32m----> 3\u001b[0m fig \u001b[38;5;241m=\u001b[39m \u001b[43mpx\u001b[49m\u001b[38;5;241;43m.\u001b[39;49m\u001b[43mbox\u001b[49m\u001b[43m(\u001b[49m\u001b[43mdf\u001b[49m\u001b[43m,\u001b[49m\u001b[43m \u001b[49m\u001b[43mcolor\u001b[49m\u001b[38;5;241;43m=\u001b[39;49m\u001b[38;5;124;43m\"\u001b[39;49m\u001b[38;5;124;43mClass\u001b[39;49m\u001b[38;5;124;43m\"\u001b[39;49m\u001b[43m,\u001b[49m\u001b[43m \u001b[49m\u001b[43mcolor_discrete_map\u001b[49m\u001b[38;5;241;43m=\u001b[39;49m\u001b[43m{\u001b[49m\u001b[38;5;124;43m\"\u001b[39;49m\u001b[38;5;124;43mKecimen\u001b[39;49m\u001b[38;5;124;43m\"\u001b[39;49m\u001b[43m:\u001b[49m\u001b[38;5;124;43m'\u001b[39;49m\u001b[38;5;124;43m#FF0000\u001b[39;49m\u001b[38;5;124;43m'\u001b[39;49m\u001b[43m,\u001b[49m\u001b[38;5;124;43m\"\u001b[39;49m\u001b[38;5;124;43mBesni\u001b[39;49m\u001b[38;5;124;43m\"\u001b[39;49m\u001b[43m:\u001b[49m\u001b[38;5;124;43m'\u001b[39;49m\u001b[38;5;124;43m#00FF00\u001b[39;49m\u001b[38;5;124;43m'\u001b[39;49m\u001b[43m}\u001b[49m\u001b[43m)\u001b[49m\n\u001b[1;32m      4\u001b[0m fig\u001b[38;5;241m.\u001b[39mshow()\n",
      "File \u001b[0;32m~/opt/anaconda3/lib/python3.9/site-packages/plotly/express/_chart_types.py:652\u001b[0m, in \u001b[0;36mbox\u001b[0;34m(data_frame, x, y, color, facet_row, facet_col, facet_col_wrap, facet_row_spacing, facet_col_spacing, hover_name, hover_data, custom_data, animation_frame, animation_group, category_orders, labels, color_discrete_sequence, color_discrete_map, orientation, boxmode, log_x, log_y, range_x, range_y, points, notched, title, template, width, height)\u001b[0m\n\u001b[1;32m    611\u001b[0m \u001b[38;5;28;01mdef\u001b[39;00m \u001b[38;5;21mbox\u001b[39m(\n\u001b[1;32m    612\u001b[0m     data_frame\u001b[38;5;241m=\u001b[39m\u001b[38;5;28;01mNone\u001b[39;00m,\n\u001b[1;32m    613\u001b[0m     x\u001b[38;5;241m=\u001b[39m\u001b[38;5;28;01mNone\u001b[39;00m,\n\u001b[0;32m   (...)\u001b[0m\n\u001b[1;32m    641\u001b[0m     height\u001b[38;5;241m=\u001b[39m\u001b[38;5;28;01mNone\u001b[39;00m,\n\u001b[1;32m    642\u001b[0m ):\n\u001b[1;32m    643\u001b[0m     \u001b[38;5;124;03m\"\"\"\u001b[39;00m\n\u001b[1;32m    644\u001b[0m \u001b[38;5;124;03m    In a box plot, rows of `data_frame` are grouped together into a\u001b[39;00m\n\u001b[1;32m    645\u001b[0m \u001b[38;5;124;03m    box-and-whisker mark to visualize their distribution.\u001b[39;00m\n\u001b[0;32m   (...)\u001b[0m\n\u001b[1;32m    650\u001b[0m \u001b[38;5;124;03m    range (IQR: Q3-Q1), see \"points\" for other options.\u001b[39;00m\n\u001b[1;32m    651\u001b[0m \u001b[38;5;124;03m    \"\"\"\u001b[39;00m\n\u001b[0;32m--> 652\u001b[0m     \u001b[38;5;28;01mreturn\u001b[39;00m \u001b[43mmake_figure\u001b[49m\u001b[43m(\u001b[49m\n\u001b[1;32m    653\u001b[0m \u001b[43m        \u001b[49m\u001b[43margs\u001b[49m\u001b[38;5;241;43m=\u001b[39;49m\u001b[38;5;28;43mlocals\u001b[39;49m\u001b[43m(\u001b[49m\u001b[43m)\u001b[49m\u001b[43m,\u001b[49m\n\u001b[1;32m    654\u001b[0m \u001b[43m        \u001b[49m\u001b[43mconstructor\u001b[49m\u001b[38;5;241;43m=\u001b[39;49m\u001b[43mgo\u001b[49m\u001b[38;5;241;43m.\u001b[39;49m\u001b[43mBox\u001b[49m\u001b[43m,\u001b[49m\n\u001b[1;32m    655\u001b[0m \u001b[43m        \u001b[49m\u001b[43mtrace_patch\u001b[49m\u001b[38;5;241;43m=\u001b[39;49m\u001b[38;5;28;43mdict\u001b[39;49m\u001b[43m(\u001b[49m\u001b[43mboxpoints\u001b[49m\u001b[38;5;241;43m=\u001b[39;49m\u001b[43mpoints\u001b[49m\u001b[43m,\u001b[49m\u001b[43m \u001b[49m\u001b[43mnotched\u001b[49m\u001b[38;5;241;43m=\u001b[39;49m\u001b[43mnotched\u001b[49m\u001b[43m,\u001b[49m\u001b[43m \u001b[49m\u001b[43mx0\u001b[49m\u001b[38;5;241;43m=\u001b[39;49m\u001b[38;5;124;43m\"\u001b[39;49m\u001b[38;5;124;43m \u001b[39;49m\u001b[38;5;124;43m\"\u001b[39;49m\u001b[43m,\u001b[49m\u001b[43m \u001b[49m\u001b[43my0\u001b[49m\u001b[38;5;241;43m=\u001b[39;49m\u001b[38;5;124;43m\"\u001b[39;49m\u001b[38;5;124;43m \u001b[39;49m\u001b[38;5;124;43m\"\u001b[39;49m\u001b[43m)\u001b[49m\u001b[43m,\u001b[49m\n\u001b[1;32m    656\u001b[0m \u001b[43m        \u001b[49m\u001b[43mlayout_patch\u001b[49m\u001b[38;5;241;43m=\u001b[39;49m\u001b[38;5;28;43mdict\u001b[39;49m\u001b[43m(\u001b[49m\u001b[43mboxmode\u001b[49m\u001b[38;5;241;43m=\u001b[39;49m\u001b[43mboxmode\u001b[49m\u001b[43m)\u001b[49m\u001b[43m,\u001b[49m\n\u001b[1;32m    657\u001b[0m \u001b[43m    \u001b[49m\u001b[43m)\u001b[49m\n",
      "File \u001b[0;32m~/opt/anaconda3/lib/python3.9/site-packages/plotly/express/_core.py:1988\u001b[0m, in \u001b[0;36mmake_figure\u001b[0;34m(args, constructor, trace_patch, layout_patch)\u001b[0m\n\u001b[1;32m   1986\u001b[0m facet_col_wrap \u001b[38;5;241m=\u001b[39m args\u001b[38;5;241m.\u001b[39mget(\u001b[38;5;124m\"\u001b[39m\u001b[38;5;124mfacet_col_wrap\u001b[39m\u001b[38;5;124m\"\u001b[39m, \u001b[38;5;241m0\u001b[39m)\n\u001b[1;32m   1987\u001b[0m \u001b[38;5;28;01mfor\u001b[39;00m group_name \u001b[38;5;129;01min\u001b[39;00m sorted_group_names:\n\u001b[0;32m-> 1988\u001b[0m     group \u001b[38;5;241m=\u001b[39m \u001b[43mgrouped\u001b[49m\u001b[38;5;241;43m.\u001b[39;49m\u001b[43mget_group\u001b[49m\u001b[43m(\u001b[49m\u001b[43mgroup_name\u001b[49m\u001b[43m \u001b[49m\u001b[38;5;28;43;01mif\u001b[39;49;00m\u001b[43m \u001b[49m\u001b[38;5;28;43mlen\u001b[39;49m\u001b[43m(\u001b[49m\u001b[43mgroup_name\u001b[49m\u001b[43m)\u001b[49m\u001b[43m \u001b[49m\u001b[38;5;241;43m>\u001b[39;49m\u001b[43m \u001b[49m\u001b[38;5;241;43m1\u001b[39;49m\u001b[43m \u001b[49m\u001b[38;5;28;43;01melse\u001b[39;49;00m\u001b[43m \u001b[49m\u001b[43mgroup_name\u001b[49m\u001b[43m[\u001b[49m\u001b[38;5;241;43m0\u001b[39;49m\u001b[43m]\u001b[49m\u001b[43m)\u001b[49m\n\u001b[1;32m   1989\u001b[0m     mapping_labels \u001b[38;5;241m=\u001b[39m OrderedDict()\n\u001b[1;32m   1990\u001b[0m     trace_name_labels \u001b[38;5;241m=\u001b[39m OrderedDict()\n",
      "File \u001b[0;32m~/opt/anaconda3/lib/python3.9/site-packages/pandas/core/groupby/groupby.py:747\u001b[0m, in \u001b[0;36mBaseGroupBy.get_group\u001b[0;34m(self, name, obj)\u001b[0m\n\u001b[1;32m    745\u001b[0m inds \u001b[38;5;241m=\u001b[39m \u001b[38;5;28mself\u001b[39m\u001b[38;5;241m.\u001b[39m_get_index(name)\n\u001b[1;32m    746\u001b[0m \u001b[38;5;28;01mif\u001b[39;00m \u001b[38;5;129;01mnot\u001b[39;00m \u001b[38;5;28mlen\u001b[39m(inds):\n\u001b[0;32m--> 747\u001b[0m     \u001b[38;5;28;01mraise\u001b[39;00m \u001b[38;5;167;01mKeyError\u001b[39;00m(name)\n\u001b[1;32m    749\u001b[0m \u001b[38;5;28;01mreturn\u001b[39;00m obj\u001b[38;5;241m.\u001b[39m_take_with_is_copy(inds, axis\u001b[38;5;241m=\u001b[39m\u001b[38;5;28mself\u001b[39m\u001b[38;5;241m.\u001b[39maxis)\n",
      "\u001b[0;31mKeyError\u001b[0m: (nan, '', '', '')"
     ]
    }
   ],
   "source": [
    "#fig=px.box(df,color=\"Class\",color_discrete_map={\"Keçimen\":'#FF0000',\"Besni\":'#00FF00'})\n",
    "#fig.show()\n",
    "fig = px.box(df, color=\"Class\", color_discrete_map={\"Kecimen\":'#FF0000',\"Besni\":'#00FF00'})\n",
    "fig.show()"
   ]
  },
  {
   "cell_type": "code",
   "execution_count": 16,
   "id": "3450e57d",
   "metadata": {},
   "outputs": [
    {
     "data": {
      "text/html": [
       "<html>\n",
       "<head><meta charset=\"utf-8\" /></head>\n",
       "<body>\n",
       "    <div>            <script src=\"https://cdnjs.cloudflare.com/ajax/libs/mathjax/2.7.5/MathJax.js?config=TeX-AMS-MML_SVG\"></script><script type=\"text/javascript\">if (window.MathJax) {MathJax.Hub.Config({SVG: {font: \"STIX-Web\"}});}</script>                <script type=\"text/javascript\">window.PlotlyConfig = {MathJaxConfig: 'local'};</script>\n",
       "        <script src=\"https://cdn.plot.ly/plotly-2.9.0.min.js\"></script>                <div id=\"67e2422d-d358-4d4a-a0cc-4bdc0e401802\" class=\"plotly-graph-div\" style=\"height:525px; width:100%;\"></div>            <script type=\"text/javascript\">                                    window.PLOTLYENV=window.PLOTLYENV || {};\n",
       "                    window.PLOTLYENV.BASE_URL='https://plot.ly';                                    if (document.getElementById(\"67e2422d-d358-4d4a-a0cc-4bdc0e401802\")) {                    Plotly.newPlot(                        \"67e2422d-d358-4d4a-a0cc-4bdc0e401802\",                        [{\"histfunc\":\"count\",\"histnorm\":\"\",\"marker\":{\"color\":\"rgba(255, 153, 51, 1.0)\",\"line\":{\"color\":\"#4D5663\",\"width\":1.3}},\"name\":\"Area\",\"opacity\":0.8,\"orientation\":\"v\",\"x\":[87524,75166,90856,45928,79408,49242,42492,60952,42256,64380,80437,43725,43441,76792,74167,33565,64670,64762,43295,70699,69726,57346,82028,61251,96277,75620,73167,60847,81021,59902,88745,41809,75329,61600,46427,40861,55827,54182,77468,49882,95245,71464,77055,92384,77310,57580,69708,41502,45800,52623,44939,114648,65727,45683,111450,47581,57127,53006,69060,25387,66774,47839,78571,64717,60462,59370,54056,89235,51727,71595,95347,60449,69006,68520,52731,50570,75825,42637,76984,47851,51220,53890,58650,98935,77587,180898,71266,39457,35237,49059,53896,56469,85156,67044,52243,38968,79661,59282,48177,74904,81581,57820,57808,55306,59459,44247,48945,68864,82826,65396,81572,44367,51448,50545,94063,84129,79735,90176,61492,79532,69302,52266,51180,55787,96064,54316,70941,55770,47478,88197,74728,70788,48894,52051,53270,57227,97026,58495,53758,110616,49175,53698,73125,50445,46742,69317,75314,54428,39509,66568,45264,57980,75114,78991,76253,83229,45962,57766,39669,41050,47771,53389,73319,91831,71452,59970,51683,41283,92735,44627,84260,59076,58741,68627,51941,77161,85105,52508,39941,48693,87858,67718,63968,43461,81546,43563,36145,57741,69024,78982,78240,87036,37569,79748,44156,87302,69312,86545,59729,59822,63452,61996,74763,73193,66508,74849,38585,61377,39547,49998,49063,46961,57271,58909,51336,62422,48447,64364,72915,49414,45723,64988,56709,93559,81916,79274,88724,65469,75799,76741,54219,52693,84539,34559,49715,39716,46845,52547,41593,44460,51145,43345,53987,59514,85739,56096,46120,57676,62064,50274,77225,45598,38545,39439,74109,41755,61463,43743,73499,40403,62343,46008,43495,50649,61235,78883,58734,68253,62401,73046,54968,84057,90178,67883,43901,33662,77043,64875,42609,79510,58857,67754,54842,78352,72447,58239,93879,68129,74426,60650,136340,65051,72219,81405,70196,69120,56327,54983,105020,36113,87429,57785,69846,81456,61959,61730,62835,52651,67093,45160,58989,44007,65062,38724,63514,46403,55746,38153,66094,57303,61289,55114,45567,72215,65495,34977,76407,66998,57310,79106,56837,53497,58591,60313,72483,52836,68119,83490,74612,44081,39724,89051,57612,65740,69997,75540,46397,61967,87149,67798,49604,88407,46601,53121,80101,69781,58460,61792,78084,63402,48809,49039,64669,103377,73972,47602,69151,56518,86314,56477,32097,71284,87937,100835,66752,65999,70977,38569,53964,79100,83071,31237,26908,66797,76222,46810,65123,65091,68400,64056,49821,80353,51539,63827,89345,31275,75431,72718,82886,67852,49336,39368,51304,91764,79252,50530,66063,73311,82793,104921,59654,76531,57438,55129,37302,58357,33615,47555,71762,84677,86421,90191,34638,39275,41458,85954,56589,39622,48093,67404,57838,58570,60199,74254,63718,28216,79055,86141,82873,98485,53633,63191,58545,68931,67874,61200,87089,59589,50312,41995,137583,117592,95546,96582,61409,154242,134303,112378,124579,83107,107178,64391,126781,45051,119026,67579,97019,184784,168276,195383,65253,120255,108161,157877,83800,177264,127245,108314,128947,189637,137508,75173,115859,92188,153824,85492,106312,210923,89138,83567,171256,77105,100443,72606,83555,146268,113608,75058,116406,100319,143386,164782,71639,141220,88290,102569,182160,208264,133101,169009,81901,80678,101661,82207,166275,188651,202118,97375,64303,86715,155702,84295,177206,110897,56903,113029,69579,163442,114289,74652,90559,104352,82161,131816,163082,77012,81604,82853,145693,96443,168620,193032,140897,118988,103666,68231,88928,117077,123056,94455,89311,68982,204864,83693,75529,121034,105192,77402,87857,139399,178334,144084,84975,118043,102769,136960,113206,155057,116715,91146,101223,79492,93234,167279,193558,146175,108076,131811,129038,130868,206720,205497,146420,126014,101103,61444,160605,100649,112808,105951,177916,109254,128574,124166,133784,80481,63491,109791,89236,152267,89721,129493,74966,136180,102013,169078,78304,54321,101439,118787,85517,72653,126515,117714,62451,107895,199015,130388,106440,109878,78984,135899,193818,137788,71800,96210,103057,104602,105467,83059,99378,90585,83065,54357,169645,70461,105347,160583,101772,61123,90375,131847,81998,105924,121757,116198,86846,77799,75242,113164,194864,103313,98464,97377,169880,69746,172334,192815,92121,82462,53325,151703,40702,81480,104669,85390,178692,104385,206689,98166,156769,182823,96139,99177,76114,111056,51350,144973,182788,128442,76364,158808,106923,60640,88257,102868,61539,129292,57999,88315,88250,141137,123980,49371,172783,86852,91464,93441,94211,124630,116361,152992,147843,135036,128107,79975,60674,96404,222915,108379,62562,204226,77985,104728,85449,97558,97049,58870,83889,110527,66793,91665,126149,101618,96442,79397,86658,113046,53373,80274,89431,84383,98260,104656,100186,122617,117301,48007,165681,83929,109701,117098,107082,102944,53077,78161,122433,142069,82585,96753,106393,182122,49691,79057,110785,171749,149841,97513,97254,132116,132730,68576,109011,109438,76551,121080,86202,134913,175247,195281,131496,175946,66265,106938,76624,88747,165940,181926,148073,103915,71141,169494,47253,102960,81570,62526,141613,105961,125282,87252,108771,138202,92024,76708,105053,72924,89169,93042,71054,90675,137921,164440,71502,144250,223075,56244,142239,78632,93430,97583,123654,85894,235047,152611,83932,117354,66315,87663,95364,78787,160451,121077,62280,106897,111568,61556,47609,61861,84855,127292,125968,48488,84774,78921,145235,87039,181126,142419,92619,68510,48551,92472,100928,96920,96762,151908,75368,168269,99333,102722,104468,73699,71918,127933,73294,189069,159064,120818,59890,137593,166654,55858,105308,67468,132680,154197,225043,66613,141559,77622,179668,105091,66938,97494,101770,88338,119336,126019,154498,82632,218459,150420,110296,171264,110936,54502,142415,94282,68799,79058,85646,107486,149703,187391,115272,83248,87350,99657,93523,85609],\"type\":\"histogram\"},{\"histfunc\":\"count\",\"histnorm\":\"\",\"marker\":{\"color\":\"rgba(55, 128, 191, 1.0)\",\"line\":{\"color\":\"#4D5663\",\"width\":1.3}},\"name\":\"MajorAxisLength\",\"opacity\":0.8,\"orientation\":\"v\",\"x\":[442.2460114,406.690687,442.2670483,286.5405586,352.1907699,318.125407,310.1460715,332.4554716,323.1896072,366.9648423,449.4545811,301.3222176,276.6108288,338.8575454,387.7989307,261.5543311,403.0839752,354.2939396,304.2844667,418.6985723,354.1769124,330.4784385,397.1149759,301.5077895,447.1345225,368.2242844,340.055218,336.9238696,347.7500583,358.5919148,429.770355,307.5327392,364.2307798,350.1827545,253.8420284,249.7402266,305.298843,366.0666742,405.9365937,287.2643272,397.094114,364.1030896,375.2501319,368.4062138,436.5298989,330.2283748,375.4472798,260.5126753,330.0086832,311.9967579,317.6167119,508.1289326,403.1942717,333.2625321,478.3109708,306.8118747,311.6445775,333.3813698,328.4888612,225.629541,348.5579747,312.6013291,443.8222908,342.5767105,373.3428463,345.9492049,332.2676409,443.5159353,321.1271422,387.3096951,451.5261542,383.8002498,379.3178462,373.235638,309.9772864,311.3447951,391.2043013,293.4295802,425.0481856,323.1525189,328.6476055,331.0863197,346.3389582,387.5169377,396.8075663,843.9566534,390.707154,267.5569406,267.5537786,301.8003982,319.0720226,325.341425,422.2791325,361.2553722,331.4511469,269.4020207,360.0734473,329.2425655,305.784503,342.8963104,424.2783146,376.1911744,309.9716571,353.1546092,347.1551548,319.7903082,269.3704112,343.6762094,396.7059122,331.5384446,393.716176,322.5040186,328.289568,286.8713324,448.1210966,413.0345598,410.9979193,390.207341,356.4260216,367.5260058,354.9636669,320.4425614,288.6310651,333.7034529,411.2070534,351.8052608,326.0111541,293.5806697,299.8185828,473.2866901,355.310549,362.6507703,318.0989115,313.7032602,336.1488879,354.43108,455.9715909,368.7395425,359.5316125,461.1445532,281.4314214,348.2232313,408.940773,308.3589121,303.5552029,393.3989966,392.6515582,339.1147492,286.2315627,342.2503611,290.5883604,336.312888,368.730119,362.6408695,364.2255696,423.844374,251.1333844,344.737416,252.748198,316.841636,311.5249871,301.845898,392.3626656,463.3578718,397.9614266,353.0016249,325.2398678,268.1253606,436.985567,297.2593228,411.3973639,350.4871954,345.4854484,411.8885236,349.2261695,394.2783917,382.2899916,297.6969009,251.8477358,306.5739068,441.224088,373.9240984,333.0124213,333.7059198,381.3486543,296.5221609,280.7576527,316.4840294,372.8219867,421.1618485,401.9300875,384.9699031,232.4278475,441.9342925,307.7069822,392.9101168,373.8031053,350.1278744,337.0434753,336.5840696,334.8459883,333.7476396,391.227169,401.072302,344.9045201,379.9250258,274.4450783,339.7334965,259.4226253,301.7807071,294.7482868,343.7885277,372.6991236,347.3439411,321.8844382,324.5569613,331.0510122,376.6624701,414.7180727,290.458237,291.1972864,371.3536275,293.408498,438.6343535,398.326553,406.9762258,446.4304557,374.4662312,340.9827093,383.9821631,344.2908319,283.5042387,441.5288902,264.5151675,302.3473906,243.0382802,264.9672544,358.3657191,310.6748925,294.624132,317.3482375,323.8592139,331.3506586,368.6379093,380.3703785,313.3863101,300.0971584,333.9700499,352.3686704,305.3972558,362.1373458,259.8962651,283.987539,246.7636115,416.7127171,296.7883761,369.3997455,300.906335,346.0510824,289.2593164,348.2887882,296.8792842,271.6466724,327.1109948,349.0264129,395.1000971,367.4839462,388.4547229,394.3975005,397.3381636,300.9544323,452.7756953,466.249387,383.1890177,304.1003495,227.2937917,388.6927274,393.214664,280.1490165,380.7191934,320.8119081,349.1971378,308.2324435,408.8096881,401.7420402,324.2950626,409.486907,381.1754896,411.6968203,324.3616267,722.8539172,381.2139503,376.6504925,421.0948928,373.1976471,352.011403,297.7657247,292.8989067,440.3896311,257.6418527,408.9260276,314.4309771,368.4507096,404.3163937,339.5850181,376.1885565,421.1693384,340.8169568,353.1098719,270.5553766,362.6681085,359.3755027,344.309794,291.0010917,368.7863065,306.3041431,280.3131243,265.0402262,323.1877163,330.0249642,376.3751871,317.1723252,278.5021961,380.4147762,365.3190043,267.7377387,373.4424261,338.5866405,351.396481,404.5731673,368.3727265,352.5027525,356.4633214,339.6034558,334.4176092,340.4047822,385.3917044,421.8829433,430.8651894,328.5871474,271.6656922,418.5556402,352.4413648,348.8811561,362.7413898,422.0984896,310.7243688,364.7840178,444.6108356,418.4081341,310.6056284,412.7569409,277.3532801,350.9683575,377.616572,364.7445188,290.7535562,400.5028283,395.2097616,372.4843101,332.2648929,285.4020871,364.5828035,460.6704313,359.2726917,296.4930361,341.6460576,319.1919279,390.4129792,334.588138,264.4163841,356.2592463,365.8369921,419.7533709,370.5036219,326.2987214,362.0635747,272.9372082,368.074061,413.4963654,400.4656882,262.3470571,245.7557814,358.1989179,388.8073993,297.8913729,382.3576865,392.4932707,363.5065315,393.6167673,319.0820631,394.340189,330.7474868,393.251665,435.5508797,264.687187,433.6712228,397.902945,424.8227093,353.1242534,338.4814606,296.6559478,350.0425817,433.7681595,398.8445645,328.9180154,354.0975248,391.8675067,428.1169055,452.8630128,350.8999545,407.6686396,344.9801825,336.021702,284.3301121,338.3209626,254.47223,330.8992812,387.6741043,401.6681425,367.1703365,431.3669658,251.7422462,274.0659935,281.8248824,405.9151667,343.9347569,280.1124767,329.9357423,349.011262,350.2854586,355.3995375,375.2796881,402.5264818,407.5658564,245.4012948,395.3686671,414.1071647,449.409264,387.7628358,313.479956,335.2416873,325.1886359,381.6717342,360.0234655,323.1744104,396.4868571,383.5712334,354.2355512,259.2088782,649.541485,533.2928563,487.1782819,446.7052035,403.7012948,585.9280742,600.7662711,528.4003254,439.9605034,507.3808994,508.7478956,449.5559014,659.4426082,323.5892546,612.7444115,402.3102017,559.5992129,740.1087099,656.0993813,755.0129141,418.9978869,471.8135294,485.1026458,613.8737446,440.8337404,619.9584724,530.3040552,455.6058765,572.8016018,636.7524368,604.1144233,365.8032415,488.4888558,374.7201638,536.606993,437.0139693,464.3323636,984.0454912,507.1433962,465.1014658,531.3732054,419.9536962,457.5698723,424.472024,457.5464724,588.0092142,559.2667826,424.7637094,612.665318,480.7789636,469.2765081,660.3641751,400.4139594,575.6823646,514.4361539,515.3952494,997.2919406,675.0983445,641.5097389,719.5058781,450.8275297,457.9252352,440.9818348,451.0060488,602.3077749,621.0126864,684.602958,468.9040381,442.7453136,440.4743232,655.3989662,458.8440074,699.6182638,518.7876139,360.815292,558.5161561,398.5966833,594.759221,580.6008301,424.9806728,473.5758459,562.3359079,441.7955517,532.7314252,696.1490457,425.2194272,528.5858925,430.1149972,591.1801444,541.2000742,730.7609597,661.1487714,588.0709185,483.3400048,456.3827046,394.6465339,395.724998,496.1307567,618.1418151,496.8950128,429.2790857,400.7368809,596.6398018,437.734856,418.5184789,518.720443,440.5629092,469.4593474,380.7764868,522.4680098,626.0641738,555.9210209,511.8746638,493.7652445,515.6080701,559.2958675,548.9710465,610.6779718,571.0488404,498.3917995,496.5334606,422.5673288,452.9265064,690.0719941,769.4251488,592.9085046,516.0732298,573.5417738,540.814829,613.1726145,713.4725493,632.7276067,598.0726814,523.1863795,484.1659011,371.6938257,630.6173412,433.3668701,542.5047797,521.1127579,581.7097499,483.163737,601.8002346,525.9453568,581.2869477,481.0639534,326.6328824,477.0335016,389.6816918,598.9676358,530.1565743,497.7881364,465.3608157,551.4538281,453.8934581,644.9312689,390.9730835,395.01184,524.8171864,562.2809569,410.6220937,403.1909593,595.3425575,480.629674,337.2899875,462.0461305,615.4172359,511.8975835,501.0443057,541.9483998,427.4942761,625.3482265,678.5595652,654.4702641,431.0085748,482.5120191,548.4052371,478.2226517,465.5737975,440.5599708,466.397472,489.6477891,444.9996477,362.5947181,731.5618761,376.1708434,476.8035004,630.6452291,477.9089439,329.3302205,480.6324763,560.4209076,423.6326319,497.7006461,486.5210676,494.2591759,459.3960385,419.3385795,391.6781455,486.7663599,657.8678432,503.4514388,488.2150041,503.9920682,648.904219,370.5604807,595.817747,731.4402924,432.0619001,434.5712205,351.2037065,595.1070958,274.1689537,434.1002588,546.6727559,403.7297499,594.7221714,488.897551,746.145341,420.7021756,662.9666319,700.0084625,498.3876606,494.0551922,435.3879154,514.7145466,342.6553034,614.8149264,621.2067629,585.9819941,381.8024151,658.9566002,591.1158376,369.2703695,452.9245926,430.0260915,364.2559451,614.5474258,311.02247,456.7407136,478.4818356,600.126138,531.8682601,320.643403,820.724022,456.4786879,433.2197933,396.79078,450.0046169,585.0938025,554.4901203,572.7053956,651.0028073,582.6875226,616.9944003,439.3125083,345.315246,470.1016955,731.5594062,482.5655775,407.9392627,648.2042885,473.3407049,495.6716825,471.1246639,477.1107437,548.2208328,355.1360184,450.9889914,514.5888486,362.2312356,485.4521433,478.8771011,443.4929899,450.4081356,434.9940818,439.2290769,548.9408354,330.6772412,404.3024952,464.8339317,403.9094148,520.1030781,489.4542174,462.5059292,503.6875762,507.2404407,302.6110474,615.2108745,429.0904087,546.6352817,637.7702144,536.8515692,477.1675089,327.2878204,453.2033953,585.2941984,662.7137696,436.1824306,477.4997235,472.3094058,620.4872195,336.6780578,436.3900466,560.0071356,671.2545607,547.4564052,486.9021671,422.0440713,519.6799838,535.980907,377.136928,504.3954957,502.7293381,394.4426146,573.4036122,437.7712614,639.6015714,713.0171239,609.8297259,506.1154491,604.5300676,424.5594345,498.433852,473.9659934,425.0072805,624.8449588,579.9185509,599.3628139,516.4855009,417.1369997,614.9937443,360.0191761,522.3810484,450.480907,357.2050867,588.3715687,497.7014599,536.4989648,433.4845202,472.208192,556.9819072,453.715176,458.0446404,490.4095974,434.2226657,408.1899217,470.5658055,364.7511364,426.2364248,598.761032,580.7758476,490.4334789,606.351813,694.2475503,398.8024524,614.8344775,407.9403285,467.6371192,522.7865556,542.4197414,477.1719928,772.956877,663.1332504,499.2377543,520.3266122,363.5788956,405.6780508,481.5643732,450.2555917,593.7498799,521.191031,388.582055,481.7946852,491.1120737,340.7836277,331.8941109,345.9436498,420.350624,639.8506348,522.5437758,275.3377168,416.2814499,376.9878173,609.6301806,497.0580562,949.6626718,580.4381967,398.6207288,348.4009519,302.8128348,424.4199935,465.1799197,447.5951038,457.4774879,594.1828014,387.8523157,614.3804322,422.87694,416.8989374,542.1781725,408.5855548,448.5277271,560.7226757,445.2461201,679.4893072,570.2169046,492.6065372,402.4157189,558.0587508,607.9964652,298.8588591,473.3133932,424.563654,549.8652777,582.6121787,740.0037432,433.1941642,594.1144312,460.1429023,690.4334163,507.6851162,356.3232835,451.7827664,468.6679004,504.4821967,563.5463265,520.6800335,621.3515398,471.3667164,571.2892031,607.7096735,487.6911592,609.6431474,500.9313423,346.457978,532.0841297,494.16296,356.5678081,454.4372156,469.7747551,462.8131338,637.8730298,660.6555881,511.4720359,430.0773077,440.7356978,431.7069809,476.3440939,512.0817743],\"type\":\"histogram\"},{\"histfunc\":\"count\",\"histnorm\":\"\",\"marker\":{\"color\":\"rgba(50, 171, 96, 1.0)\",\"line\":{\"color\":\"#4D5663\",\"width\":1.3}},\"name\":\"MinorAxisLength\",\"opacity\":0.8,\"orientation\":\"v\",\"x\":[253.291155,243.0324363,266.3283177,208.7600423,290.8275329,200.12212,176.1314494,235.429835,172.5759261,227.7716147,232.3255064,186.9506295,201.8131355,291.3592017,247.8581228,167.7084908,206.4846437,235.7524629,182.8110368,216.5960537,252.529208,222.4437485,268.3337727,273.6599414,275.2161542,263.4592554,276.0151772,231.4656959,297.6406265,222.9020273,265.6902361,175.085568,265.8668635,225.8427713,235.9068241,213.5732718,234.6612245,192.013274,245.9897977,222.1858727,307.2739224,253.7969272,262.8124219,320.7145792,228.2803725,232.0553872,239.1327753,205.8650238,181.6658648,218.0411235,183.3152147,288.9539812,210.0732642,177.7720961,298.630592,203.097502,238.6419206,206.8807081,275.8888648,144.618672,246.4762569,198.7512989,228.7576146,245.7320369,208.1086262,221.9219567,208.6190158,258.9467393,208.7667575,236.7511846,280.2261534,208.1687832,241.8502909,237.0415232,219.7253525,208.3178983,248.5002712,189.4321576,233.9734424,191.6109615,202.5088754,216.5794558,219.6843649,326.8987235,251.9449198,323.1905688,235.6868033,188.7651659,173.5251032,210.4672152,217.6957013,225.1150238,260.2106227,238.2264457,206.7595988,185.7275682,282.7390316,233.7746492,202.4661938,280.1155681,245.5074738,199.7971077,241.3665105,204.126836,222.109478,178.6479431,239.1621656,261.9884386,269.7628551,253.2429662,265.8146124,176.7089727,202.1603698,227.1597173,276.607844,261.6430865,250.2207874,294.7622385,224.163105,277.2241619,254.4527709,213.8574996,226.6304906,226.9512079,303.2324524,198.4175196,278.1026598,243.4806344,205.2960945,238.7384529,270.7408973,249.4037249,197.4955028,213.6317375,204.3070754,207.5949862,273.0538098,205.7578712,193.4008772,306.899065,224.4858963,197.7528973,231.2190014,208.8552452,199.4459327,228.722883,246.0756721,206.6458262,180.4373603,249.5505,203.3191422,222.6097658,262.4744722,279.0908401,269.5167915,253.809071,235.3680757,215.1097845,202.2643597,167.3283344,197.090849,228.5166995,239.1884853,257.9511277,239.7987804,219.6829418,208.9148245,199.6354013,271.5787847,194.7602777,262.9740989,216.6793239,222.3818455,216.8939999,191.8173343,253.21136,288.7584072,226.2519485,208.4681478,204.2806212,255.6622254,233.2332051,247.8885463,169.3095334,273.8100991,188.1957136,166.5935504,234.2836291,237.6598183,241.6404129,249.8313709,289.4539006,208.1520065,231.7175312,186.0924236,284.1790677,237.1945766,315.7195205,231.8092351,227.9495391,243.2364806,243.540245,245.5420203,235.8289934,249.0897821,252.6171178,180.9575592,234.0242375,198.4655312,212.326943,217.913109,177.1367946,196.9761351,218.1227905,206.1461473,247.707867,189.9172045,221.6551009,229.5557698,219.4182435,203.0202207,226.9099341,247.7165958,275.5829735,265.4181085,255.2178271,260.3787541,227.5389974,289.15047,258.1339883,204.4966891,242.1139544,248.3743168,168.9830565,213.3645111,210.1140569,225.842499,189.2067438,178.3232873,197.5565774,211.0255917,175.1857446,213.1674456,209.1269246,288.2561589,232.2824399,201.2063136,222.2744566,227.8641444,212.2734472,277.0098428,225.6562198,175.4205147,212.635393,230.5595405,184.1913772,213.6196205,185.8512318,275.5139073,179.2233834,232.8200404,212.0277194,205.1640687,199.5409197,226.8031,256.9649659,205.0210803,224.7316909,203.1386868,234.8282406,234.38957,245.2199818,250.1043018,233.3566734,191.2982735,191.1090383,257.5462902,212.9548238,200.2718741,267.0341186,235.3860453,251.6796378,227.2577315,245.4408089,231.5372369,230.9972581,292.9160989,230.0560205,231.7495984,242.2285019,311.3413551,218.2168451,249.5294544,248.0867654,243.8811053,250.8148535,241.9344257,248.4080201,306.1052886,181.1570788,273.8879417,236.183035,243.9751621,258.8920062,234.6979363,210.6115221,191.1698622,204.432884,243.0010336,220.1186723,209.5097184,161.7023657,242.6836332,170.7762667,221.2409483,196.6171927,254.6003304,184.8022541,261.0119111,221.9197863,208.7278098,222.7534529,216.7666389,244.0280812,230.5255523,170.8372462,264.474304,257.3438202,209.8812282,252.0663638,198.7746557,194.9811366,212.119231,227.7259242,282.6808891,204.3355331,230.7152076,254.3101831,229.2867182,173.3469657,189.484632,274.9231996,210.0642098,245.9761755,247.0913226,237.6386774,192.9038367,218.5661729,253.2065911,207.825511,204.6545873,275.2848499,216.2720505,195.8674449,272.6713449,248.7961897,258.3843539,197.7035112,254.3765834,224.0094059,190.3513649,220.8199013,228.8007673,287.9931727,263.3333902,206.2251984,258.3928669,230.7099964,282.2148203,219.1856198,157.9904179,256.4883397,307.9116981,306.9548981,231.5511993,264.4148773,256.3830246,181.8567206,189.8138686,246.4047067,265.928797,155.0257428,143.7108718,240.7826944,250.6960737,201.5349368,218.8887484,216.8275716,249.5814954,209.630823,202.2364946,264.5790871,200.9579393,209.1461847,262.0614475,156.3955455,222.9994167,235.5598942,253.171548,247.3352308,193.0052021,171.2081645,189.765438,270.2860947,254.1729295,198.2839196,238.5102532,239.6017637,249.3908796,297.0241867,219.4898675,241.3995271,215.4342255,210.4280656,170.5330024,220.464395,171.0010504,186.2529038,236.8736053,269.6684468,300.7939859,272.751395,178.341115,185.4112735,192.6741159,272.0833254,213.1333342,185.1922062,187.0417222,247.6902693,214.8024505,214.5674661,205.4140518,241.2834392,200.2610472,150.2455819,258.275952,266.9075277,239.614078,325.7371661,218.6686172,243.9723903,231.9557989,231.5281935,243.2719738,246.2883243,280.2454497,201.3818552,182.3120807,210.3507977,273.2602815,288.5583194,251.960243,278.325498,209.3658885,337.5992453,288.3849296,272.7787203,371.0262137,233.1538498,270.4624159,187.1223778,249.5447658,180.0697373,250.9269903,217.0587358,228.6417533,320.58783,328.486879,335.7904519,205.7561847,326.5463364,286.0331908,328.3133366,245.3818805,366.7632399,309.1215157,311.1711176,289.0221686,403.7193275,292.0960638,267.5827815,305.090778,324.3025616,369.2864544,250.8926087,295.3167921,367.2795321,226.2166152,230.9042314,412.3828168,238.8394659,283.6112797,223.232633,235.0998706,321.6079813,264.028685,228.8458259,251.8328267,267.6688956,397.3101898,322.620924,231.6201421,316.6212427,221.4448377,259.1942281,271.8723954,395.5792906,265.3139704,301.5651259,237.2089894,229.7035618,295.5307052,235.1597735,356.2362867,390.3076128,379.7192817,268.2670249,187.0290194,254.3360345,304.6121493,238.289021,328.1121355,275.2605054,204.037706,265.2842028,224.5785157,351.4256873,261.7636982,231.6042653,246.9199675,239.402593,246.810056,322.6830027,302.2224471,239.4695614,204.7395131,251.1757003,321.4311911,232.5480394,295.5004623,376.4321931,308.0257871,315.2484647,293.9224346,228.161,300.2270016,314.547414,256.9501109,245.2439068,270.8593166,223.9076574,440.4971275,245.4242627,233.9901934,305.7358095,305.7917791,215.0799509,300.9086479,348.2821616,366.2370495,332.1238891,215.4482203,308.0001269,261.1366518,313.3098688,264.2584778,325.5076812,278.8373978,241.896779,276.8662029,243.1162956,268.7630536,311.9956922,321.6858345,319.0201112,270.743408,295.4230955,306.8177642,273.1819147,373.6425439,414.1883255,314.3906394,309.11683,269.145887,213.1798061,330.7711388,300.4577801,267.2018778,267.7270571,394.5247078,289.8286843,276.2481554,304.1564686,300.635686,217.561151,248.3224493,294.5338471,295.3319356,331.2490172,223.4999334,339.5262777,209.2796463,316.469824,292.130181,336.5716285,262.7704159,182.3239807,251.1605543,273.3299091,269.8171718,231.0557342,277.9092929,314.026534,237.7053859,300.5589867,413.9274732,326.3124485,273.1940698,260.083619,236.8825745,286.8998907,367.9003618,272.3013,218.7157773,262.6744113,241.123219,279.361007,290.2024046,243.6365121,275.5755957,239.3502938,241.3311658,192.9493667,299.4134054,243.9548291,282.0258157,326.2445303,273.4043639,257.2680933,241.0167682,302.6406658,251.2394448,274.5758066,323.3517303,301.6828956,242.6199645,238.3432501,248.0891166,297.1102875,378.0584606,266.4450356,261.7242599,252.4996254,339.1311299,241.9144571,375.0205347,337.1023722,275.6906108,244.4574533,197.2136417,330.3427512,191.378387,242.7017513,248.5279077,272.9703269,384.0380462,277.6837439,355.3006855,299.5836092,307.8680665,337.7066668,250.1120371,260.9736477,224.7276306,277.879091,204.0111119,304.3315314,379.4244465,281.6014086,258.5879725,308.528449,234.8233464,218.5287077,254.4821926,312.9725953,220.3620197,270.0854905,243.4761211,248.1499566,238.3218863,305.7668376,332.5761746,200.2455856,352.1936798,248.6068692,273.2554614,300.8126078,269.2865688,275.4936129,277.0668866,341.2457032,299.7432602,301.5684879,267.9807338,240.4941902,225.2188028,264.2362097,389.9466998,289.3857273,198.710116,402.2832708,214.0920312,272.6867344,238.3286787,261.9163163,231.6610186,212.0294595,241.3303882,275.5833551,236.4044486,243.0800284,345.9199722,293.3841689,276.9226152,235.5194933,258.3043276,265.3050959,215.7016476,256.0624764,247.352044,271.2515091,245.2097587,273.4526643,277.6991108,322.6225172,296.8298817,209.1160842,346.7022458,252.0375627,256.6147321,237.4717854,258.71716,277.2224874,212.2310886,222.6050244,270.7088097,275.4396927,264.8740998,261.9434084,287.5938899,376.4886055,189.2616674,236.8953933,259.3973494,328.9098892,354.5846058,257.2700163,305.8751238,325.3324878,324.95892,235.1294691,277.0339524,280.3437406,255.2544409,270.6325069,253.9093213,273.092077,316.3984978,408.5356188,334.3317845,372.8498432,203.3812923,274.5902751,207.7369888,268.6684637,340.6956311,400.8016603,327.0840676,260.1054455,219.1852525,352.28079,172.5083892,252.36543,233.6080557,228.86293,311.2961675,275.9717264,299.4368265,261.0666438,294.4538963,318.2528014,260.4860546,216.3409323,277.084224,220.4917639,281.3966838,254.2608114,249.723369,275.2870726,297.2016018,362.3455742,189.4429399,305.3303818,411.810369,182.8440459,297.7353473,245.8211977,258.947168,241.940773,293.4732356,231.0396812,388.201507,297.4179501,224.4723887,289.6619857,234.4544522,277.4549315,253.8467812,228.912522,346.7570543,302.1091845,205.5143916,288.6600202,293.9110068,231.4351892,184.2131203,235.4304678,275.8810121,258.3819447,308.0475964,226.802199,264.0989928,268.8326119,306.6080357,236.2127732,293.386698,318.180558,296.8829335,252.9930044,205.9633801,282.2115053,287.0157139,277.4359099,277.3867797,328.5680583,250.5845218,353.4662998,302.2095731,317.5428031,250.0630792,231.1420842,207.7512363,294.6625589,217.6202412,357.0472563,368.2206845,315.2013498,194.6688358,316.7128382,349.6589887,239.8993992,284.170622,207.8230517,308.392291,343.2602128,390.3008576,199.8147343,306.3100019,226.581322,332.5532581,268.0873433,248.674245,278.2800079,279.8129101,227.1275085,275.3557685,316.1898754,318.5977308,227.3931825,492.2752785,316.8097244,289.9248299,359.2245718,286.2523864,204.0812123,342.4207326,244.8038886,253.2546956,236.9642525,238.5393844,296.0912378,304.6225324,362.3150066,291.5913488,247.8386945,259.2931487,298.8373229,254.1760536,215.2719758],\"type\":\"histogram\"},{\"histfunc\":\"count\",\"histnorm\":\"\",\"marker\":{\"color\":\"rgba(128, 0, 128, 1.0)\",\"line\":{\"color\":\"#4D5663\",\"width\":1.3}},\"name\":\"Eccentricity\",\"opacity\":0.8,\"orientation\":\"v\",\"x\":[0.819738392,0.801805234,0.798353619,0.684989217,0.56401133,0.777351277,0.823098681,0.706057518,0.845498789,0.784055626,0.856042518,0.784258452,0.683882337,0.510583813,0.769089738,0.767374275,0.858829168,0.746473726,0.799406959,0.855799392,0.701160962,0.739555027,0.737169367,0.419753707,0.788128405,0.698627251,0.58410581,0.726660229,0.517134931,0.783331958,0.786009488,0.822113695,0.683510499,0.764243075,0.369212459,0.51832833,0.639696077,0.851391425,0.795479241,0.633851884,0.633422315,0.717025543,0.713783938,0.492086934,0.852367489,0.711474579,0.770923534,0.612809911,0.834842987,0.7152614,0.816632082,0.822570794,0.853542978,0.845844473,0.781149506,0.749538262,0.643138024,0.784164747,0.542783247,0.767577386,0.707082253,0.771855496,0.856934002,0.696759162,0.830230914,0.767133811,0.778322762,0.811861615,0.759843328,0.791421357,0.784111496,0.840127895,0.77037364,0.772430874,0.70536589,0.74318078,0.772332349,0.763692969,0.834859339,0.805244577,0.787598712,0.756366569,0.773083296,0.537014933,0.772569894,0.923770364,0.797566261,0.708695988,0.761162183,0.716709132,0.731093185,0.721960082,0.7875856,0.751756706,0.781583108,0.724374455,0.619209281,0.704163616,0.74939737,0.57676457,0.81557794,0.847305856,0.627430162,0.816029801,0.768542385,0.829409642,0.460121209,0.64720992,0.733205484,0.645403364,0.737687128,0.836525515,0.787903331,0.610712677,0.786758156,0.773771049,0.793313932,0.65526509,0.777470812,0.656532102,0.697235919,0.744715834,0.619253764,0.733120775,0.675434094,0.825776045,0.521834977,0.558731929,0.72879271,0.863454506,0.647596035,0.725972018,0.783919938,0.732283957,0.794099752,0.810518333,0.800869044,0.829838749,0.842992995,0.74638361,0.603110639,0.823103652,0.824810334,0.735695738,0.753861393,0.813616588,0.779258691,0.792887194,0.776279027,0.684358117,0.714455428,0.74958095,0.702348195,0.638518237,0.672637467,0.800879085,0.348729642,0.78143908,0.599652719,0.849173815,0.774425873,0.653340582,0.792700937,0.830713904,0.798067621,0.782756248,0.766419171,0.667555617,0.783428223,0.755467225,0.769022556,0.786002573,0.765295307,0.850122963,0.835648938,0.766524847,0.655334662,0.649914023,0.561090145,0.745653394,0.815015963,0.781628075,0.66775371,0.861733321,0.696038327,0.772777753,0.804928834,0.672309707,0.770481865,0.819032478,0.783351347,0.659291894,0.44495009,0.851517765,0.796399015,0.690568105,0.77288661,0.432307345,0.725926293,0.735758503,0.687258427,0.683752754,0.778519786,0.808863683,0.691685086,0.746920746,0.751829118,0.724907214,0.643997206,0.710615819,0.673354968,0.857040355,0.848925537,0.778234722,0.768012151,0.646140518,0.819079815,0.808518015,0.832834246,0.65523977,0.716885111,0.79160385,0.535914821,0.777991385,0.74565434,0.778932753,0.812295614,0.794215984,0.530009681,0.740319531,0.804490914,0.520265279,0.826775225,0.769339036,0.708517498,0.502579995,0.52298617,0.849262336,0.818864551,0.741875489,0.746874181,0.841066464,0.765589944,0.823513752,0.652451831,0.671282476,0.741936124,0.746351424,0.762774955,0.718938975,0.644113015,0.496118267,0.786409924,0.507423663,0.832994182,0.784115281,0.81583235,0.786462407,0.605079015,0.784922337,0.743740567,0.699953594,0.655424446,0.792393852,0.760091178,0.759609525,0.829904913,0.815662968,0.857153654,0.806669001,0.627246499,0.840641076,0.843952802,0.793181118,0.777354334,0.54134302,0.748976897,0.840653105,0.699251006,0.712773879,0.679452185,0.693207597,0.67557273,0.799715505,0.817214876,0.70186924,0.698792225,0.79733001,0.826515979,0.665065172,0.902489762,0.81995626,0.749065428,0.808025921,0.756934744,0.701652699,0.582962247,0.529833692,0.718934015,0.71105609,0.742565182,0.660138051,0.749358072,0.768107985,0.722728935,0.82858974,0.891051301,0.800126045,0.725545687,0.581451809,0.81625629,0.893051844,0.709365401,0.809690001,0.800062704,0.766786821,0.418381972,0.716817189,0.589707296,0.740157695,0.832134559,0.711870752,0.627855296,0.767140615,0.775762211,0.769972704,0.706005483,0.649860993,0.80203462,0.782187815,0.841920242,0.833092526,0.803676777,0.741851492,0.534302927,0.799795765,0.801009823,0.797893855,0.846647455,0.849522441,0.716592623,0.754031829,0.80296515,0.709164675,0.732118179,0.82646137,0.783953309,0.800624837,0.82199021,0.867919298,0.752240304,0.74510983,0.626064816,0.82978902,0.691804118,0.731248797,0.458544698,0.869667343,0.765320366,0.798953455,0.81963199,0.633533709,0.778561165,0.780495845,0.680269105,0.718479434,0.654204824,0.691063598,0.690992119,0.755550137,0.801864322,0.694027404,0.54000213,0.682083382,0.78065406,0.585951613,0.70609608,0.745688178,0.856772375,0.803054658,0.747689152,0.806731223,0.811198369,0.740366108,0.764366384,0.736407405,0.819924857,0.833555048,0.727040805,0.846382218,0.773491106,0.74151054,0.794252979,0.846846105,0.798738633,0.806767261,0.857662466,0.805935469,0.803024243,0.713731082,0.821499608,0.816654393,0.840300429,0.782132713,0.770638009,0.797864438,0.739121421,0.791294159,0.812809305,0.754864415,0.780219721,0.805830387,0.781038479,0.779635513,0.800171576,0.758526041,0.740566437,0.82654621,0.791621183,0.741121199,0.573476639,0.7747273,0.705783651,0.736423765,0.729794954,0.742093815,0.784845746,0.750266822,0.823784218,0.704512743,0.789911277,0.797184383,0.836895588,0.800432782,0.870957281,0.790668532,0.757139293,0.764572839,0.846004564,0.54252098,0.716534018,0.685841703,0.700862765,0.794994961,0.737166231,0.647469874,0.70739191,0.851091037,0.857392304,0.584337455,0.907201118,0.840966033,0.855874944,0.782171631,0.855007371,0.817323783,0.877252896,0.856447002,0.537416298,0.8881652,0.84698069,0.909255569,0.925634934,0.830863512,0.912304144,0.841965878,0.912721946,0.901315524,0.865640348,0.895655767,0.871121605,0.721793107,0.807670301,0.844964592,0.830759616,0.806236591,0.812534049,0.730434168,0.863367048,0.773309506,0.875338198,0.681848156,0.780976537,0.500990716,0.725532478,0.818780557,0.771686556,0.927737116,0.895002832,0.868059652,0.630646744,0.822525594,0.784743459,0.850542335,0.857893642,0.83716934,0.881546115,0.842459099,0.911615194,0.830686786,0.532159522,0.872535895,0.815716625,0.835169296,0.902609051,0.864342392,0.96212444,0.810341407,0.910468935,0.907927113,0.850383428,0.865089207,0.742211915,0.853305321,0.806340027,0.777808102,0.832079617,0.820173426,0.906395428,0.816451523,0.885429547,0.854577011,0.883204868,0.847632242,0.824754645,0.879996398,0.82616862,0.806766406,0.892599892,0.838451647,0.853315591,0.904850809,0.829402027,0.795682271,0.900847975,0.826343087,0.921939284,0.811772822,0.839272464,0.902976663,0.914593881,0.822087757,0.851847299,0.758021814,0.765003405,0.815937489,0.6514683,0.773332196,0.909510252,0.869715856,0.77581274,0.829342993,0.674476207,0.828040175,0.82910585,0.80783856,0.71988502,0.888878022,0.612784478,0.745407081,0.81104538,0.801921074,0.907106886,0.781601193,0.862261419,0.828366668,0.876517212,0.846098403,0.872681468,0.874317368,0.830110932,0.817920329,0.804913476,0.89195687,0.90840748,0.842906798,0.851335233,0.857138757,0.823493997,0.895270971,0.851905369,0.755968807,0.850686743,0.806792408,0.83125185,0.819180326,0.851398389,0.720639035,0.870293382,0.857933758,0.734862852,0.800107952,0.88841751,0.815821133,0.855870727,0.891891237,0.649631331,0.786627389,0.652394055,0.833159184,0.90679426,0.731287033,0.893172211,0.818937495,0.76535397,0.853023753,0.740466412,0.887105943,0.878050657,0.873898112,0.753808948,0.819507998,0.884359909,0.757043179,0.709454946,0.759510001,0.740009433,0.770486336,0.838273925,0.87732059,0.832437662,0.88854772,0.840263379,0.909335484,0.861680554,0.838832653,0.898154134,0.811634818,0.781965247,0.833170935,0.80677413,0.87238391,0.84017353,0.846659474,0.912408981,0.761196452,0.806310313,0.855792865,0.820194593,0.624298597,0.865182269,0.841649703,0.805158483,0.834050126,0.747181362,0.792113448,0.849164703,0.822766851,0.773824179,0.792112164,0.818383583,0.848474157,0.844164633,0.865447744,0.852564975,0.757501058,0.777064027,0.887465183,0.769969011,0.826779841,0.827452081,0.831784963,0.71606769,0.829105982,0.890685928,0.736790229,0.763554308,0.823042761,0.879346962,0.702074218,0.88563635,0.87593328,0.864959104,0.849102747,0.856495219,0.841748223,0.803442088,0.868894695,0.791795655,0.876960072,0.73572335,0.883618526,0.917708543,0.806095763,0.827229367,0.685790415,0.796252226,0.898249041,0.622242108,0.839534766,0.867131498,0.86046812,0.780386042,0.78101538,0.903244833,0.838683717,0.77598221,0.652122156,0.801191187,0.88221128,0.866210843,0.803096791,0.887694392,0.85565446,0.900752608,0.836849476,0.758036475,0.827080776,0.84609325,0.800238655,0.873342236,0.784117922,0.891865826,0.835075211,0.862608676,0.835846416,0.906330851,0.802213456,0.844780047,0.844509317,0.757673254,0.865604032,0.691520882,0.749918202,0.788662816,0.840744874,0.80879864,0.8754528,0.757958591,0.773870556,0.846662711,0.74094546,0.88188543,0.829377269,0.799682716,0.767940576,0.810899272,0.72281732,0.826081781,0.809313914,0.882962171,0.928093615,0.876217627,0.813921262,0.761253861,0.871057374,0.886610152,0.909536563,0.794506753,0.836102728,0.793239365,0.794882897,0.827039135,0.839828107,0.886251871,0.871726491,0.761899987,0.849007165,0.68901521,0.779803256,0.795244976,0.781855924,0.835664958,0.830080564,0.762382271,0.881611618,0.814613238,0.904264761,0.896152602,0.742435528,0.750752113,0.787151415,0.877792635,0.834567201,0.898831116,0.774845821,0.838274613,0.722726255,0.837967815,0.863933164,0.850823569,0.819681103,0.877725147,0.875561861,0.855032254,0.767787509,0.84857138,0.832188722,0.829752693,0.798306516,0.781769152,0.820680026,0.818772562,0.881430321,0.825086992,0.861483822,0.724402895,0.841453216,0.728880994,0.763459806,0.868116234,0.78150484,0.922383026,0.863964234,0.805073466,0.888703306,0.874928099,0.798050128,0.832692769,0.886467562,0.840993944,0.874965463,0.864734549,0.893780798,0.893214785,0.83071856,0.764307755,0.729548695,0.849784975,0.861117655,0.811745025,0.814864461,0.848694829,0.80064808,0.801152573,0.73402126,0.831826447,0.732705625,0.754489905,0.914840211,0.807757147,0.566991437,0.772985146,0.701055316,0.864320723,0.879866091,0.951082244,0.836364958,0.667315162,0.687531298,0.733056942,0.746901655,0.78696365,0.784730757,0.795205711,0.833198042,0.76326774,0.817927331,0.699480849,0.647955574,0.887286135,0.824602335,0.88626171,0.850790524,0.872416085,0.850815756,0.763544285,0.768487895,0.875205907,0.823355491,0.818082863,0.596358734,0.799710534,0.87200443,0.827917003,0.808005855,0.849597917,0.887265505,0.856845008,0.870360472,0.876358889,0.849208116,0.71620554,0.787777611,0.802212378,0.892918128,0.872500913,0.794500651,0.858538226,0.875944181,0.507431838,0.853362761,0.804107077,0.807959919,0.820643598,0.808096294,0.765407249,0.868670102,0.703942708,0.853284574,0.861490344,0.768571317,0.878599234,0.836204746,0.821573762,0.817262582,0.808628995,0.721684066,0.84573851,0.907345395],\"type\":\"histogram\"},{\"histfunc\":\"count\",\"histnorm\":\"\",\"marker\":{\"color\":\"rgba(219, 64, 82, 1.0)\",\"line\":{\"color\":\"#4D5663\",\"width\":1.3}},\"name\":\"ConvexArea\",\"opacity\":0.8,\"orientation\":\"v\",\"x\":[90546,78789,93717,47336,81463,51368,43904,62329,44743,66125,84460,45021,45133,78842,76807,35794,66419,66713,44714,72363,71849,59365,84427,64732,97865,77493,74545,62492,82552,63250,90715,43838,77541,63397,48275,43096,57724,56450,79220,50880,97988,73265,79255,93772,80138,60232,71321,43114,47802,54175,46400,118314,67372,48787,113256,49203,59943,55456,72223,26139,69097,50166,81718,66649,62213,61464,55539,91201,52913,74045,99256,64346,72895,70759,54438,51743,77437,44052,78641,49187,52903,57109,62380,100747,79970,221396,73002,40472,37418,50835,55392,58697,87057,68626,55774,40147,81032,60580,49877,75898,83143,59968,58954,57396,61585,45872,51456,71726,84981,66783,84964,46531,52772,51771,99085,86242,83306,91793,65298,81603,71843,54116,52396,59520,99609,55960,72330,57633,48900,90297,76287,71954,50468,53550,55288,59307,99561,61496,57197,112150,50672,56089,75540,51555,48077,72170,77118,56175,41446,68078,48142,59311,77454,80355,78443,86345,47173,59834,41860,42965,49237,55158,75653,95560,73864,61834,54510,42505,94693,46921,85978,61643,60701,70932,53893,82746,88056,53588,41594,50298,90905,71102,65403,45669,82807,45174,37401,58976,70649,81442,79677,88336,38874,81718,45285,89605,70719,87512,62511,60648,64925,63641,77508,75563,69240,76154,39926,64027,40765,50857,50732,48476,58786,60379,53944,64021,49996,67510,76912,51029,48658,67847,58143,95750,85615,81976,92630,68018,79230,79198,56526,54860,87728,36516,52250,40598,47739,54649,44753,47486,53531,46785,56076,61469,87052,58701,49996,58991,64811,52016,80872,47266,39765,42795,78032,43362,63117,44836,76355,41209,63897,48762,44535,52462,63504,80973,59845,70347,64722,74242,56851,86710,92321,70360,46443,34787,80094,67701,44944,81779,60597,69536,55879,80474,74481,59977,96072,70141,76449,62580,176818,66476,74373,83634,71937,70274,58178,58095,107423,37442,89063,58867,72585,83499,64424,63756,64406,56217,68383,46805,60916,48490,65825,40133,65057,48631,56989,39564,67032,58973,63997,56849,49075,74175,67299,37747,79086,69844,59225,81999,59040,54875,60664,62130,74945,55143,70719,86319,79297,46287,41587,92636,58810,69233,71994,78465,48183,63724,91704,69356,51007,90865,48457,56120,82949,71504,60254,64962,80285,66639,51847,50879,67524,105569,75353,49089,70703,58879,87873,58408,33699,72618,89581,102881,69039,67971,73417,39909,55662,81839,84531,32564,28607,68732,77958,48300,66825,69597,72981,65958,51829,83419,53060,66445,91337,33540,78125,74803,85879,69587,52619,41361,52949,93480,80799,52600,67503,74825,84950,108211,62384,78857,58924,56855,39280,59383,35376,50165,73593,86777,87929,93719,35824,40747,42792,87690,58274,40539,49367,69607,59449,60494,61711,76702,65950,30316,82562,87883,85648,100682,55147,64898,60738,71336,69889,64553,88754,62974,52070,43443,142650,123587,99166,100113,67286,158371,138133,115602,128307,93706,110611,68813,132802,46532,123463,70809,101539,192699,174282,204472,69700,123486,111765,161901,86346,180994,130649,112497,132108,209580,141818,78359,120546,95920,159063,89018,111089,278217,93549,86859,174277,80497,104186,76975,86694,150416,118098,78952,125638,104255,146328,169000,76252,144300,92317,106888,221527,212813,136793,174718,85000,85201,105429,84780,168292,192922,209242,100169,67199,89920,160709,88521,181412,115550,59797,116783,71648,167471,120657,79014,95477,107968,86909,138992,167442,81325,87172,85292,151644,101271,172003,197672,146231,122375,107992,71591,93821,123305,128101,97496,94720,73278,209457,87230,79168,125665,107313,80680,90968,144034,181715,149076,88730,122903,109161,139458,116787,159681,127342,97149,109593,82708,97428,171794,197851,149156,112975,135814,134796,134139,210114,209486,149403,130059,105500,64321,167411,103883,116961,111368,181352,111624,135975,126960,139806,85153,64892,112766,92014,157353,95252,136555,78159,139701,106036,173362,82394,58632,107520,125083,88349,74718,134574,120922,64499,110755,201464,132727,108790,112825,82328,144444,201241,141442,77521,102157,107983,106906,109052,88806,102653,95774,87785,56006,174278,72819,108072,165385,104567,70556,93826,134950,83932,109179,125067,118786,89047,80688,77890,116531,197430,108615,101977,101317,177170,72724,174610,196576,95197,85611,56030,156402,41924,84581,110984,88615,181288,108197,212569,100659,161782,190749,100204,104468,77824,114995,54576,150534,188848,133704,78977,162376,111428,66145,92886,106439,65462,133475,61519,92046,92397,145158,138078,52692,219952,90550,93852,95370,96340,128308,125132,155411,155494,139124,133001,83384,62614,99678,227170,111707,64694,207198,82967,109157,89794,100259,102899,60490,88842,114538,69506,95741,134778,104508,100712,83074,89048,116819,56639,84523,92412,87629,103918,106961,101921,131499,122361,50679,170954,87269,113425,120417,112201,108053,55532,81689,128445,148697,93928,99964,109501,187560,52077,82642,116070,175679,155682,100196,100815,133811,139810,71551,111306,113476,81613,124432,90825,139500,179961,197426,134210,180289,70487,110118,80356,92317,170781,185474,152985,106499,73629,172094,51538,105956,84540,65994,149492,109992,129758,90160,111241,143228,94643,78694,107939,77356,93087,95156,72956,92030,142159,167563,75157,148528,225916,58530,148078,79715,98337,101231,126325,89369,239093,158488,88572,121057,68906,89710,97623,80567,163523,125856,63596,109314,114128,63181,49720,67390,90768,129101,129444,50103,90393,82584,148876,96247,225592,145899,95666,70513,50748,95982,105549,100285,101717,155600,77706,173527,101942,107169,108119,76106,75002,130766,76157,195810,165584,123230,61673,142114,169060,58630,108094,70674,136612,160008,229195,70454,146674,82990,181954,108296,69880,101878,103475,90790,125523,130948,159694,87501,228259,153905,113271,174156,113888,56464,144862,97707,71879,82555,92673,108914,154549,189799,119773,85839,90899,106264,97653,89197],\"type\":\"histogram\"},{\"histfunc\":\"count\",\"histnorm\":\"\",\"marker\":{\"color\":\"rgba(0, 128, 128, 1.0)\",\"line\":{\"color\":\"#4D5663\",\"width\":1.3}},\"name\":\"Extent\",\"opacity\":0.8,\"orientation\":\"v\",\"x\":[0.758650579,0.68412957,0.637612812,0.699599385,0.792771926,0.658456354,0.665893562,0.74359819,0.698030924,0.664375716,0.674235757,0.697068248,0.690855598,0.772322237,0.680181585,0.68155052,0.75677257,0.694998015,0.713838189,0.728075054,0.734398534,0.723608833,0.686375085,0.643595671,0.704057157,0.726277372,0.778736856,0.69858783,0.757559607,0.744124224,0.752063524,0.697444367,0.723079729,0.746829611,0.684219059,0.743089401,0.703287982,0.611417674,0.721545397,0.766377827,0.75304396,0.715484271,0.732267077,0.749006827,0.631720869,0.645103465,0.727177893,0.824319225,0.732682771,0.675190536,0.656177905,0.681904966,0.616981132,0.634230657,0.690092879,0.667775392,0.693625546,0.691695375,0.727023897,0.678144032,0.692446491,0.702770596,0.642192762,0.66254095,0.665683112,0.697485902,0.674553259,0.655190643,0.751889645,0.718536732,0.674956111,0.67634488,0.697453002,0.712858926,0.695879962,0.720863268,0.745370006,0.725119048,0.758754595,0.773237024,0.692470967,0.704444444,0.660287081,0.740420596,0.703864647,0.454188929,0.66062887,0.697576154,0.706832223,0.698607314,0.745944749,0.685736144,0.702560887,0.756943504,0.714434188,0.737583283,0.779156886,0.725925745,0.677642591,0.731741628,0.762382252,0.714780201,0.710346522,0.743990207,0.709619286,0.677637221,0.711244478,0.698347024,0.745434745,0.764829716,0.698270844,0.732999603,0.704805743,0.835454545,0.70929382,0.713834797,0.749044143,0.762549046,0.690843725,0.735114151,0.701153379,0.684289081,0.737442725,0.688592377,0.731331126,0.655895281,0.76010929,0.740165631,0.720914695,0.658456829,0.766676926,0.7461579,0.663815575,0.695051277,0.693692051,0.649981827,0.671204732,0.630103195,0.710295439,0.752397666,0.727613045,0.731341251,0.656512605,0.723225806,0.70526284,0.661674303,0.704712179,0.723391813,0.722972478,0.759917351,0.656913967,0.777295152,0.740915368,0.708897225,0.724287614,0.653494033,0.742280362,0.737582676,0.663039663,0.641185842,0.683409393,0.715746997,0.709568466,0.710370382,0.751833496,0.755822747,0.728442565,0.732383622,0.704122154,0.67518458,0.686782733,0.645498252,0.714819412,0.738242255,0.708995359,0.671900035,0.776944987,0.756163594,0.70757157,0.740127679,0.708726586,0.736994471,0.756999834,0.677934111,0.711719732,0.696283865,0.812265444,0.712711069,0.721042955,0.753436549,0.757992637,0.727896163,0.794371379,0.738448432,0.633605969,0.73824584,0.706155633,0.785886818,0.683711081,0.700286801,0.735317295,0.673137894,0.686113099,0.740115679,0.703014672,0.735392657,0.696593309,0.705612526,0.733384022,0.779294866,0.658811365,0.61463255,0.769151222,0.704257176,0.742600897,0.716062129,0.625615,0.654744466,0.679771405,0.711033729,0.648829289,0.67011755,0.778285573,0.687069934,0.663072689,0.708385459,0.656529107,0.714438491,0.741100324,0.745202952,0.688495238,0.737749216,0.687577266,0.664187423,0.650107229,0.779432833,0.759090614,0.703402763,0.572669696,0.647425443,0.710051367,0.649275753,0.673221768,0.755157975,0.762151543,0.711769781,0.628971988,0.688668657,0.650566038,0.687507692,0.732483472,0.741286253,0.760436395,0.646827284,0.706459362,0.691330839,0.786776754,0.670082721,0.73124602,0.722204347,0.705620699,0.69527897,0.754021912,0.766294481,0.718720657,0.678446719,0.757476883,0.746130132,0.740084919,0.690650883,0.75133953,0.622017819,0.752003469,0.697810444,0.648741706,0.792998657,0.72693048,0.77052354,0.673127962,0.73159735,0.690364202,0.655261122,0.73819523,0.684273038,0.709103722,0.721190282,0.767668921,0.65970447,0.679453706,0.721542781,0.529774048,0.644356396,0.777794531,0.713728344,0.690789927,0.703439853,0.727739018,0.725273711,0.714616222,0.694480769,0.703574648,0.732865767,0.676723637,0.725472034,0.712041464,0.632188028,0.786145031,0.683504044,0.76069161,0.686071949,0.732782609,0.644743975,0.769218037,0.780883243,0.663844642,0.637631572,0.730654294,0.682497943,0.738719809,0.716762355,0.63947956,0.714254241,0.714070801,0.720924428,0.697943308,0.669480333,0.731251436,0.757604541,0.699832704,0.72851683,0.634965144,0.691175711,0.784413741,0.726680161,0.706179792,0.817388614,0.6593012,0.70994898,0.665346888,0.638466441,0.724282537,0.738675293,0.647718841,0.740815867,0.722542219,0.705085125,0.655278582,0.687300355,0.716220548,0.691026582,0.760809215,0.717962253,0.761653373,0.732663025,0.725486822,0.693937827,0.774756149,0.701161946,0.703003457,0.676634437,0.66134168,0.714770872,0.655845605,0.726967785,0.754739312,0.721187789,0.75184561,0.718647085,0.733663131,0.685666764,0.681117902,0.742975069,0.711009953,0.752578628,0.742390035,0.676864225,0.650222613,0.716030818,0.603678181,0.655148423,0.718458106,0.613910617,0.693487281,0.697662517,0.73744195,0.721307939,0.764336518,0.664193878,0.725744843,0.767873412,0.677975097,0.668021782,0.72541099,0.66740908,0.713846277,0.658393331,0.723184154,0.746867425,0.648281256,0.729512956,0.656552752,0.619968504,0.660997732,0.692924564,0.705007428,0.681695537,0.762676056,0.689966401,0.742458211,0.726297937,0.713052833,0.731227487,0.693394176,0.750401546,0.721173923,0.738172941,0.788048575,0.680708836,0.701677879,0.751028843,0.748622661,0.625024255,0.749399624,0.712562139,0.682773386,0.714817957,0.659853078,0.733007733,0.745108064,0.745026085,0.674039717,0.657557931,0.736289139,0.726470473,0.7229673,0.622292797,0.71950598,0.718740092,0.700769491,0.729864528,0.728432118,0.704603994,0.700500144,0.679310549,0.678319442,0.707449022,0.742231578,0.684081829,0.623352166,0.729700613,0.731637667,0.730067672,0.722782014,0.706597603,0.597392869,0.7216,0.74243622,0.614705496,0.698250157,0.491002009,0.632908552,0.63426911,0.73666198,0.830632225,0.615745148,0.70311297,0.573452572,0.645353264,0.681538723,0.728769116,0.66625485,0.723886976,0.707906277,0.641322804,0.657162126,0.683219376,0.679096353,0.686944665,0.604408842,0.613785469,0.60152231,0.67995405,0.742643053,0.747599585,0.739083641,0.723343769,0.729683725,0.507352075,0.738386349,0.609222133,0.70191488,0.668994838,0.673788505,0.683852617,0.711227443,0.695421481,0.627862764,0.685461187,0.526259635,0.639614136,0.750260314,0.757757749,0.642461908,0.659151906,0.555157323,0.573241751,0.379856115,0.771748314,0.582496357,0.716926627,0.583107877,0.607359562,0.713290393,0.629437077,0.719282081,0.747156346,0.717218816,0.694716941,0.686235379,0.735371438,0.697046209,0.708450645,0.739152923,0.7304361,0.718426867,0.66209179,0.719385856,0.704685775,0.649487407,0.59261729,0.673231039,0.668066581,0.630243012,0.722192393,0.763778569,0.654279767,0.491460095,0.746436873,0.6485275,0.553411373,0.796730297,0.631120527,0.733999104,0.7844673,0.647265235,0.664527251,0.671063554,0.70883156,0.641284069,0.719887507,0.682649239,0.728765213,0.751009036,0.702859542,0.658669736,0.70666472,0.736901835,0.621328517,0.728499171,0.69363089,0.789451783,0.729421056,0.629612341,0.675596941,0.65023094,0.722141961,0.725860952,0.761057039,0.60261772,0.672892643,0.713611945,0.637353474,0.715906997,0.578673899,0.605915848,0.632833301,0.698815436,0.71150732,0.64875817,0.536784249,0.780576219,0.76928865,0.746736026,0.736226499,0.67,0.737472545,0.723185339,0.724719182,0.743155287,0.733559965,0.737206739,0.740102967,0.67400216,0.728998849,0.679589556,0.714973571,0.734356566,0.744780007,0.696992892,0.594050406,0.547433097,0.647529753,0.712414947,0.729890232,0.637828409,0.682988899,0.623285654,0.625069042,0.733311646,0.643713354,0.70294108,0.663897875,0.712977469,0.724300244,0.696275072,0.764047729,0.768569796,0.719183673,0.750751174,0.689192749,0.69841719,0.632588558,0.79154619,0.706431237,0.648154835,0.686586549,0.715653732,0.77991351,0.730380886,0.685808886,0.6870381,0.672344689,0.720549965,0.699917592,0.755515672,0.72827907,0.769034792,0.751898675,0.684337933,0.723263519,0.643559069,0.744313787,0.729480633,0.716535433,0.759912623,0.71936754,0.725930755,0.648001,0.668176329,0.739561481,0.786426888,0.667043297,0.679432242,0.708423059,0.713766518,0.71260281,0.636111296,0.734399043,0.715447344,0.649910941,0.706141745,0.67130865,0.721615488,0.674012309,0.687345679,0.710499821,0.74704638,0.772169783,0.745808887,0.707426224,0.742108801,0.698891395,0.675361077,0.61417513,0.681927322,0.670785994,0.649178255,0.733669028,0.733060891,0.750683811,0.747347818,0.726610542,0.522278775,0.711720382,0.736088407,0.717930823,0.7233925,0.689689754,0.656334872,0.644193035,0.606600084,0.585589398,0.667621591,0.675122045,0.496936979,0.607853978,0.717702448,0.723317129,0.71684776,0.681831859,0.747413046,0.777524801,0.719325646,0.634567669,0.621483426,0.691161601,0.735576165,0.754547447,0.770542973,0.702710238,0.628258686,0.773987918,0.674377378,0.730218937,0.584770469,0.777045002,0.616301518,0.734956305,0.729824958,0.689698853,0.684109182,0.700032075,0.624908356,0.750241792,0.703058137,0.696116854,0.699757752,0.677181674,0.654281336,0.663542132,0.624797395,0.67494521,0.576457129,0.741609977,0.682242863,0.643253594,0.618402185,0.677051307,0.735823666,0.704841486,0.580625185,0.652865745,0.729520929,0.715684093,0.646413348,0.733492868,0.579493175,0.732276687,0.588446959,0.694107266,0.678388339,0.721829842,0.724950397,0.654597092,0.558566689,0.738159297,0.711847256,0.688908984,0.633349614,0.745071058,0.688558608,0.719074732,0.620933014,0.6354731,0.632365454,0.723790395,0.705146139,0.73672628,0.592162706,0.769656124,0.705522559,0.775837589,0.628014974,0.773187379,0.661007591,0.761312848,0.779463573,0.716808511,0.690156141,0.691085026,0.725454805,0.740122616,0.711320187,0.741658503,0.733213483,0.707307692,0.721793513,0.697561586,0.735948588,0.73579464,0.770049274,0.697215215,0.751860779,0.658392557,0.670404145,0.621603191,0.713854554,0.632396721,0.727848231,0.740107415,0.748756786,0.770427286,0.500546035,0.800255194,0.764940471,0.65636597,0.643516382,0.689010979,0.7129884,0.725982963,0.65953021,0.730391156,0.711672732,0.61471504,0.67084419,0.712064948,0.688944066,0.743688283,0.737951528,0.677376367,0.785231188,0.734512254,0.791440045,0.715983148,0.734758929,0.734803992,0.748192733,0.70227959,0.673805327,0.534714521,0.739578685,0.669594277,0.697670974,0.719924469,0.682495301,0.636981038,0.414153748,0.754857688,0.742996727,0.670877399,0.742824357,0.746163157,0.686192924,0.687258906,0.78868349,0.721207805,0.735096754,0.756241377,0.720765368,0.724419777,0.646932785,0.703181055,0.696373759,0.667778474,0.654434087,0.612143209,0.781964054,0.672032484,0.719710626,0.677764642,0.753517688,0.681452744,0.787014132,0.611693881,0.650653694,0.762219476,0.744187354,0.708950617,0.764489545,0.651213128,0.779403089,0.700270537,0.708661084,0.689695666,0.785177527,0.727157486,0.668155987,0.694510885,0.750048547,0.633078974,0.731973651,0.642408712,0.687099748,0.771737563,0.732395854,0.636111111,0.770643939,0.702386185,0.700929152,0.578255972,0.6810436,0.759967476,0.593805036,0.71394663,0.62476017,0.66879293,0.636476246,0.741098519,0.658798253,0.632019963],\"type\":\"histogram\"},{\"histfunc\":\"count\",\"histnorm\":\"\",\"marker\":{\"color\":\"rgba(255, 255, 51, 1.0)\",\"line\":{\"color\":\"#4D5663\",\"width\":1.3}},\"name\":\"Perimeter\",\"opacity\":0.8,\"orientation\":\"v\",\"x\":[1184.04,1121.786,1208.575,844.162,1073.251,881.836,823.796,933.366,849.728,981.544,1176.305,818.873,803.748,1042.77,1084.729,751.413,1028.445,981.509,814.68,1061.321,1035.501,928.272,1106.355,971.769,1181.921,1059.186,1010.474,964.603,1063.868,982.788,1162.877,828.697,1075.792,972.472,844.312,784.912,926.095,968.729,1100.676,843.764,1201.39,1036.94,1095.283,1135.662,1141.189,992.114,1022.568,790.427,870.387,902.624,845.786,1340.897,1030.155,901.102,1298.188,861.58,952.023,936.371,1039.551,619.074,1003.374,868.06,1157.33,997.989,990.547,981.517,912.153,1179.694,903.308,1069.77,1255.245,1054.198,1086.857,1049.093,894.48,873.777,1081.339,814.182,1091.754,860.402,896.728,957.132,991.612,1176.6,1100.836,2253.557,1034.183,755.822,750.909,867.582,889.626,933.896,1140.684,989.016,934.547,769.242,1045.658,920.573,860.548,1012.365,1114.736,978.85,911.857,973.259,966.329,842.121,872.289,1035.022,1115.811,975.425,1187.338,883.973,877.799,847.664,1259.451,1144.973,1154.54,1136.669,1013.202,1075.271,1051.02,923.19,855.997,977.425,1223.904,930.627,993.05,900.109,861.179,1193.28,1048.675,1003.769,875.174,893.451,922.011,953.496,1212.667,998.437,965.068,1252.875,845.128,938.705,1096.751,851.632,847.792,1066.388,1073.768,922.878,790.531,993.455,879.832,925.795,1051.266,1071.385,1070.053,1153.434,810.195,950.721,791.464,846.833,857.776,906.666,1075.279,1252.762,1101.502,978.631,928.217,798.515,1183.447,848.487,1157.001,988.273,948.233,1097.292,912.259,1127.409,1139.446,862.778,777.663,848.422,1176.287,1024.993,953.445,867.446,1057.448,817.41,747.161,906.829,1015.771,1102.423,1059.644,1094.59,734.102,1120.963,820.714,1122.16,1001.236,1070.062,966.438,916.044,945.523,958.627,1063.377,1050.909,1001.714,1040.788,762.439,975.553,763.979,834.328,869.795,891.528,949.936,944.879,898.546,947.541,883.044,1057.897,1131.096,869.188,875.764,1048.186,904.508,1198.259,1113.144,1110.378,1216.535,1020.029,1065.191,1056.74,931.43,895.745,1169.983,750.365,877.43,737.468,799.991,929.471,870.063,849.225,895.04,877.02,931.117,968.36,1094.576,929.115,907.025,926.255,1004.245,868.951,1110.44,813.276,770.59,793.005,1095.055,804.559,966.493,802.261,1050.012,761.949,979.447,860.58,785.843,875.267,974.079,1092.709,945.191,1042.257,1004.349,1037.399,893.644,1179.024,1180.478,1030.869,884.495,699.415,1112.212,1014.789,840.167,1075.307,927.048,1032.358,887.109,1099.512,1055.302,940.22,1174.166,1050.867,1071.612,941.486,2098.263,1002.035,1050.221,1148.651,1024.256,978.434,915.496,921.613,1228.366,737.637,1120.019,903.769,1040.716,1103.153,970.754,989.499,1018.553,915.939,972.971,833.117,950.717,901.17,948.889,769.691,977.085,843.96,875.659,754.022,944.713,919.044,998.47,909.604,854.724,1048.486,989.581,754.366,1074.702,1006.22,940.413,1100.85,973.599,921.762,970.932,946.487,1052.159,928.274,1026.686,1168.247,1140.399,867.003,781.97,1196.03,934.684,1036.517,1010.809,1114.88,850.782,981.059,1189.483,1073.138,855.392,1141.296,820.106,930.619,1084.306,1024.207,908.357,1026.109,1097.299,1008.276,928.016,841.666,995.692,1230.233,1017.749,840.545,989.917,916.396,1106.033,941.429,713.775,1011.054,1099.568,1202.369,1006.028,998.793,1033.87,757.295,943.599,1113.607,1112.784,718.847,678.815,1006.375,1065.68,836.109,1018.353,1079.752,1079.973,1014.268,907.423,1120.777,894.039,1047.037,1176.657,727.561,1103.236,1073.916,1163.528,983.385,909.681,798.546,897.111,1165.084,1074.108,897.796,971.938,1046.52,1130.673,1254.861,979.727,1068.375,935.816,910.837,761.131,915.379,719.935,873.837,1038.741,1118.999,1080.007,1179.374,713.94,772.501,782.362,1104.717,931.451,766.531,858.386,997.276,939.149,962.708,971.185,1080.034,1023.064,683.004,1114.488,1146.164,1148.363,1193.908,882.669,977.095,966.758,1067.692,1035.277,997.264,1154.562,1043.187,961.439,801.526,1590.354,1432.006,1276.807,1216.979,1083.477,1530.315,1497.515,1366.74,1373.537,1367.331,1325.947,1177.714,1552.54,836.625,1486.769,1051.553,1383.647,1791.568,1685.283,1893.414,1075.404,1322.814,1305.144,1604.103,1170.091,1652.694,1423.997,1306.577,1446.923,1870.28,1529.79,1087.034,1351.422,1190.813,1582.146,1182.575,1306.455,2697.753,1262.578,1199.017,1559.214,1131.54,1269.066,1117.107,1159.779,1535.287,1394.088,1130.395,1480.951,1289.209,1422.014,1654.986,1101.879,1507.939,1277.388,1331.797,2303.69,1755.167,1544.712,1781.378,1192.014,1226.244,1268.05,1182.274,1580.961,1698.394,1827.9,1244.252,1081.68,1173.259,1626.909,1202.583,1754.378,1365.577,980.39,1419.577,1071.644,1621.959,1455.893,1157.109,1328.744,1390.73,1222.158,1488.84,1687.178,1131.53,1299.386,1139.84,1595.364,1352.482,1725.003,1744.271,1536.473,1356.398,1332.203,1099.228,1239.54,1419.16,1522.028,1256.322,1234.547,1105.79,1726.246,1177.858,1143.294,1418.304,1244.054,1162.004,1144.344,1471.508,1630.704,1506.255,1246.361,1394.1,1378.308,1458.551,1388.476,1564.694,1488.324,1293.559,1345.426,1122.831,1222.886,1680.121,1865.297,1529.068,1378.774,1457.016,1459.345,1513.352,1866.091,1736.839,1531.955,1396.906,1307.683,1006.984,1679.562,1257.029,1390.4,1377.248,1647.505,1293.225,1508.934,1388.684,1502.661,1219.105,950.297,1290.239,1144.036,1570.502,1295.377,1447.684,1157.089,1461.03,1266.255,1629.634,1137.706,1021.989,1393.213,1459.584,1127.889,1062.07,1461.111,1361.884,963.009,1277.791,1687.866,1393.974,1302.472,1369.202,1169.476,1594.209,1766.873,1562.268,1187.724,1270.564,1391.207,1263.012,1302.361,1238.163,1260.343,1270.266,1182.561,945.828,1753.016,1046.692,1266.876,1646.559,1266.657,1128.077,1251.679,1446.145,1130.427,1295.27,1357.888,1328.07,1173.308,1114.454,1077.419,1313.092,1700.937,1343.017,1259.069,1281.252,1660.677,1027.513,1591.894,1803.686,1193.836,1174.203,934.49,1608.599,771.797,1162.37,1398.545,1156.718,1622.032,1315.843,1876.028,1245.034,1646.525,1789.254,1298.138,1317.687,1100.929,1370.914,930.051,1539.429,1679.075,1499.355,1075.8,1624.343,1425.109,1036.527,1209.622,1251.802,1056.491,1531.744,968.697,1205.863,1217.127,1495.983,1539.944,921.059,2289.889,1207.534,1182.21,1157.771,1194.631,1485.99,1434.389,1500.251,1633.723,1509.374,1513.469,1162.608,987.617,1265.032,1876.307,1316.871,1030.757,1724.662,1214.981,1316.398,1246.2,1229.813,1399.672,940.363,1183.981,1360.821,1024.169,1244.563,1549.185,1238.627,1239.314,1148.633,1184.581,1385.645,936.823,1153.618,1198.853,1140.605,1345.687,1273.128,1217.831,1429.352,1407.401,889.743,1635.791,1176.227,1405.868,1484.334,1354.715,1339.098,934.708,1161.291,1526.711,1622.58,1320.46,1258.683,1281.378,1695.23,919.419,1148.146,1456.757,1689.585,1544.342,1272.882,1254.468,1393.335,1475.658,1087.108,1297.147,1323.557,1130.405,1418.385,1199.809,1535.248,1739.277,1639.103,1412.02,1622.809,1126.765,1285.854,1205.819,1184.156,1641.14,1628.157,1557.606,1285.063,1085.215,1607.527,940.542,1311.161,1162.256,1006.598,1521.811,1347.989,1404.303,1166.517,1267.646,1576.336,1204.623,1135.68,1297.279,1183.236,1187.085,1216.104,1027.206,1163.021,1510.852,1554.365,1182.852,1547.081,1812.569,1008.134,1553.114,1068.727,1258.966,1298.731,1400.524,1202.493,1942.05,1755.968,1258.062,1374.171,1015.021,1126.518,1225.352,1142.632,1548.609,1403.043,977.906,1284.69,1303.224,956.302,874.091,1063.621,1172.642,1496.062,1414.078,859.326,1209.582,1144.959,1538.316,1271.343,2352.029,1512.658,1173.39,1028.839,862.001,1204.61,1310.51,1229.91,1248.75,1560.016,1078.409,1641.456,1191.348,1261.988,1360.497,1079.578,1091.499,1426.6,1147.6,1831.909,1563.83,1311.522,1034.144,1478.596,1574.164,915.13,1259.934,1105.042,1453.895,1555.816,1853.893,1085.157,1530.598,1205.141,1681.985,1295.591,1022.705,1254.755,1233.824,1230.493,1469.764,1422.242,1585.782,1243.987,1947.46,1557.266,1316.112,1592.095,1319.435,927.283,1449.803,1269.68,1041.27,1175.034,1226.892,1235.078,1596.356,1682.478,1392.653,1129.072,1214.252,1292.828,1258.548,1272.862],\"type\":\"histogram\"}],                        {\"barmode\":\"overlay\",\"legend\":{\"bgcolor\":\"#F5F6F9\",\"font\":{\"color\":\"#4D5663\"}},\"paper_bgcolor\":\"#F5F6F9\",\"plot_bgcolor\":\"#F5F6F9\",\"template\":{\"data\":{\"barpolar\":[{\"marker\":{\"line\":{\"color\":\"#E5ECF6\",\"width\":0.5},\"pattern\":{\"fillmode\":\"overlay\",\"size\":10,\"solidity\":0.2}},\"type\":\"barpolar\"}],\"bar\":[{\"error_x\":{\"color\":\"#2a3f5f\"},\"error_y\":{\"color\":\"#2a3f5f\"},\"marker\":{\"line\":{\"color\":\"#E5ECF6\",\"width\":0.5},\"pattern\":{\"fillmode\":\"overlay\",\"size\":10,\"solidity\":0.2}},\"type\":\"bar\"}],\"carpet\":[{\"aaxis\":{\"endlinecolor\":\"#2a3f5f\",\"gridcolor\":\"white\",\"linecolor\":\"white\",\"minorgridcolor\":\"white\",\"startlinecolor\":\"#2a3f5f\"},\"baxis\":{\"endlinecolor\":\"#2a3f5f\",\"gridcolor\":\"white\",\"linecolor\":\"white\",\"minorgridcolor\":\"white\",\"startlinecolor\":\"#2a3f5f\"},\"type\":\"carpet\"}],\"choropleth\":[{\"colorbar\":{\"outlinewidth\":0,\"ticks\":\"\"},\"type\":\"choropleth\"}],\"contourcarpet\":[{\"colorbar\":{\"outlinewidth\":0,\"ticks\":\"\"},\"type\":\"contourcarpet\"}],\"contour\":[{\"colorbar\":{\"outlinewidth\":0,\"ticks\":\"\"},\"colorscale\":[[0.0,\"#0d0887\"],[0.1111111111111111,\"#46039f\"],[0.2222222222222222,\"#7201a8\"],[0.3333333333333333,\"#9c179e\"],[0.4444444444444444,\"#bd3786\"],[0.5555555555555556,\"#d8576b\"],[0.6666666666666666,\"#ed7953\"],[0.7777777777777778,\"#fb9f3a\"],[0.8888888888888888,\"#fdca26\"],[1.0,\"#f0f921\"]],\"type\":\"contour\"}],\"heatmapgl\":[{\"colorbar\":{\"outlinewidth\":0,\"ticks\":\"\"},\"colorscale\":[[0.0,\"#0d0887\"],[0.1111111111111111,\"#46039f\"],[0.2222222222222222,\"#7201a8\"],[0.3333333333333333,\"#9c179e\"],[0.4444444444444444,\"#bd3786\"],[0.5555555555555556,\"#d8576b\"],[0.6666666666666666,\"#ed7953\"],[0.7777777777777778,\"#fb9f3a\"],[0.8888888888888888,\"#fdca26\"],[1.0,\"#f0f921\"]],\"type\":\"heatmapgl\"}],\"heatmap\":[{\"colorbar\":{\"outlinewidth\":0,\"ticks\":\"\"},\"colorscale\":[[0.0,\"#0d0887\"],[0.1111111111111111,\"#46039f\"],[0.2222222222222222,\"#7201a8\"],[0.3333333333333333,\"#9c179e\"],[0.4444444444444444,\"#bd3786\"],[0.5555555555555556,\"#d8576b\"],[0.6666666666666666,\"#ed7953\"],[0.7777777777777778,\"#fb9f3a\"],[0.8888888888888888,\"#fdca26\"],[1.0,\"#f0f921\"]],\"type\":\"heatmap\"}],\"histogram2dcontour\":[{\"colorbar\":{\"outlinewidth\":0,\"ticks\":\"\"},\"colorscale\":[[0.0,\"#0d0887\"],[0.1111111111111111,\"#46039f\"],[0.2222222222222222,\"#7201a8\"],[0.3333333333333333,\"#9c179e\"],[0.4444444444444444,\"#bd3786\"],[0.5555555555555556,\"#d8576b\"],[0.6666666666666666,\"#ed7953\"],[0.7777777777777778,\"#fb9f3a\"],[0.8888888888888888,\"#fdca26\"],[1.0,\"#f0f921\"]],\"type\":\"histogram2dcontour\"}],\"histogram2d\":[{\"colorbar\":{\"outlinewidth\":0,\"ticks\":\"\"},\"colorscale\":[[0.0,\"#0d0887\"],[0.1111111111111111,\"#46039f\"],[0.2222222222222222,\"#7201a8\"],[0.3333333333333333,\"#9c179e\"],[0.4444444444444444,\"#bd3786\"],[0.5555555555555556,\"#d8576b\"],[0.6666666666666666,\"#ed7953\"],[0.7777777777777778,\"#fb9f3a\"],[0.8888888888888888,\"#fdca26\"],[1.0,\"#f0f921\"]],\"type\":\"histogram2d\"}],\"histogram\":[{\"marker\":{\"pattern\":{\"fillmode\":\"overlay\",\"size\":10,\"solidity\":0.2}},\"type\":\"histogram\"}],\"mesh3d\":[{\"colorbar\":{\"outlinewidth\":0,\"ticks\":\"\"},\"type\":\"mesh3d\"}],\"parcoords\":[{\"line\":{\"colorbar\":{\"outlinewidth\":0,\"ticks\":\"\"}},\"type\":\"parcoords\"}],\"pie\":[{\"automargin\":true,\"type\":\"pie\"}],\"scatter3d\":[{\"line\":{\"colorbar\":{\"outlinewidth\":0,\"ticks\":\"\"}},\"marker\":{\"colorbar\":{\"outlinewidth\":0,\"ticks\":\"\"}},\"type\":\"scatter3d\"}],\"scattercarpet\":[{\"marker\":{\"colorbar\":{\"outlinewidth\":0,\"ticks\":\"\"}},\"type\":\"scattercarpet\"}],\"scattergeo\":[{\"marker\":{\"colorbar\":{\"outlinewidth\":0,\"ticks\":\"\"}},\"type\":\"scattergeo\"}],\"scattergl\":[{\"marker\":{\"colorbar\":{\"outlinewidth\":0,\"ticks\":\"\"}},\"type\":\"scattergl\"}],\"scattermapbox\":[{\"marker\":{\"colorbar\":{\"outlinewidth\":0,\"ticks\":\"\"}},\"type\":\"scattermapbox\"}],\"scatterpolargl\":[{\"marker\":{\"colorbar\":{\"outlinewidth\":0,\"ticks\":\"\"}},\"type\":\"scatterpolargl\"}],\"scatterpolar\":[{\"marker\":{\"colorbar\":{\"outlinewidth\":0,\"ticks\":\"\"}},\"type\":\"scatterpolar\"}],\"scatter\":[{\"marker\":{\"colorbar\":{\"outlinewidth\":0,\"ticks\":\"\"}},\"type\":\"scatter\"}],\"scatterternary\":[{\"marker\":{\"colorbar\":{\"outlinewidth\":0,\"ticks\":\"\"}},\"type\":\"scatterternary\"}],\"surface\":[{\"colorbar\":{\"outlinewidth\":0,\"ticks\":\"\"},\"colorscale\":[[0.0,\"#0d0887\"],[0.1111111111111111,\"#46039f\"],[0.2222222222222222,\"#7201a8\"],[0.3333333333333333,\"#9c179e\"],[0.4444444444444444,\"#bd3786\"],[0.5555555555555556,\"#d8576b\"],[0.6666666666666666,\"#ed7953\"],[0.7777777777777778,\"#fb9f3a\"],[0.8888888888888888,\"#fdca26\"],[1.0,\"#f0f921\"]],\"type\":\"surface\"}],\"table\":[{\"cells\":{\"fill\":{\"color\":\"#EBF0F8\"},\"line\":{\"color\":\"white\"}},\"header\":{\"fill\":{\"color\":\"#C8D4E3\"},\"line\":{\"color\":\"white\"}},\"type\":\"table\"}]},\"layout\":{\"annotationdefaults\":{\"arrowcolor\":\"#2a3f5f\",\"arrowhead\":0,\"arrowwidth\":1},\"autotypenumbers\":\"strict\",\"coloraxis\":{\"colorbar\":{\"outlinewidth\":0,\"ticks\":\"\"}},\"colorscale\":{\"diverging\":[[0,\"#8e0152\"],[0.1,\"#c51b7d\"],[0.2,\"#de77ae\"],[0.3,\"#f1b6da\"],[0.4,\"#fde0ef\"],[0.5,\"#f7f7f7\"],[0.6,\"#e6f5d0\"],[0.7,\"#b8e186\"],[0.8,\"#7fbc41\"],[0.9,\"#4d9221\"],[1,\"#276419\"]],\"sequential\":[[0.0,\"#0d0887\"],[0.1111111111111111,\"#46039f\"],[0.2222222222222222,\"#7201a8\"],[0.3333333333333333,\"#9c179e\"],[0.4444444444444444,\"#bd3786\"],[0.5555555555555556,\"#d8576b\"],[0.6666666666666666,\"#ed7953\"],[0.7777777777777778,\"#fb9f3a\"],[0.8888888888888888,\"#fdca26\"],[1.0,\"#f0f921\"]],\"sequentialminus\":[[0.0,\"#0d0887\"],[0.1111111111111111,\"#46039f\"],[0.2222222222222222,\"#7201a8\"],[0.3333333333333333,\"#9c179e\"],[0.4444444444444444,\"#bd3786\"],[0.5555555555555556,\"#d8576b\"],[0.6666666666666666,\"#ed7953\"],[0.7777777777777778,\"#fb9f3a\"],[0.8888888888888888,\"#fdca26\"],[1.0,\"#f0f921\"]]},\"colorway\":[\"#636efa\",\"#EF553B\",\"#00cc96\",\"#ab63fa\",\"#FFA15A\",\"#19d3f3\",\"#FF6692\",\"#B6E880\",\"#FF97FF\",\"#FECB52\"],\"font\":{\"color\":\"#2a3f5f\"},\"geo\":{\"bgcolor\":\"white\",\"lakecolor\":\"white\",\"landcolor\":\"#E5ECF6\",\"showlakes\":true,\"showland\":true,\"subunitcolor\":\"white\"},\"hoverlabel\":{\"align\":\"left\"},\"hovermode\":\"closest\",\"mapbox\":{\"style\":\"light\"},\"paper_bgcolor\":\"white\",\"plot_bgcolor\":\"#E5ECF6\",\"polar\":{\"angularaxis\":{\"gridcolor\":\"white\",\"linecolor\":\"white\",\"ticks\":\"\"},\"bgcolor\":\"#E5ECF6\",\"radialaxis\":{\"gridcolor\":\"white\",\"linecolor\":\"white\",\"ticks\":\"\"}},\"scene\":{\"xaxis\":{\"backgroundcolor\":\"#E5ECF6\",\"gridcolor\":\"white\",\"gridwidth\":2,\"linecolor\":\"white\",\"showbackground\":true,\"ticks\":\"\",\"zerolinecolor\":\"white\"},\"yaxis\":{\"backgroundcolor\":\"#E5ECF6\",\"gridcolor\":\"white\",\"gridwidth\":2,\"linecolor\":\"white\",\"showbackground\":true,\"ticks\":\"\",\"zerolinecolor\":\"white\"},\"zaxis\":{\"backgroundcolor\":\"#E5ECF6\",\"gridcolor\":\"white\",\"gridwidth\":2,\"linecolor\":\"white\",\"showbackground\":true,\"ticks\":\"\",\"zerolinecolor\":\"white\"}},\"shapedefaults\":{\"line\":{\"color\":\"#2a3f5f\"}},\"ternary\":{\"aaxis\":{\"gridcolor\":\"white\",\"linecolor\":\"white\",\"ticks\":\"\"},\"baxis\":{\"gridcolor\":\"white\",\"linecolor\":\"white\",\"ticks\":\"\"},\"bgcolor\":\"#E5ECF6\",\"caxis\":{\"gridcolor\":\"white\",\"linecolor\":\"white\",\"ticks\":\"\"}},\"title\":{\"x\":0.05},\"xaxis\":{\"automargin\":true,\"gridcolor\":\"white\",\"linecolor\":\"white\",\"ticks\":\"\",\"title\":{\"standoff\":15},\"zerolinecolor\":\"white\",\"zerolinewidth\":2},\"yaxis\":{\"automargin\":true,\"gridcolor\":\"white\",\"linecolor\":\"white\",\"ticks\":\"\",\"title\":{\"standoff\":15},\"zerolinecolor\":\"white\",\"zerolinewidth\":2}}},\"title\":{\"font\":{\"color\":\"#4D5663\"}},\"xaxis\":{\"gridcolor\":\"#E1E5ED\",\"showgrid\":true,\"tickfont\":{\"color\":\"#4D5663\"},\"title\":{\"font\":{\"color\":\"#4D5663\"},\"text\":\"\"},\"zerolinecolor\":\"#E1E5ED\"},\"yaxis\":{\"gridcolor\":\"#E1E5ED\",\"showgrid\":true,\"tickfont\":{\"color\":\"#4D5663\"},\"title\":{\"font\":{\"color\":\"#4D5663\"},\"text\":\"\"},\"zerolinecolor\":\"#E1E5ED\"}},                        {\"showLink\": true, \"linkText\": \"Export to plot.ly\", \"plotlyServerURL\": \"https://plot.ly\", \"responsive\": true}                    ).then(function(){\n",
       "                            \n",
       "var gd = document.getElementById('67e2422d-d358-4d4a-a0cc-4bdc0e401802');\n",
       "var x = new MutationObserver(function (mutations, observer) {{\n",
       "        var display = window.getComputedStyle(gd).display;\n",
       "        if (!display || display === 'none') {{\n",
       "            console.log([gd, 'removed!']);\n",
       "            Plotly.purge(gd);\n",
       "            observer.disconnect();\n",
       "        }}\n",
       "}});\n",
       "\n",
       "// Listen for the removal of the full notebook cells\n",
       "var notebookContainer = gd.closest('#notebook-container');\n",
       "if (notebookContainer) {{\n",
       "    x.observe(notebookContainer, {childList: true});\n",
       "}}\n",
       "\n",
       "// Listen for the clearing of the current output cell\n",
       "var outputEl = gd.closest('.output');\n",
       "if (outputEl) {{\n",
       "    x.observe(outputEl, {childList: true});\n",
       "}}\n",
       "\n",
       "                        })                };                            </script>        </div>\n",
       "</body>\n",
       "</html>"
      ]
     },
     "metadata": {},
     "output_type": "display_data"
    }
   ],
   "source": [
    "df.iloc[:,:-1].iplot(kind=\"hist\")"
   ]
  },
  {
   "cell_type": "markdown",
   "id": "ab14529b-fa6d-4594-9740-4423f7e8e5d2",
   "metadata": {
    "id": "ab14529b-fa6d-4594-9740-4423f7e8e5d2"
   },
   "source": [
    "## Train | Test Split and Scaling\n",
    "\n",
    "* for train_test_split use fallowing arguments:\n",
    "    * train_size: 0.2\n",
    "    * stratify: True\n",
    "    * random_state: 10    \n",
    "* Use StandardScaler to scale the data."
   ]
  },
  {
   "cell_type": "markdown",
   "id": "4e3dcb9c",
   "metadata": {
    "id": "4e3dcb9c"
   },
   "source": [
    "# Logistic Regression\n",
    "\n",
    "* Train the model using the training set with the default parameters."
   ]
  },
  {
   "cell_type": "code",
   "execution_count": null,
   "id": "6bf6cd7e",
   "metadata": {
    "id": "6bf6cd7e"
   },
   "outputs": [],
   "source": []
  },
  {
   "cell_type": "markdown",
   "id": "61461cd3",
   "metadata": {
    "id": "61461cd3"
   },
   "source": [
    "## Model Performance\n",
    "*Check the accuracy of the model using the train and test set by given eval_metric function."
   ]
  },
  {
   "cell_type": "code",
   "execution_count": null,
   "id": "9247e1d5",
   "metadata": {
    "id": "9247e1d5"
   },
   "outputs": [],
   "source": [
    "def eval_metric(model, X_train, y_train, X_test, y_test):\n",
    "\n",
    "    \"\"\" to get the metrics for the model \"\"\"\n",
    "\n",
    "    y_train_pred = model.predict(X_train)\n",
    "    y_pred = model.predict(X_test)\n",
    "    \n",
    "    print(\"Test_Set\")\n",
    "    print(confusion_matrix(y_test, y_pred))\n",
    "    print(classification_report(y_test, y_pred))\n",
    "    print()\n",
    "    print(\"Train_Set\")\n",
    "    print(confusion_matrix(y_train, y_train_pred))\n",
    "    print(classification_report(y_train, y_train_pred))"
   ]
  },
  {
   "cell_type": "markdown",
   "id": "e101279a",
   "metadata": {
    "id": "e101279a"
   },
   "source": [
    "### Cross Validate\n",
    "\n",
    "* Use the cross_val_score function to evaluate the model using the train set."
   ]
  },
  {
   "cell_type": "code",
   "execution_count": null,
   "id": "133677c2",
   "metadata": {
    "id": "133677c2"
   },
   "outputs": [],
   "source": []
  },
  {
   "cell_type": "markdown",
   "id": "fd39b4ec",
   "metadata": {
    "id": "fd39b4ec"
   },
   "source": [
    "### GridSearchCV\n",
    "* Use the GridSearchCV function to find the best parameters for the model."
   ]
  },
  {
   "cell_type": "markdown",
   "id": "9dc6e45b",
   "metadata": {
    "id": "9dc6e45b"
   },
   "source": [
    "## ROC (Receiver Operating Curve) and AUC (Area Under Curve)\n",
    "\n",
    "* Use the roc_curve function to calculate the ROC curve and compare logistic regression models with default and tuned parameters. "
   ]
  },
  {
   "cell_type": "code",
   "execution_count": null,
   "id": "8b616a61",
   "metadata": {
    "id": "8b616a61"
   },
   "outputs": [],
   "source": []
  },
  {
   "cell_type": "markdown",
   "id": "9d05a8cd",
   "metadata": {
    "id": "9d05a8cd"
   },
   "source": [
    "## KNN (K-Nearest Neighbors)\n",
    "* Train the model using the training set with the default parameters."
   ]
  },
  {
   "cell_type": "code",
   "execution_count": null,
   "id": "36c09ea9",
   "metadata": {
    "id": "36c09ea9"
   },
   "outputs": [],
   "source": []
  },
  {
   "cell_type": "markdown",
   "id": "1c42ff0e",
   "metadata": {
    "id": "1c42ff0e"
   },
   "source": [
    "### Elbow Method for Choosing Reasonable K Values\n",
    "* Use the elbow method to find the optimal number of neighbors."
   ]
  },
  {
   "cell_type": "markdown",
   "id": "c8c8f70c",
   "metadata": {
    "id": "c8c8f70c"
   },
   "source": [
    "### Scores by Various K Values\n",
    "* Select some k values smaller and bigger than the optimal k value to see how the model performs."
   ]
  },
  {
   "cell_type": "code",
   "execution_count": null,
   "id": "acd1874c",
   "metadata": {
    "id": "acd1874c"
   },
   "outputs": [],
   "source": []
  },
  {
   "cell_type": "markdown",
   "id": "cdcce784",
   "metadata": {
    "id": "cdcce784"
   },
   "source": [
    "### Cross Validate\n",
    "* Use the cross_val_score function to evaluate the model using the train set. Use optimal k value which you found in the elbow method."
   ]
  },
  {
   "cell_type": "code",
   "execution_count": null,
   "id": "8b902160",
   "metadata": {
    "id": "8b902160"
   },
   "outputs": [],
   "source": []
  },
  {
   "cell_type": "markdown",
   "id": "6c4a1f44",
   "metadata": {
    "id": "6c4a1f44"
   },
   "source": [
    "\n",
    "### Gridsearch Method for Choosing Reasonable K Values\n",
    "* Use the GridSearchCV function to find the best parameters for the model. this method is brute force method to find the best parameters, and it takes a long time to run for KNN. You will get different k values because of you will use different parameters, and also gridsearch method tries to find minimum error. Sometimes it get larger k values for optimal but for  sake of reduce complexity we use the elbow method to find the optimal k value."
   ]
  },
  {
   "cell_type": "code",
   "execution_count": null,
   "id": "9ab85c3f",
   "metadata": {
    "id": "9ab85c3f"
   },
   "outputs": [],
   "source": []
  },
  {
   "cell_type": "markdown",
   "id": "b4d9aebd",
   "metadata": {
    "id": "b4d9aebd"
   },
   "source": [
    "### Evaluating ROC Curves and AUC\n",
    "*Use the roc_curve function to calculate the ROC curve and compare KNN models with default and tuned parameters."
   ]
  },
  {
   "cell_type": "code",
   "execution_count": null,
   "id": "28981c26",
   "metadata": {
    "id": "28981c26"
   },
   "outputs": [],
   "source": []
  },
  {
   "cell_type": "markdown",
   "id": "8373bd76",
   "metadata": {
    "id": "8373bd76"
   },
   "source": [
    "# Conclusion \n",
    "* Write a short summary of your findings, and decide which model you will use and why."
   ]
  },
  {
   "cell_type": "code",
   "execution_count": null,
   "id": "b82575fa",
   "metadata": {
    "id": "b82575fa"
   },
   "outputs": [],
   "source": []
  },
  {
   "cell_type": "markdown",
   "id": "P_PfXh7nHgj9",
   "metadata": {
    "id": "P_PfXh7nHgj9"
   },
   "source": [
    "___\n",
    "\n",
    "<p style=\"text-align: center;\"><img src=\"https://docs.google.com/uc?id=1lY0Uj5R04yMY3-ZppPWxqCr5pvBLYPnV\" class=\"img-fluid\" alt=\"CLRSWY\"></p>\n",
    "\n",
    "___"
   ]
  }
 ],
 "metadata": {
  "colab": {
   "provenance": []
  },
  "hide_input": false,
  "interpreter": {
   "hash": "b91502e98c93ec413571a3c4a71c4e7e2f090119475bdef759aa0802c5125d05"
  },
  "kernelspec": {
   "display_name": "Python 3 (ipykernel)",
   "language": "python",
   "name": "python3"
  },
  "language_info": {
   "codemirror_mode": {
    "name": "ipython",
    "version": 3
   },
   "file_extension": ".py",
   "mimetype": "text/x-python",
   "name": "python",
   "nbconvert_exporter": "python",
   "pygments_lexer": "ipython3",
   "version": "3.9.12"
  },
  "toc": {
   "base_numbering": 1,
   "nav_menu": {},
   "number_sections": true,
   "sideBar": true,
   "skip_h1_title": false,
   "title_cell": "Table of Contents",
   "title_sidebar": "Contents",
   "toc_cell": false,
   "toc_position": {},
   "toc_section_display": true,
   "toc_window_display": false
  },
  "varInspector": {
   "cols": {
    "lenName": 16,
    "lenType": 16,
    "lenVar": 40
   },
   "kernels_config": {
    "python": {
     "delete_cmd_postfix": "",
     "delete_cmd_prefix": "del ",
     "library": "var_list.py",
     "varRefreshCmd": "print(var_dic_list())"
    },
    "r": {
     "delete_cmd_postfix": ") ",
     "delete_cmd_prefix": "rm(",
     "library": "var_list.r",
     "varRefreshCmd": "cat(var_dic_list()) "
    }
   },
   "types_to_exclude": [
    "module",
    "function",
    "builtin_function_or_method",
    "instance",
    "_Feature"
   ],
   "window_display": false
  }
 },
 "nbformat": 4,
 "nbformat_minor": 5
}
